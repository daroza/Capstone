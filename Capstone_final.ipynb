{
 "cells": [
  {
   "cell_type": "code",
   "execution_count": 1,
   "metadata": {
    "collapsed": false
   },
   "outputs": [
    {
     "name": "stdout",
     "output_type": "stream",
     "text": [
      "/Users/eduardodaroza/intro_dsi/capstone/Capstone/games\n"
     ]
    }
   ],
   "source": [
    "cd games"
   ]
  },
  {
   "cell_type": "markdown",
   "metadata": {},
   "source": [
    "Loaded chess data in /src/dataloading.py to assemble combined.pgn"
   ]
  },
  {
   "cell_type": "markdown",
   "metadata": {},
   "source": [
    "# Chess Prediction and Recommendation\n"
   ]
  },
  {
   "cell_type": "markdown",
   "metadata": {},
   "source": [
    "#### A Capstone Project by Eduardo Daroza - Galvanize Data Science Immersive"
   ]
  },
  {
   "cell_type": "markdown",
   "metadata": {},
   "source": [
    "*using CRISP - DM (Cross Industry Standard Process for Data Mining)\n"
   ]
  },
  {
   "cell_type": "markdown",
   "metadata": {},
   "source": [
    "1. Business Understanding\n",
    "---\n",
    "\n",
    "This initial phase focuses on understanding the project objectives and requirements from a business perspective, and then converting this knowledge into a data mining problem definition, and a preliminary plan designed to achieve the objectives. A decision model, especially one built using the Decision Model and Notation standard can be used.\n"
   ]
  },
  {
   "cell_type": "markdown",
   "metadata": {},
   "source": [
    "In chess, prediction of your opponents opening choice prior to the game provides a competitive advantage especially if a player has time to prepare some counter strategies.  Statistically studies have shown that playing white provides a small but measurable advantage in practive since white has the first move and may general has more influence in the opening battle.  \n",
    "\n",
    "This capstone project will use chess data freely available on the web to aid in opening prediction to aid in the pre-game preparation for a chess player.  The goal will be train an ensemble model to first predict likely opening White moves based a data set of two million games and then to recommend those openings moves which should provide a better likelihood probability of success based on your opponents prior history and that of the likelihood of success of the opening in the dataset.  I will be breaking up the problem into two parts. \n",
    "\n",
    "i: First predict the three most likely moves to be made by the opponent.\n",
    "\n",
    "ii: Second based on the data which responses provide the likelihood of success and to estimate the probability of success for those responses.\n",
    "\n",
    "The user interface will be presented online on Elastic Beanstalk web use flask and a NoSQL db such as mongodb or Dynamodb to store the games for retrieval.\n",
    "\n",
    "If time allows, I will explore chess style based on openings to try to provide categories of players and provide an interface for the user to practice the opening recommendations using stockfish open source engine.\n"
   ]
  },
  {
   "cell_type": "markdown",
   "metadata": {},
   "source": [
    "2. Data Understanding\n",
    "---\n",
    "The data understanding phase starts with an initial data collection and proceeds with activities in order to get familiar with the data, to identify data quality problems, to discover first insights into the data, or to detect interesting subsets to form hypotheses for hidden information.\n"
   ]
  },
  {
   "cell_type": "markdown",
   "metadata": {},
   "source": [
    "The web has several chess datasets consisting of millions of historical games.  Chess games are stored in a PGN (portable game notation) file format which is ascii readable and provides the game as well as metadata including the players, ratings, date, and result. \n",
    "\n",
    "My first dataset was obtained from http://www.top-5000.nl/pgn.htm as the 2.2 millionbase consisting of over 2 million games.  After some initial data exploration I found some of my own games, however more than 40% of the meta data was incomplete include opening information.  Attempts to scrape the missing data where resource intensive and error prone so I was able to find an alternative data set which had much better data fidelity."
   ]
  },
  {
   "cell_type": "markdown",
   "metadata": {},
   "source": [
    "3. Data Preparation\n",
    "---\n",
    "The data preparation phase covers all activities to construct the final dataset (data that will be fed into the modeling tool(s)) from the initial raw data. Data preparation tasks are likely to be performed multiple times, and not in any prescribed order. Tasks include table, record, and attribute selection as well as transformation and cleaning of data for modeling tools."
   ]
  },
  {
   "cell_type": "markdown",
   "metadata": {},
   "source": [
    "I used pandas for much of my initial EDA with a shard of 40,000 games and built my Minimal Viable product.  Below I have included some of the observations I made during the data exploration phase and the subsequent data cleaning and feature engineering used prior to the modeling phase. There is a seperate dataloading.py in my github repo which has some code used to combine the seperate pgns and some webscraping functions.\n",
    "\n"
   ]
  },
  {
   "cell_type": "code",
   "execution_count": 2,
   "metadata": {
    "collapsed": false
   },
   "outputs": [],
   "source": [
    "import sys  \n",
    "\n",
    "reload(sys)  \n",
    "sys.setdefaultencoding('utf8')\n",
    "from __future__ import unicode_literals\n",
    "\n",
    "game={}\n",
    "games = []\n",
    "\n",
    "pgn_file=\"combined.pgn\"\n",
    "\n",
    "with open(pgn_file,'r') as datafile:\n",
    "    for line in datafile:\n",
    "        line = line.decode('latin-1').encode(\"utf-8\")       \n",
    "        if line.startswith('['):\n",
    "            tag,value=line[1:-1].split(' ',1)\n",
    "            game[str(tag).lower()]=value.replace(\"]\",\"\").strip('\"').encode('ascii', 'ignore')\n",
    "        elif line.startswith('1.'):\n",
    "            #only read first line: could add more readlines until a space\n",
    "            game['moves']=line.encode('ascii', 'ignore')\n",
    "            games.append(game)\n",
    "            game = {}"
   ]
  },
  {
   "cell_type": "code",
   "execution_count": 3,
   "metadata": {
    "collapsed": true
   },
   "outputs": [],
   "source": [
    "df = pd.DataFrame(games) "
   ]
  },
  {
   "cell_type": "markdown",
   "metadata": {},
   "source": [
    "Ran into some encoding/unicode issues preventing loading so added decode('latin-l') due to some special character in the file.  And '\"\\r' was being appended during the dataloading so addressed this in data cleaning."
   ]
  },
  {
   "cell_type": "code",
   "execution_count": 4,
   "metadata": {
    "collapsed": false
   },
   "outputs": [
    {
     "data": {
      "text/html": [
       "<div>\n",
       "<table border=\"1\" class=\"dataframe\">\n",
       "  <thead>\n",
       "    <tr style=\"text-align: right;\">\n",
       "      <th></th>\n",
       "      <th>black</th>\n",
       "      <th>blackelo</th>\n",
       "      <th>date</th>\n",
       "      <th>eco</th>\n",
       "      <th>event</th>\n",
       "      <th>eventdate</th>\n",
       "      <th>fen</th>\n",
       "      <th>moves</th>\n",
       "      <th>result</th>\n",
       "      <th>round</th>\n",
       "      <th>setup</th>\n",
       "      <th>site</th>\n",
       "      <th>white</th>\n",
       "      <th>whiteelo</th>\n",
       "    </tr>\n",
       "  </thead>\n",
       "  <tbody>\n",
       "    <tr>\n",
       "      <th>0</th>\n",
       "      <td>Kosteniuk, Alexandra\"\\r</td>\n",
       "      <td>2554\"\\r</td>\n",
       "      <td>2016.02.29\"\\r</td>\n",
       "      <td>A05\"\\r</td>\n",
       "      <td>IMSA Blitz w 2016\"\\r</td>\n",
       "      <td>2016.02.28\"\\r</td>\n",
       "      <td>NaN</td>\n",
       "      <td>1.Nf3 Nf6 2.g3 b6 3.Bg2 Bb7 4.O-O e6 5.d3 d5 6...</td>\n",
       "      <td>0-1\"\\r</td>\n",
       "      <td>15.5\"\\r</td>\n",
       "      <td>NaN</td>\n",
       "      <td>Huai'an CHN\"\\r</td>\n",
       "      <td>Harika, Dronavalli\"\\r</td>\n",
       "      <td>2511\"\\r</td>\n",
       "    </tr>\n",
       "  </tbody>\n",
       "</table>\n",
       "</div>"
      ],
      "text/plain": [
       "                     black blackelo           date     eco  \\\n",
       "0  Kosteniuk, Alexandra\"\\r  2554\"\\r  2016.02.29\"\\r  A05\"\\r   \n",
       "\n",
       "                  event      eventdate  fen  \\\n",
       "0  IMSA Blitz w 2016\"\\r  2016.02.28\"\\r  NaN   \n",
       "\n",
       "                                               moves  result    round setup  \\\n",
       "0  1.Nf3 Nf6 2.g3 b6 3.Bg2 Bb7 4.O-O e6 5.d3 d5 6...  0-1\"\\r  15.5\"\\r   NaN   \n",
       "\n",
       "             site                  white whiteelo  \n",
       "0  Huai'an CHN\"\\r  Harika, Dronavalli\"\\r  2511\"\\r  "
      ]
     },
     "execution_count": 4,
     "metadata": {},
     "output_type": "execute_result"
    }
   ],
   "source": [
    "df.head(1)"
   ]
  },
  {
   "cell_type": "code",
   "execution_count": 5,
   "metadata": {
    "collapsed": false
   },
   "outputs": [
    {
     "data": {
      "text/html": [
       "<div>\n",
       "<table border=\"1\" class=\"dataframe\">\n",
       "  <thead>\n",
       "    <tr style=\"text-align: right;\">\n",
       "      <th></th>\n",
       "      <th>black</th>\n",
       "      <th>blackelo</th>\n",
       "      <th>date</th>\n",
       "      <th>eco</th>\n",
       "      <th>event</th>\n",
       "      <th>eventdate</th>\n",
       "      <th>fen</th>\n",
       "      <th>moves</th>\n",
       "      <th>result</th>\n",
       "      <th>round</th>\n",
       "      <th>setup</th>\n",
       "      <th>site</th>\n",
       "      <th>white</th>\n",
       "      <th>whiteelo</th>\n",
       "    </tr>\n",
       "  </thead>\n",
       "  <tbody>\n",
       "    <tr>\n",
       "      <th>1114192</th>\n",
       "      <td>Jurkovic, Hrvoje\"\\r</td>\n",
       "      <td>2426\"\\r</td>\n",
       "      <td>2006.??.??\"\\r</td>\n",
       "      <td>B22\"\\r</td>\n",
       "      <td>2. Bundesliga Mitte 2005/06 rounds 3-5\"\\r</td>\n",
       "      <td>2006.02.03\"\\r</td>\n",
       "      <td>rnbqkbnr/pppppppp/8/8/4P3/8/PPPP1PPP/RNBQKBNR ...</td>\n",
       "      <td>1...c5 2.c3 Nf6 3.e5 Nd5 4.d4 cxd4 5.Nf3 Nc6 6...</td>\n",
       "      <td>0-1\"\\r</td>\n",
       "      <td>6.3\"\\r</td>\n",
       "      <td>1\"\\r</td>\n",
       "      <td>AUT\"\\r</td>\n",
       "      <td>Jeric, Simon\"\\r</td>\n",
       "      <td>2328\"\\r</td>\n",
       "    </tr>\n",
       "  </tbody>\n",
       "</table>\n",
       "</div>"
      ],
      "text/plain": [
       "                       black blackelo           date     eco  \\\n",
       "1114192  Jurkovic, Hrvoje\"\\r  2426\"\\r  2006.??.??\"\\r  B22\"\\r   \n",
       "\n",
       "                                             event      eventdate  \\\n",
       "1114192  2. Bundesliga Mitte 2005/06 rounds 3-5\"\\r  2006.02.03\"\\r   \n",
       "\n",
       "                                                       fen  \\\n",
       "1114192  rnbqkbnr/pppppppp/8/8/4P3/8/PPPP1PPP/RNBQKBNR ...   \n",
       "\n",
       "                                                     moves  result   round  \\\n",
       "1114192  1...c5 2.c3 Nf6 3.e5 Nd5 4.d4 cxd4 5.Nf3 Nc6 6...  0-1\"\\r  6.3\"\\r   \n",
       "\n",
       "        setup    site            white whiteelo  \n",
       "1114192  1\"\\r  AUT\"\\r  Jeric, Simon\"\\r  2328\"\\r  "
      ]
     },
     "execution_count": 5,
     "metadata": {},
     "output_type": "execute_result"
    }
   ],
   "source": [
    "df[df['fen'].isnull()==False]"
   ]
  },
  {
   "cell_type": "code",
   "execution_count": 36,
   "metadata": {
    "collapsed": true
   },
   "outputs": [],
   "source": [
    "#garbage = test.pop('blackteam')\n",
    "#garbage = test.pop('blacktitle')\n",
    "#garbage = test.pop('whiteteam')\n",
    "#garbage = test.pop('whitetitle')\n",
    "#garbage = df.pop('eventdate')\n",
    "#garbage = df.pop('eventtype')\n",
    "##garbage = df.pop('site')\n",
    "#garbage = test.pop('variation')\n",
    "#garbage = df.pop('eco') # most precise drop for now in first dumb model\n",
    "#garbage = test.pop('blackfideid')\n",
    "#garbage = test.pop('whitefideid')\n",
    "#garbage = df.pop('event')\n",
    "garbage = df.pop('fen')\n",
    "garbage = df.pop('setup')\n",
    "#garbage = df.pop('round') # may have alot of variance, but keep to see if first round and last round have influence...combine with event\n",
    "#garbage = data_df.pop('opening') # second most precise drop for now in first dumb model"
   ]
  },
  {
   "cell_type": "code",
   "execution_count": 9,
   "metadata": {
    "collapsed": false,
    "scrolled": true
   },
   "outputs": [
    {
     "data": {
      "text/html": [
       "<div>\n",
       "<table border=\"1\" class=\"dataframe\">\n",
       "  <thead>\n",
       "    <tr style=\"text-align: right;\">\n",
       "      <th></th>\n",
       "      <th>black</th>\n",
       "      <th>blackelo</th>\n",
       "      <th>date</th>\n",
       "      <th>eco</th>\n",
       "      <th>event</th>\n",
       "      <th>eventdate</th>\n",
       "      <th>fen</th>\n",
       "      <th>moves</th>\n",
       "      <th>result</th>\n",
       "      <th>round</th>\n",
       "      <th>setup</th>\n",
       "      <th>site</th>\n",
       "      <th>white</th>\n",
       "      <th>whiteelo</th>\n",
       "    </tr>\n",
       "  </thead>\n",
       "  <tbody>\n",
       "    <tr>\n",
       "      <th>0</th>\n",
       "      <td>Kosteniuk, Alexandra</td>\n",
       "      <td>2554</td>\n",
       "      <td>2016.02.29</td>\n",
       "      <td>A05</td>\n",
       "      <td>IMSA Blitz w 2016</td>\n",
       "      <td>2016.02.28</td>\n",
       "      <td>NaN</td>\n",
       "      <td>1.Nf3 Nf6 2.g3 b6 3.Bg2 Bb7 4.O-O e6 5.d3 d5 6...</td>\n",
       "      <td>0-1</td>\n",
       "      <td>15.5</td>\n",
       "      <td>NaN</td>\n",
       "      <td>Huai'an CHN</td>\n",
       "      <td>Harika, Dronavalli</td>\n",
       "      <td>2511</td>\n",
       "    </tr>\n",
       "  </tbody>\n",
       "</table>\n",
       "</div>"
      ],
      "text/plain": [
       "                  black blackelo        date  eco              event  \\\n",
       "0  Kosteniuk, Alexandra     2554  2016.02.29  A05  IMSA Blitz w 2016   \n",
       "\n",
       "    eventdate  fen                                              moves result  \\\n",
       "0  2016.02.28  NaN  1.Nf3 Nf6 2.g3 b6 3.Bg2 Bb7 4.O-O e6 5.d3 d5 6...    0-1   \n",
       "\n",
       "  round setup         site               white whiteelo  \n",
       "0  15.5   NaN  Huai'an CHN  Harika, Dronavalli     2511  "
      ]
     },
     "execution_count": 9,
     "metadata": {},
     "output_type": "execute_result"
    }
   ],
   "source": [
    "df.head(1)"
   ]
  },
  {
   "cell_type": "code",
   "execution_count": 8,
   "metadata": {
    "collapsed": false
   },
   "outputs": [],
   "source": [
    "df.white = df.white.map(lambda x: x.rstrip('\"\\r'))\n",
    "df.black = df.black.map(lambda x: x.rstrip('\"\\r'))\n",
    "df.blackelo = df.blackelo.map(lambda x: x.rstrip('\"\\r'))\n",
    "df.date = df.date.map(lambda x: x.rstrip('\"\\r'))\n",
    "df.eco = df.eco.map(lambda x: x.rstrip('\"\\r'))\n",
    "df.result = df.result.map(lambda x: x.rstrip('\"\\r'))\n",
    "df.whiteelo = df.whiteelo.map(lambda x: x.rstrip('\"\\r'))\n",
    "\n",
    "df['round'] = df['round'].map(lambda x: x.rstrip('\"\\r'))\n",
    "df.event = df.event.map(lambda x: x.rstrip('\"\\r'))\n",
    "df.eventdate = df.eventdate.astype(str).map(lambda x: x.rstrip('\"\\r'))\n",
    "df.site = df.site.map(lambda x: x.rstrip('\"\\r'))\n",
    "df.moves = df.moves.map(lambda x: x.rstrip('\"\\r'))"
   ]
  },
  {
   "cell_type": "code",
   "execution_count": 10,
   "metadata": {
    "collapsed": true
   },
   "outputs": [],
   "source": [
    "d = {\n",
    "'0-1':-1.0,\n",
    "'1-0':1.0,\n",
    "'1/2-1/2':0.0\n",
    "}\n",
    "#update feature\n",
    "df['result'] = df['result'].map(d)\n"
   ]
  },
  {
   "cell_type": "code",
   "execution_count": 11,
   "metadata": {
    "collapsed": true
   },
   "outputs": [],
   "source": [
    "df.date = map(lambda x: str(x).replace(\".\",\"\"),df.date)\n",
    "df.date = pd.to_datetime(df.date, format='%Y%m%d', errors='ignore')\n",
    "df['white_first_move'] = df.moves.apply(lambda x: x.split(\" \")).apply(lambda x: x[0])\n",
    "df['black_first_move'] = df.moves.apply(lambda x: x.split(\" \")).apply(lambda x: x[1])"
   ]
  },
  {
   "cell_type": "code",
   "execution_count": 12,
   "metadata": {
    "collapsed": true
   },
   "outputs": [],
   "source": [
    "import pandas as pd\n",
    "import datetime as DT\n",
    "import io\n",
    "import numpy as np\n",
    "import math\n",
    "from matplotlib import pyplot as plt\n",
    "now = pd.Timestamp(DT.datetime.now())\n",
    "#df['age'] = (now - df['date']).astype('timedelta64[D]')"
   ]
  },
  {
   "cell_type": "markdown",
   "metadata": {
    "collapsed": true
   },
   "source": [
    "#inpute some dates for rows with \"??\""
   ]
  },
  {
   "cell_type": "code",
   "execution_count": 13,
   "metadata": {
    "collapsed": true
   },
   "outputs": [],
   "source": [
    "df.date = map(lambda x: str(x).replace(\"?\",\"1\"),df.date)\n",
    "str(df.date).find(\"?\") #validate no more missing\n",
    "df['date'] = df['date'].apply(lambda x: pd.to_datetime(str(x), format='%Y%m%d', errors='coerce'))\n",
    "\n",
    "df['age'] = (now - df['date']).astype('timedelta64[D]')\n",
    "garbage = df.pop('date')\n"
   ]
  },
  {
   "cell_type": "code",
   "execution_count": 14,
   "metadata": {
    "collapsed": false
   },
   "outputs": [
    {
     "data": {
      "text/plain": [
       "261.0"
      ]
     },
     "execution_count": 14,
     "metadata": {},
     "output_type": "execute_result"
    }
   ],
   "source": [
    "min(df.age) # most recent game is 261 days old"
   ]
  },
  {
   "cell_type": "code",
   "execution_count": 15,
   "metadata": {
    "collapsed": false
   },
   "outputs": [
    {
     "data": {
      "text/plain": [
       "9816.0"
      ]
     },
     "execution_count": 15,
     "metadata": {},
     "output_type": "execute_result"
    }
   ],
   "source": [
    "max(df.age) # oldest recent game is  9816 days old"
   ]
  },
  {
   "cell_type": "code",
   "execution_count": 16,
   "metadata": {
    "collapsed": false
   },
   "outputs": [
    {
     "data": {
      "text/plain": [
       "3894.717754091474"
      ]
     },
     "execution_count": 16,
     "metadata": {},
     "output_type": "execute_result"
    }
   ],
   "source": [
    "df.age.mean() #average is 10 years old"
   ]
  },
  {
   "cell_type": "code",
   "execution_count": 17,
   "metadata": {
    "collapsed": false
   },
   "outputs": [
    {
     "data": {
      "text/html": [
       "<div>\n",
       "<table border=\"1\" class=\"dataframe\">\n",
       "  <thead>\n",
       "    <tr style=\"text-align: right;\">\n",
       "      <th></th>\n",
       "      <th>black</th>\n",
       "      <th>blackelo</th>\n",
       "      <th>eco</th>\n",
       "      <th>event</th>\n",
       "      <th>eventdate</th>\n",
       "      <th>fen</th>\n",
       "      <th>moves</th>\n",
       "      <th>result</th>\n",
       "      <th>round</th>\n",
       "      <th>setup</th>\n",
       "      <th>site</th>\n",
       "      <th>white</th>\n",
       "      <th>whiteelo</th>\n",
       "      <th>white_first_move</th>\n",
       "      <th>black_first_move</th>\n",
       "      <th>age</th>\n",
       "    </tr>\n",
       "  </thead>\n",
       "  <tbody>\n",
       "    <tr>\n",
       "      <th>1114192</th>\n",
       "      <td>Jurkovic, Hrvoje</td>\n",
       "      <td>2426</td>\n",
       "      <td>B22</td>\n",
       "      <td>2. Bundesliga Mitte 2005/06 rounds 3-5</td>\n",
       "      <td>2006.02.03</td>\n",
       "      <td>rnbqkbnr/pppppppp/8/8/4P3/8/PPPP1PPP/RNBQKBNR ...</td>\n",
       "      <td>1...c5 2.c3 Nf6 3.e5 Nd5 4.d4 cxd4 5.Nf3 Nc6 6...</td>\n",
       "      <td>-1.0</td>\n",
       "      <td>6.3</td>\n",
       "      <td>1\"\\r</td>\n",
       "      <td>AUT</td>\n",
       "      <td>Jeric, Simon</td>\n",
       "      <td>2328</td>\n",
       "      <td>1...c5</td>\n",
       "      <td>2.c3</td>\n",
       "      <td>3658.0</td>\n",
       "    </tr>\n",
       "  </tbody>\n",
       "</table>\n",
       "</div>"
      ],
      "text/plain": [
       "                    black blackelo  eco  \\\n",
       "1114192  Jurkovic, Hrvoje     2426  B22   \n",
       "\n",
       "                                          event   eventdate  \\\n",
       "1114192  2. Bundesliga Mitte 2005/06 rounds 3-5  2006.02.03   \n",
       "\n",
       "                                                       fen  \\\n",
       "1114192  rnbqkbnr/pppppppp/8/8/4P3/8/PPPP1PPP/RNBQKBNR ...   \n",
       "\n",
       "                                                     moves  result round  \\\n",
       "1114192  1...c5 2.c3 Nf6 3.e5 Nd5 4.d4 cxd4 5.Nf3 Nc6 6...    -1.0   6.3   \n",
       "\n",
       "        setup site         white whiteelo white_first_move black_first_move  \\\n",
       "1114192  1\"\\r  AUT  Jeric, Simon     2328           1...c5             2.c3   \n",
       "\n",
       "            age  \n",
       "1114192  3658.0  "
      ]
     },
     "execution_count": 17,
     "metadata": {},
     "output_type": "execute_result"
    }
   ],
   "source": [
    "#drop some incomplete data\n",
    "df.white_first_move.unique()\n",
    "df[df.white_first_move == '1...c5']\n"
   ]
  },
  {
   "cell_type": "code",
   "execution_count": 18,
   "metadata": {
    "collapsed": true
   },
   "outputs": [],
   "source": [
    "df = df.drop(df.index[1114192])"
   ]
  },
  {
   "cell_type": "code",
   "execution_count": 19,
   "metadata": {
    "collapsed": false
   },
   "outputs": [
    {
     "data": {
      "text/html": [
       "<div>\n",
       "<table border=\"1\" class=\"dataframe\">\n",
       "  <thead>\n",
       "    <tr style=\"text-align: right;\">\n",
       "      <th></th>\n",
       "      <th>black</th>\n",
       "      <th>blackelo</th>\n",
       "      <th>eco</th>\n",
       "      <th>event</th>\n",
       "      <th>eventdate</th>\n",
       "      <th>fen</th>\n",
       "      <th>moves</th>\n",
       "      <th>result</th>\n",
       "      <th>round</th>\n",
       "      <th>setup</th>\n",
       "      <th>site</th>\n",
       "      <th>white</th>\n",
       "      <th>whiteelo</th>\n",
       "      <th>white_first_move</th>\n",
       "      <th>black_first_move</th>\n",
       "      <th>age</th>\n",
       "    </tr>\n",
       "  </thead>\n",
       "  <tbody>\n",
       "    <tr>\n",
       "      <th>0</th>\n",
       "      <td>Kosteniuk, Alexandra</td>\n",
       "      <td>2554</td>\n",
       "      <td>A05</td>\n",
       "      <td>IMSA Blitz w 2016</td>\n",
       "      <td>2016.02.28</td>\n",
       "      <td>NaN</td>\n",
       "      <td>1.Nf3 Nf6 2.g3 b6 3.Bg2 Bb7 4.O-O e6 5.d3 d5 6...</td>\n",
       "      <td>-1.0</td>\n",
       "      <td>15.5</td>\n",
       "      <td>NaN</td>\n",
       "      <td>Huai'an CHN</td>\n",
       "      <td>Harika, Dronavalli</td>\n",
       "      <td>2511</td>\n",
       "      <td>1.Nf3</td>\n",
       "      <td>Nf6</td>\n",
       "      <td>261.0</td>\n",
       "    </tr>\n",
       "  </tbody>\n",
       "</table>\n",
       "</div>"
      ],
      "text/plain": [
       "                  black blackelo  eco              event   eventdate  fen  \\\n",
       "0  Kosteniuk, Alexandra     2554  A05  IMSA Blitz w 2016  2016.02.28  NaN   \n",
       "\n",
       "                                               moves  result round setup  \\\n",
       "0  1.Nf3 Nf6 2.g3 b6 3.Bg2 Bb7 4.O-O e6 5.d3 d5 6...    -1.0  15.5   NaN   \n",
       "\n",
       "          site               white whiteelo white_first_move black_first_move  \\\n",
       "0  Huai'an CHN  Harika, Dronavalli     2511            1.Nf3              Nf6   \n",
       "\n",
       "     age  \n",
       "0  261.0  "
      ]
     },
     "execution_count": 19,
     "metadata": {},
     "output_type": "execute_result"
    }
   ],
   "source": [
    "df.head(1)"
   ]
  },
  {
   "cell_type": "code",
   "execution_count": 20,
   "metadata": {
    "collapsed": true
   },
   "outputs": [],
   "source": [
    "# calculate the ELO winning probability estimate based on ratings \n",
    "# with a 32 point rating adjustment given to white as this has been observed empirically\n",
    "# CITATION NEEDED\n",
    "def win_estimate_df(df,adj=32):\n",
    "    \"\"\"input is two ratings ratingA (white), ratingB (black)\n",
    "    and an optional adjustment factor (adj) which will be added\n",
    "    to ratingA (white). Usually white has a small advantage which\n",
    "    has been observed to be about +32 to +50\"\"\"\n",
    "    df[0] = df[0]+adj\n",
    "    diff = df[1]-df[0]\n",
    "    ex = diff/400.\n",
    "    return 1/(1+math.pow(10,ex))\n",
    "\n",
    "df.whiteelo = df.whiteelo.astype(int)\n",
    "df.blackelo = df.blackelo.astype(int)\n",
    "\n",
    "df['estimate_white_win_by_rating'] = df[['whiteelo','blackelo']].apply(win_estimate_df,axis=1)"
   ]
  },
  {
   "cell_type": "markdown",
   "metadata": {},
   "source": [
    "This is a good point to pickle the dataframe object before I do heavy cleaning and imputing"
   ]
  },
  {
   "cell_type": "code",
   "execution_count": 22,
   "metadata": {
    "collapsed": false
   },
   "outputs": [],
   "source": [
    "import cPickle as pickle\n",
    "#favorite_color = { \"lion\": \"yellow\", \"kitty\": \"red\" }\n",
    "pickle.dump(df, open( \"../data/df.pkl\", \"wb\" ) )"
   ]
  },
  {
   "cell_type": "markdown",
   "metadata": {},
   "source": [
    "i am here.  reload pickled df after crash"
   ]
  },
  {
   "cell_type": "code",
   "execution_count": 1,
   "metadata": {
    "collapsed": false
   },
   "outputs": [
    {
     "name": "stdout",
     "output_type": "stream",
     "text": [
      "/Users/eduardodaroza/intro_dsi/capstone/Capstone/games\n"
     ]
    }
   ],
   "source": [
    "cd games"
   ]
  },
  {
   "cell_type": "code",
   "execution_count": 176,
   "metadata": {
    "collapsed": false
   },
   "outputs": [],
   "source": [
    "import cPickle as pickle\n",
    "df = pickle.load( open( \"../data/df.pkl\", \"rb\" ) )"
   ]
  },
  {
   "cell_type": "code",
   "execution_count": 177,
   "metadata": {
    "collapsed": false
   },
   "outputs": [
    {
     "data": {
      "text/html": [
       "<div>\n",
       "<table border=\"1\" class=\"dataframe\">\n",
       "  <thead>\n",
       "    <tr style=\"text-align: right;\">\n",
       "      <th></th>\n",
       "      <th>black</th>\n",
       "      <th>blackelo</th>\n",
       "      <th>eco</th>\n",
       "      <th>event</th>\n",
       "      <th>eventdate</th>\n",
       "      <th>fen</th>\n",
       "      <th>moves</th>\n",
       "      <th>result</th>\n",
       "      <th>round</th>\n",
       "      <th>setup</th>\n",
       "      <th>site</th>\n",
       "      <th>white</th>\n",
       "      <th>whiteelo</th>\n",
       "      <th>white_first_move</th>\n",
       "      <th>black_first_move</th>\n",
       "      <th>age</th>\n",
       "      <th>estimate_white_win_by_rating</th>\n",
       "    </tr>\n",
       "  </thead>\n",
       "  <tbody>\n",
       "    <tr>\n",
       "      <th>0</th>\n",
       "      <td>Kosteniuk, Alexandra</td>\n",
       "      <td>2554</td>\n",
       "      <td>A05</td>\n",
       "      <td>IMSA Blitz w 2016</td>\n",
       "      <td>2016.02.28</td>\n",
       "      <td>NaN</td>\n",
       "      <td>1.Nf3 Nf6 2.g3 b6 3.Bg2 Bb7 4.O-O e6 5.d3 d5 6...</td>\n",
       "      <td>-1.0</td>\n",
       "      <td>15.5</td>\n",
       "      <td>NaN</td>\n",
       "      <td>Huai'an CHN</td>\n",
       "      <td>Harika, Dronavalli</td>\n",
       "      <td>2511</td>\n",
       "      <td>1.Nf3</td>\n",
       "      <td>Nf6</td>\n",
       "      <td>261.0</td>\n",
       "      <td>0.484175</td>\n",
       "    </tr>\n",
       "  </tbody>\n",
       "</table>\n",
       "</div>"
      ],
      "text/plain": [
       "                  black  blackelo  eco              event   eventdate  fen  \\\n",
       "0  Kosteniuk, Alexandra      2554  A05  IMSA Blitz w 2016  2016.02.28  NaN   \n",
       "\n",
       "                                               moves  result round setup  \\\n",
       "0  1.Nf3 Nf6 2.g3 b6 3.Bg2 Bb7 4.O-O e6 5.d3 d5 6...    -1.0  15.5   NaN   \n",
       "\n",
       "          site               white  whiteelo white_first_move  \\\n",
       "0  Huai'an CHN  Harika, Dronavalli      2511            1.Nf3   \n",
       "\n",
       "  black_first_move    age  estimate_white_win_by_rating  \n",
       "0              Nf6  261.0                      0.484175  "
      ]
     },
     "execution_count": 177,
     "metadata": {},
     "output_type": "execute_result"
    }
   ],
   "source": [
    "df.head(1)"
   ]
  },
  {
   "cell_type": "code",
   "execution_count": 178,
   "metadata": {
    "collapsed": false
   },
   "outputs": [],
   "source": [
    "garbage = df.pop('fen')\n",
    "garbage = df.pop('setup')"
   ]
  },
  {
   "cell_type": "code",
   "execution_count": 179,
   "metadata": {
    "collapsed": false
   },
   "outputs": [],
   "source": [
    "#breaking when trying to convert round to float as this is a huge time sync i will skip round for now\n",
    "#df[df['round'].apply(str.isdigit) == False]['round'].apply(float)"
   ]
  },
  {
   "cell_type": "code",
   "execution_count": 6,
   "metadata": {
    "collapsed": false
   },
   "outputs": [],
   "source": [
    "test = df[df['round'] != '?']['round']"
   ]
  },
  {
   "cell_type": "code",
   "execution_count": 14,
   "metadata": {
    "collapsed": false
   },
   "outputs": [
    {
     "data": {
      "text/plain": [
       "15.5"
      ]
     },
     "execution_count": 14,
     "metadata": {},
     "output_type": "execute_result"
    }
   ],
   "source": [
    "float(test.head(1)[0])"
   ]
  },
  {
   "cell_type": "code",
   "execution_count": 8,
   "metadata": {
    "collapsed": false
   },
   "outputs": [
    {
     "data": {
      "text/plain": [
       "-1"
      ]
     },
     "execution_count": 8,
     "metadata": {},
     "output_type": "execute_result"
    }
   ],
   "source": [
    "df['round'] = map(lambda x: str(x).replace(\"?\",\"3\"),df['round'])\n",
    "str(df['round']).find(\"?\") #validate no more missing"
   ]
  },
  {
   "cell_type": "code",
   "execution_count": 24,
   "metadata": {
    "collapsed": false
   },
   "outputs": [
    {
     "data": {
      "text/plain": [
       "987"
      ]
     },
     "execution_count": 24,
     "metadata": {},
     "output_type": "execute_result"
    }
   ],
   "source": [
    "df['round'] = map(lambda x: str(x).replace(\",\",\".\"),df['round'])\n",
    "str(df['round']).find(\",\") #validate no more missing"
   ]
  },
  {
   "cell_type": "markdown",
   "metadata": {},
   "source": [
    "I wanted to obtain first and last round as another feature\n",
    "as first and last rounds may correlate to opening selection.  \n",
    "and might allow me to obtain standings in the tournament another possible correlation\n",
    "however alot of missing data in round info ~47000 rows"
   ]
  },
  {
   "cell_type": "code",
   "execution_count": 59,
   "metadata": {
    "collapsed": false
   },
   "outputs": [
    {
     "data": {
      "text/plain": [
       "site                    event                               \n",
       "                                                                14.2\n",
       "'s-Hertogenbosch NED    HMC Calder Cup A                           5\n",
       "                        HMC Calder Cup B                           5\n",
       "                        HMC Calder Cup Rapid Match                 8\n",
       "(CL 9-92)               (CL 9-92)                                  ?\n",
       "(CL11_92)               (CL11_92)                                  ?\n",
       "01, Oostende op         01, Oostende Open                          ?\n",
       "02 Antwerp op           02 Open                                    ?\n",
       "03 Far West op          03 Far West Open                           ?\n",
       "03, op Oberwart         03, Open                                   ?\n",
       "04, Dortmund            04                                         ?\n",
       "04, Illinois Class MX   04, Class MX                               ?\n",
       "05 Ter Apel             05                                         ?\n",
       "05, op Oberwart         05, Open                                   ?\n",
       "07 NY op New York City  07 NY Open City                            ?\n",
       "07 Villa Martelli AR    07 AR                                      ?\n",
       "07 op Oberwart          07 Open                                    ?\n",
       "08, Montpellier         08                                         ?\n",
       "1. Kastoria op          1. Kastoria Open                           ?\n",
       "1.Bodenseecup           1.Bodenseecup                              ?\n",
       "1.CL                    1.CL                                       ?\n",
       "1/2 final Russia Cup    1/2 final Cup                              7\n",
       "1/94 4th Harvard        1/94 4th                                   ?\n",
       "10, Moscow olm AZE-SVK  10, olm AZE-SVK                            ?\n",
       "11 Monaco               11 Monaco                                  ?\n",
       "11 Munich               11                                         ?\n",
       "13. Papanastasio        13. Papanastasio                           ?\n",
       "17.partie               17.partie                                  ?\n",
       "17th Queen City Open    17. Queen City Open                        5\n",
       "18th Queen City Open    18. Queen City Open                        ?\n",
       "                                                                ... \n",
       "playchess.com INT       EuCh-Internet KO                         4.3\n",
       "                        ch-Europe Internet Blitz                 5.5\n",
       "schachbundesliga.de     BL1011 SG Trier - Delmenhorster SK       3.8\n",
       "                        BL1011 SK Delmenhorst - SV Griesheim     4.8\n",
       "                        BL1011 SV Griesheim - Bremen             3.8\n",
       "                        BL1011 Werder Bremen - SG Trier          4.8\n",
       "sf                      sf                                         ?\n",
       "sf Kazan                sf                                         2\n",
       "sf Novosibirsk          sf                                         9\n",
       "sf, Enschede            sf                                         4\n",
       "stockholm               stockholm                                  ?\n",
       "t-ch                    t Ch                                       ?\n",
       "tch                     tch                                        ?\n",
       "tt                      tt                                         ?\n",
       "tt CUP Utrecht          tt CUP                                     ?\n",
       "tt Honv\u0002d-MTK           tt Honv\u0002d-MTK                              9\n",
       "tt Paide                tt                                         ?\n",
       "tt SF                   tt SF                                      ?\n",
       "tt San Jose do Rio P    tt do Rio P                                5\n",
       "tt ch RUS Podolsk       ?                                        165\n",
       "tt ch2                  tt ch2                                     ?\n",
       "tt ch4                  tt ch4                                     ?\n",
       "tt-1                    tt-1                                       ?\n",
       "tt-2                    tt-2                                       ?\n",
       "tt-Extra                tt-Extra                                   ?\n",
       "tt-ch BEL Antwerp BEL   tt Ch BEL Antwerp BEL                      1\n",
       "tt2                     tt2                                        ?\n",
       "www.hsk1830.de          BL 0607 Hamburger SK - Werder Bremen     7.8\n",
       "x                       x                                          ?\n",
       "zt Zagreb               Zonal                                      ?\n",
       "Name: round, dtype: object"
      ]
     },
     "execution_count": 59,
     "metadata": {},
     "output_type": "execute_result"
    }
   ],
   "source": [
    "df.groupby(['site','event'])['round'].max()  "
   ]
  },
  {
   "cell_type": "code",
   "execution_count": 26,
   "metadata": {
    "collapsed": false
   },
   "outputs": [
    {
     "data": {
      "text/plain": [
       "0"
      ]
     },
     "execution_count": 26,
     "metadata": {},
     "output_type": "execute_result"
    }
   ],
   "source": [
    "df[df['round']=='?']['black'].count()"
   ]
  },
  {
   "cell_type": "markdown",
   "metadata": {},
   "source": [
    "So two options would be to impute or remove this data. "
   ]
  },
  {
   "cell_type": "code",
   "execution_count": null,
   "metadata": {
    "collapsed": true
   },
   "outputs": [],
   "source": [
    "#this breaks since round is an object that cant be converted\n",
    "#df['round'].mean()  "
   ]
  },
  {
   "cell_type": "code",
   "execution_count": 28,
   "metadata": {
    "collapsed": false
   },
   "outputs": [
    {
     "data": {
      "text/html": [
       "<div>\n",
       "<table border=\"1\" class=\"dataframe\">\n",
       "  <thead>\n",
       "    <tr style=\"text-align: right;\">\n",
       "      <th></th>\n",
       "      <th>black</th>\n",
       "      <th>blackelo</th>\n",
       "      <th>eco</th>\n",
       "      <th>event</th>\n",
       "      <th>eventdate</th>\n",
       "      <th>moves</th>\n",
       "      <th>result</th>\n",
       "      <th>round</th>\n",
       "      <th>site</th>\n",
       "      <th>white</th>\n",
       "      <th>whiteelo</th>\n",
       "      <th>white_first_move</th>\n",
       "      <th>black_first_move</th>\n",
       "      <th>age</th>\n",
       "      <th>estimate_white_win_by_rating</th>\n",
       "    </tr>\n",
       "  </thead>\n",
       "  <tbody>\n",
       "    <tr>\n",
       "      <th>0</th>\n",
       "      <td>Kosteniuk, Alexandra</td>\n",
       "      <td>2554</td>\n",
       "      <td>A05</td>\n",
       "      <td>IMSA Blitz w 2016</td>\n",
       "      <td>2016.02.28</td>\n",
       "      <td>1.Nf3 Nf6 2.g3 b6 3.Bg2 Bb7 4.O-O e6 5.d3 d5 6...</td>\n",
       "      <td>-1.0</td>\n",
       "      <td>15.5</td>\n",
       "      <td>Huai'an CHN</td>\n",
       "      <td>Harika, Dronavalli</td>\n",
       "      <td>2511</td>\n",
       "      <td>1.Nf3</td>\n",
       "      <td>Nf6</td>\n",
       "      <td>261.0</td>\n",
       "      <td>0.484175</td>\n",
       "    </tr>\n",
       "  </tbody>\n",
       "</table>\n",
       "</div>"
      ],
      "text/plain": [
       "                  black  blackelo  eco              event   eventdate  \\\n",
       "0  Kosteniuk, Alexandra      2554  A05  IMSA Blitz w 2016  2016.02.28   \n",
       "\n",
       "                                               moves  result round  \\\n",
       "0  1.Nf3 Nf6 2.g3 b6 3.Bg2 Bb7 4.O-O e6 5.d3 d5 6...    -1.0  15.5   \n",
       "\n",
       "          site               white  whiteelo white_first_move  \\\n",
       "0  Huai'an CHN  Harika, Dronavalli      2511            1.Nf3   \n",
       "\n",
       "  black_first_move    age  estimate_white_win_by_rating  \n",
       "0              Nf6  261.0                      0.484175  "
      ]
     },
     "execution_count": 28,
     "metadata": {},
     "output_type": "execute_result"
    }
   ],
   "source": [
    "df.head(1)"
   ]
  },
  {
   "cell_type": "code",
   "execution_count": 180,
   "metadata": {
    "collapsed": true
   },
   "outputs": [],
   "source": [
    "garbage = df.pop('event')\n",
    "garbage = df.pop('round')\n",
    "garbage = df.pop('site')"
   ]
  },
  {
   "cell_type": "markdown",
   "metadata": {},
   "source": [
    "#explore rating as a function of time and inactivity"
   ]
  },
  {
   "cell_type": "markdown",
   "metadata": {},
   "source": [
    "Just took a random single sample to see if it may be worth checking out if gaps in activity could be used to infer loss of ratings points. however research was inconclusive.  May be that not all tournament games played are not always recorded and put into database.  probably would add some variance to the model.  So will drop further investigation for now."
   ]
  },
  {
   "cell_type": "code",
   "execution_count": 80,
   "metadata": {
    "collapsed": false
   },
   "outputs": [],
   "source": [
    "testdf = df[['black','blackelo','age']]"
   ]
  },
  {
   "cell_type": "code",
   "execution_count": 81,
   "metadata": {
    "collapsed": false
   },
   "outputs": [],
   "source": [
    "testdf2 = df[['white','whiteelo','age']]"
   ]
  },
  {
   "cell_type": "code",
   "execution_count": 82,
   "metadata": {
    "collapsed": false,
    "scrolled": false
   },
   "outputs": [
    {
     "data": {
      "text/html": [
       "<div>\n",
       "<table border=\"1\" class=\"dataframe\">\n",
       "  <thead>\n",
       "    <tr style=\"text-align: right;\">\n",
       "      <th></th>\n",
       "      <th>black</th>\n",
       "      <th>blackelo</th>\n",
       "      <th>age</th>\n",
       "    </tr>\n",
       "  </thead>\n",
       "  <tbody>\n",
       "    <tr>\n",
       "      <th>0</th>\n",
       "      <td>Kosteniuk, Alexandra</td>\n",
       "      <td>2554</td>\n",
       "      <td>261.0</td>\n",
       "    </tr>\n",
       "  </tbody>\n",
       "</table>\n",
       "</div>"
      ],
      "text/plain": [
       "                  black  blackelo    age\n",
       "0  Kosteniuk, Alexandra      2554  261.0"
      ]
     },
     "execution_count": 82,
     "metadata": {},
     "output_type": "execute_result"
    }
   ],
   "source": [
    "testdf.head(1)"
   ]
  },
  {
   "cell_type": "code",
   "execution_count": 83,
   "metadata": {
    "collapsed": false
   },
   "outputs": [
    {
     "data": {
      "text/html": [
       "<div>\n",
       "<table border=\"1\" class=\"dataframe\">\n",
       "  <thead>\n",
       "    <tr style=\"text-align: right;\">\n",
       "      <th></th>\n",
       "      <th>white</th>\n",
       "      <th>whiteelo</th>\n",
       "      <th>age</th>\n",
       "    </tr>\n",
       "  </thead>\n",
       "  <tbody>\n",
       "    <tr>\n",
       "      <th>0</th>\n",
       "      <td>Harika, Dronavalli</td>\n",
       "      <td>2511</td>\n",
       "      <td>261.0</td>\n",
       "    </tr>\n",
       "  </tbody>\n",
       "</table>\n",
       "</div>"
      ],
      "text/plain": [
       "                white  whiteelo    age\n",
       "0  Harika, Dronavalli      2511  261.0"
      ]
     },
     "execution_count": 83,
     "metadata": {},
     "output_type": "execute_result"
    }
   ],
   "source": [
    "testdf2.head(1)"
   ]
  },
  {
   "cell_type": "code",
   "execution_count": 84,
   "metadata": {
    "collapsed": true
   },
   "outputs": [],
   "source": [
    "testdf2 = testdf2.rename(columns = {'white':'player','whiteelo':'rating'})"
   ]
  },
  {
   "cell_type": "code",
   "execution_count": 85,
   "metadata": {
    "collapsed": true
   },
   "outputs": [],
   "source": [
    "testdf = testdf2.rename(columns = {'black':'player','blackelo':'rating'})"
   ]
  },
  {
   "cell_type": "code",
   "execution_count": 86,
   "metadata": {
    "collapsed": false
   },
   "outputs": [],
   "source": [
    "testdf_merged = pd.concat([testdf, testdf2], axis=0)"
   ]
  },
  {
   "cell_type": "code",
   "execution_count": 87,
   "metadata": {
    "collapsed": false
   },
   "outputs": [
    {
     "data": {
      "text/html": [
       "<div>\n",
       "<table border=\"1\" class=\"dataframe\">\n",
       "  <thead>\n",
       "    <tr style=\"text-align: right;\">\n",
       "      <th></th>\n",
       "      <th>player</th>\n",
       "      <th>rating</th>\n",
       "      <th>age</th>\n",
       "    </tr>\n",
       "  </thead>\n",
       "  <tbody>\n",
       "    <tr>\n",
       "      <th>0</th>\n",
       "      <td>Harika, Dronavalli</td>\n",
       "      <td>2511</td>\n",
       "      <td>261.0</td>\n",
       "    </tr>\n",
       "  </tbody>\n",
       "</table>\n",
       "</div>"
      ],
      "text/plain": [
       "               player  rating    age\n",
       "0  Harika, Dronavalli    2511  261.0"
      ]
     },
     "execution_count": 87,
     "metadata": {},
     "output_type": "execute_result"
    }
   ],
   "source": [
    "testdf_merged.head(1)"
   ]
  },
  {
   "cell_type": "code",
   "execution_count": 92,
   "metadata": {
    "collapsed": true
   },
   "outputs": [],
   "source": [
    "%matplotlib inline"
   ]
  },
  {
   "cell_type": "code",
   "execution_count": 94,
   "metadata": {
    "collapsed": false
   },
   "outputs": [
    {
     "data": {
      "text/plain": [
       "<matplotlib.axes._subplots.AxesSubplot at 0x123a8e090>"
      ]
     },
     "execution_count": 94,
     "metadata": {},
     "output_type": "execute_result"
    },
    {
     "data": {
      "image/png": "[encoded data removed]",
      "text/plain": [
       "<matplotlib.figure.Figure at 0x123a9bf10>"
      ]
     },
     "metadata": {},
     "output_type": "display_data"
    }
   ],
   "source": [
    "testdf[testdf['player']=='Harika, Dronavalli'].plot('age','rating',kind='scatter')"
   ]
  },
  {
   "cell_type": "code",
   "execution_count": 100,
   "metadata": {
    "collapsed": false
   },
   "outputs": [],
   "source": [
    "ratings = testdf.drop_duplicates()"
   ]
  },
  {
   "cell_type": "code",
   "execution_count": 112,
   "metadata": {
    "collapsed": false
   },
   "outputs": [
    {
     "name": "stderr",
     "output_type": "stream",
     "text": [
      "/Users/eduardodaroza/anaconda2/anaconda/lib/python2.7/site-packages/ipykernel/__main__.py:1: FutureWarning: sort(columns=....) is deprecated, use sort_values(by=.....)\n",
      "  if __name__ == '__main__':\n",
      "/Users/eduardodaroza/anaconda2/anaconda/lib/python2.7/site-packages/ipykernel/__main__.py:1: UserWarning: Boolean Series key will be reindexed to match DataFrame index.\n",
      "  if __name__ == '__main__':\n"
     ]
    }
   ],
   "source": [
    "ratingsA = ratings[ratings.sort('age')['player']=='Harika, Dronavalli']"
   ]
  },
  {
   "cell_type": "code",
   "execution_count": 119,
   "metadata": {
    "collapsed": false
   },
   "outputs": [
    {
     "name": "stderr",
     "output_type": "stream",
     "text": [
      "/Users/eduardodaroza/anaconda2/anaconda/lib/python2.7/site-packages/ipykernel/__main__.py:1: FutureWarning: sort(columns=....) is deprecated, use sort_values(by=.....)\n",
      "  if __name__ == '__main__':\n"
     ]
    }
   ],
   "source": [
    "ratingsA= ratingsA.sort('age')"
   ]
  },
  {
   "cell_type": "code",
   "execution_count": 120,
   "metadata": {
    "collapsed": false,
    "scrolled": true
   },
   "outputs": [],
   "source": [
    "ratingsA['gap_events'] = ratingsA['age'] - ratingsA['age'].shift(1) "
   ]
  },
  {
   "cell_type": "code",
   "execution_count": 137,
   "metadata": {
    "collapsed": false
   },
   "outputs": [
    {
     "data": {
      "text/html": [
       "<div>\n",
       "<table border=\"1\" class=\"dataframe\">\n",
       "  <thead>\n",
       "    <tr style=\"text-align: right;\">\n",
       "      <th></th>\n",
       "      <th>player</th>\n",
       "      <th>rating</th>\n",
       "      <th>age</th>\n",
       "      <th>gap_events</th>\n",
       "      <th>ratings_delta</th>\n",
       "    </tr>\n",
       "  </thead>\n",
       "  <tbody>\n",
       "    <tr>\n",
       "      <th>34</th>\n",
       "      <td>Harika, Dronavalli</td>\n",
       "      <td>2511</td>\n",
       "      <td>262.0</td>\n",
       "      <td>1.0</td>\n",
       "      <td>NaN</td>\n",
       "    </tr>\n",
       "    <tr>\n",
       "      <th>933487</th>\n",
       "      <td>Harika, Dronavalli</td>\n",
       "      <td>2511</td>\n",
       "      <td>263.0</td>\n",
       "      <td>1.0</td>\n",
       "      <td>0.0</td>\n",
       "    </tr>\n",
       "    <tr>\n",
       "      <th>303668</th>\n",
       "      <td>Harika, Dronavalli</td>\n",
       "      <td>2511</td>\n",
       "      <td>264.0</td>\n",
       "      <td>1.0</td>\n",
       "      <td>0.0</td>\n",
       "    </tr>\n",
       "    <tr>\n",
       "      <th>456458</th>\n",
       "      <td>Harika, Dronavalli</td>\n",
       "      <td>2511</td>\n",
       "      <td>268.0</td>\n",
       "      <td>4.0</td>\n",
       "      <td>0.0</td>\n",
       "    </tr>\n",
       "    <tr>\n",
       "      <th>456466</th>\n",
       "      <td>Harika, Dronavalli</td>\n",
       "      <td>2511</td>\n",
       "      <td>269.0</td>\n",
       "      <td>1.0</td>\n",
       "      <td>0.0</td>\n",
       "    </tr>\n",
       "  </tbody>\n",
       "</table>\n",
       "</div>"
      ],
      "text/plain": [
       "                    player  rating    age  gap_events  ratings_delta\n",
       "34      Harika, Dronavalli    2511  262.0         1.0            NaN\n",
       "933487  Harika, Dronavalli    2511  263.0         1.0            0.0\n",
       "303668  Harika, Dronavalli    2511  264.0         1.0            0.0\n",
       "456458  Harika, Dronavalli    2511  268.0         4.0            0.0\n",
       "456466  Harika, Dronavalli    2511  269.0         1.0            0.0"
      ]
     },
     "execution_count": 137,
     "metadata": {},
     "output_type": "execute_result"
    }
   ],
   "source": [
    "ratingsA.head(5)"
   ]
  },
  {
   "cell_type": "code",
   "execution_count": 122,
   "metadata": {
    "collapsed": true
   },
   "outputs": [],
   "source": [
    "ratingsA = ratingsA.drop(ratingsA.index[0])"
   ]
  },
  {
   "cell_type": "code",
   "execution_count": 132,
   "metadata": {
    "collapsed": false
   },
   "outputs": [],
   "source": [
    "ratingsA['ratings_delta'] = ratingsA['rating'] - ratingsA['rating'].shift(1) "
   ]
  },
  {
   "cell_type": "markdown",
   "metadata": {},
   "source": [
    "plot of ratings change vs date gaps with no apparent trends for sample size of 1."
   ]
  },
  {
   "cell_type": "code",
   "execution_count": 136,
   "metadata": {
    "collapsed": false
   },
   "outputs": [
    {
     "data": {
      "text/plain": [
       "<matplotlib.axes._subplots.AxesSubplot at 0x1349a5990>"
      ]
     },
     "execution_count": 136,
     "metadata": {},
     "output_type": "execute_result"
    },
    {
     "data": {
      "image/png": "[encoded data removed]",
      "text/plain": [
       "<matplotlib.figure.Figure at 0x1c0247d10>"
      ]
     },
     "metadata": {},
     "output_type": "display_data"
    }
   ],
   "source": [
    "ratingsA.plot('gap_events','ratings_delta',kind='scatter',figsize=(20,10))"
   ]
  },
  {
   "cell_type": "code",
   "execution_count": 181,
   "metadata": {
    "collapsed": false
   },
   "outputs": [
    {
     "data": {
      "text/html": [
       "<div>\n",
       "<table border=\"1\" class=\"dataframe\">\n",
       "  <thead>\n",
       "    <tr style=\"text-align: right;\">\n",
       "      <th></th>\n",
       "      <th>black</th>\n",
       "      <th>blackelo</th>\n",
       "      <th>eco</th>\n",
       "      <th>eventdate</th>\n",
       "      <th>moves</th>\n",
       "      <th>result</th>\n",
       "      <th>white</th>\n",
       "      <th>whiteelo</th>\n",
       "      <th>white_first_move</th>\n",
       "      <th>black_first_move</th>\n",
       "      <th>age</th>\n",
       "      <th>estimate_white_win_by_rating</th>\n",
       "    </tr>\n",
       "  </thead>\n",
       "  <tbody>\n",
       "    <tr>\n",
       "      <th>0</th>\n",
       "      <td>Kosteniuk, Alexandra</td>\n",
       "      <td>2554</td>\n",
       "      <td>A05</td>\n",
       "      <td>2016.02.28</td>\n",
       "      <td>1.Nf3 Nf6 2.g3 b6 3.Bg2 Bb7 4.O-O e6 5.d3 d5 6...</td>\n",
       "      <td>-1.0</td>\n",
       "      <td>Harika, Dronavalli</td>\n",
       "      <td>2511</td>\n",
       "      <td>1.Nf3</td>\n",
       "      <td>Nf6</td>\n",
       "      <td>261.0</td>\n",
       "      <td>0.484175</td>\n",
       "    </tr>\n",
       "  </tbody>\n",
       "</table>\n",
       "</div>"
      ],
      "text/plain": [
       "                  black  blackelo  eco   eventdate  \\\n",
       "0  Kosteniuk, Alexandra      2554  A05  2016.02.28   \n",
       "\n",
       "                                               moves  result  \\\n",
       "0  1.Nf3 Nf6 2.g3 b6 3.Bg2 Bb7 4.O-O e6 5.d3 d5 6...    -1.0   \n",
       "\n",
       "                white  whiteelo white_first_move black_first_move    age  \\\n",
       "0  Harika, Dronavalli      2511            1.Nf3              Nf6  261.0   \n",
       "\n",
       "   estimate_white_win_by_rating  \n",
       "0                      0.484175  "
      ]
     },
     "execution_count": 181,
     "metadata": {},
     "output_type": "execute_result"
    }
   ],
   "source": [
    "df.head(1)"
   ]
  },
  {
   "cell_type": "code",
   "execution_count": 182,
   "metadata": {
    "collapsed": false
   },
   "outputs": [],
   "source": [
    "garbage = df.pop('eventdate')"
   ]
  },
  {
   "cell_type": "code",
   "execution_count": 183,
   "metadata": {
    "collapsed": false
   },
   "outputs": [
    {
     "data": {
      "text/plain": [
       "black                             0\n",
       "blackelo                          0\n",
       "eco                               0\n",
       "moves                             0\n",
       "result                          157\n",
       "white                             0\n",
       "whiteelo                          0\n",
       "white_first_move                  0\n",
       "black_first_move                  0\n",
       "age                              31\n",
       "estimate_white_win_by_rating      0\n",
       "dtype: int64"
      ]
     },
     "execution_count": 183,
     "metadata": {},
     "output_type": "execute_result"
    }
   ],
   "source": [
    "df.isnull().sum()"
   ]
  },
  {
   "cell_type": "code",
   "execution_count": 184,
   "metadata": {
    "collapsed": false
   },
   "outputs": [
    {
     "data": {
      "text/plain": [
       "black                           1861584\n",
       "blackelo                        1861584\n",
       "eco                             1861584\n",
       "moves                           1861584\n",
       "result                          1861427\n",
       "white                           1861584\n",
       "whiteelo                        1861584\n",
       "white_first_move                1861584\n",
       "black_first_move                1861584\n",
       "age                             1861553\n",
       "estimate_white_win_by_rating    1861584\n",
       "dtype: int64"
      ]
     },
     "execution_count": 184,
     "metadata": {},
     "output_type": "execute_result"
    }
   ],
   "source": [
    "df.count()"
   ]
  },
  {
   "cell_type": "markdown",
   "metadata": {},
   "source": [
    "This next row will drop any rows that still have missing values."
   ]
  },
  {
   "cell_type": "code",
   "execution_count": 185,
   "metadata": {
    "collapsed": false
   },
   "outputs": [],
   "source": [
    "df = df.dropna(axis=0, how='any', thresh=None, subset=None, inplace=False)"
   ]
  },
  {
   "cell_type": "code",
   "execution_count": 151,
   "metadata": {
    "collapsed": false
   },
   "outputs": [
    {
     "name": "stderr",
     "output_type": "stream",
     "text": [
      "/Users/eduardodaroza/anaconda2/anaconda/lib/python2.7/site-packages/ipykernel/__main__.py:1: SettingWithCopyWarning: \n",
      "A value is trying to be set on a copy of a slice from a DataFrame.\n",
      "Try using .loc[row_indexer,col_indexer] = value instead\n",
      "\n",
      "See the caveats in the documentation: http://pandas.pydata.org/pandas-docs/stable/indexing.html#indexing-view-versus-copy\n",
      "  if __name__ == '__main__':\n"
     ]
    }
   ],
   "source": [
    "df['diff'] = df['blackelo']-df['whiteelo']"
   ]
  },
  {
   "cell_type": "code",
   "execution_count": 21,
   "metadata": {
    "collapsed": false
   },
   "outputs": [
    {
     "data": {
      "text/html": [
       "<div>\n",
       "<table border=\"1\" class=\"dataframe\">\n",
       "  <thead>\n",
       "    <tr style=\"text-align: right;\">\n",
       "      <th></th>\n",
       "      <th>black</th>\n",
       "      <th>blackelo</th>\n",
       "      <th>eco</th>\n",
       "      <th>moves</th>\n",
       "      <th>result</th>\n",
       "      <th>white</th>\n",
       "      <th>whiteelo</th>\n",
       "      <th>white_first_move</th>\n",
       "      <th>black_first_move</th>\n",
       "      <th>age</th>\n",
       "      <th>estimate_white_win_by_rating</th>\n",
       "      <th>diff</th>\n",
       "    </tr>\n",
       "  </thead>\n",
       "  <tbody>\n",
       "    <tr>\n",
       "      <th>0</th>\n",
       "      <td>Aaberg, Anton</td>\n",
       "      <td>72</td>\n",
       "      <td>72</td>\n",
       "      <td>72</td>\n",
       "      <td>72</td>\n",
       "      <td>72</td>\n",
       "      <td>72</td>\n",
       "      <td>72</td>\n",
       "      <td>72</td>\n",
       "      <td>72</td>\n",
       "      <td>72</td>\n",
       "      <td>72</td>\n",
       "    </tr>\n",
       "    <tr>\n",
       "      <th>1</th>\n",
       "      <td>Aabling-Thomsen, Jakob</td>\n",
       "      <td>175</td>\n",
       "      <td>175</td>\n",
       "      <td>175</td>\n",
       "      <td>175</td>\n",
       "      <td>175</td>\n",
       "      <td>175</td>\n",
       "      <td>175</td>\n",
       "      <td>175</td>\n",
       "      <td>175</td>\n",
       "      <td>175</td>\n",
       "      <td>175</td>\n",
       "    </tr>\n",
       "    <tr>\n",
       "      <th>2</th>\n",
       "      <td>Aadeli, Arvin</td>\n",
       "      <td>2</td>\n",
       "      <td>2</td>\n",
       "      <td>2</td>\n",
       "      <td>2</td>\n",
       "      <td>2</td>\n",
       "      <td>2</td>\n",
       "      <td>2</td>\n",
       "      <td>2</td>\n",
       "      <td>2</td>\n",
       "      <td>2</td>\n",
       "      <td>2</td>\n",
       "    </tr>\n",
       "    <tr>\n",
       "      <th>3</th>\n",
       "      <td>Aagaard, Gert</td>\n",
       "      <td>8</td>\n",
       "      <td>8</td>\n",
       "      <td>8</td>\n",
       "      <td>8</td>\n",
       "      <td>8</td>\n",
       "      <td>8</td>\n",
       "      <td>8</td>\n",
       "      <td>8</td>\n",
       "      <td>8</td>\n",
       "      <td>8</td>\n",
       "      <td>8</td>\n",
       "    </tr>\n",
       "    <tr>\n",
       "      <th>4</th>\n",
       "      <td>Aagaard, Jacob</td>\n",
       "      <td>454</td>\n",
       "      <td>454</td>\n",
       "      <td>454</td>\n",
       "      <td>454</td>\n",
       "      <td>454</td>\n",
       "      <td>454</td>\n",
       "      <td>454</td>\n",
       "      <td>454</td>\n",
       "      <td>454</td>\n",
       "      <td>454</td>\n",
       "      <td>454</td>\n",
       "    </tr>\n",
       "  </tbody>\n",
       "</table>\n",
       "</div>"
      ],
      "text/plain": [
       "                    black  blackelo  eco  moves  result  white  whiteelo  \\\n",
       "0           Aaberg, Anton        72   72     72      72     72        72   \n",
       "1  Aabling-Thomsen, Jakob       175  175    175     175    175       175   \n",
       "2           Aadeli, Arvin         2    2      2       2      2         2   \n",
       "3           Aagaard, Gert         8    8      8       8      8         8   \n",
       "4          Aagaard, Jacob       454  454    454     454    454       454   \n",
       "\n",
       "   white_first_move  black_first_move  age  estimate_white_win_by_rating  diff  \n",
       "0                72                72   72                            72    72  \n",
       "1               175               175  175                           175   175  \n",
       "2                 2                 2    2                             2     2  \n",
       "3                 8                 8    8                             8     8  \n",
       "4               454               454  454                           454   454  "
      ]
     },
     "execution_count": 21,
     "metadata": {},
     "output_type": "execute_result"
    },
    {
     "data": {
      "image/png": "[encoded data removed]",
      "text/plain": [
       "<matplotlib.figure.Figure at 0x214e782d0>"
      ]
     },
     "metadata": {},
     "output_type": "display_data"
    }
   ],
   "source": [
    "#some EDA:\n",
    "%matplotlib inline\n",
    "\n",
    "df.groupby('white').count().sort('black',ascending=False).plot(kind='hist',bins=300,figsize=(20,10))\n",
    "\n",
    "#how many times in the database by color\n",
    "df.groupby('white').count().reset_index().head()\n",
    "df.groupby('black').count().reset_index().head()\n"
   ]
  },
  {
   "cell_type": "code",
   "execution_count": 22,
   "metadata": {
    "collapsed": false
   },
   "outputs": [
    {
     "data": {
      "text/plain": [
       "[<matplotlib.lines.Line2D at 0x2490bf890>]"
      ]
     },
     "execution_count": 22,
     "metadata": {},
     "output_type": "execute_result"
    },
    {
     "data": {
      "image/png": "[encoded data removed]",
      "text/plain": [
       "<matplotlib.figure.Figure at 0x2cf821090>"
      ]
     },
     "metadata": {},
     "output_type": "display_data"
    }
   ],
   "source": [
    "# elo formula vs scatter plot of the actual results by rating difference:\n",
    "from math import pow \n",
    "df[['diff','estimate_white_win_by_rating']].plot(kind='scatter',x='diff',y='estimate_white_win_by_rating',figsize=(20,10))\n",
    "t = xrange(-800,800,1)\n",
    "s=[]\n",
    "for item in t:\n",
    "    output = 1.0/(1 + math.pow(10.0,item/400.0))\n",
    "    s.append(output)\n",
    "plt.plot(t, s)\n"
   ]
  },
  {
   "cell_type": "code",
   "execution_count": 23,
   "metadata": {
    "collapsed": false
   },
   "outputs": [
    {
     "data": {
      "text/plain": [
       "165.32050455649426"
      ]
     },
     "execution_count": 23,
     "metadata": {},
     "output_type": "execute_result"
    },
    {
     "data": {
      "image/png": "[encoded data removed]",
      "text/plain": [
       "<matplotlib.figure.Figure at 0x289888850>"
      ]
     },
     "metadata": {},
     "output_type": "display_data"
    }
   ],
   "source": [
    "\n",
    "#avg rating difference between players is small\n",
    "df['diff'].sum()/df['diff'].count()\n",
    "#pairings end up being a normal distribution based on rating due to use of a swiss pairing system\n",
    "df['diff'].plot(kind='hist',bins=50)\n",
    "# 2 sigma is +/-330 points so one class above and below\n",
    "df['diff'].std()\n"
   ]
  },
  {
   "cell_type": "code",
   "execution_count": 24,
   "metadata": {
    "collapsed": false
   },
   "outputs": [
    {
     "data": {
      "image/png": "[encoded data removed]",
      "text/plain": [
       "<matplotlib.figure.Figure at 0x2b14cced0>"
      ]
     },
     "metadata": {},
     "output_type": "display_data"
    }
   ],
   "source": [
    "\n",
    "#ratings distribution\n",
    "df.whiteelo.plot(kind='hist',bins=50)\n",
    "df.blackelo.plot(kind='hist',bins=50)\n",
    "\n",
    "#statistically different ratings?\n",
    "#what are the confidence levels...can i say about similar ratings to normalize opening results?\n",
    "\n",
    "#add number of games in the database by player...related to activity as well as time since last tournament.\n",
    "#then use linear regression to predict avg rating drop between tournaments.\n",
    "#count number of player by opening\n",
    "\n",
    "#garbage = df.pop('black_first_move')\n",
    "#garbage = df.pop('diff')\n"
   ]
  },
  {
   "cell_type": "code",
   "execution_count": 152,
   "metadata": {
    "collapsed": false,
    "scrolled": true
   },
   "outputs": [
    {
     "data": {
      "text/html": [
       "<div>\n",
       "<table border=\"1\" class=\"dataframe\">\n",
       "  <thead>\n",
       "    <tr style=\"text-align: right;\">\n",
       "      <th></th>\n",
       "      <th>black</th>\n",
       "      <th>blackelo</th>\n",
       "      <th>eco</th>\n",
       "      <th>moves</th>\n",
       "      <th>result</th>\n",
       "      <th>white</th>\n",
       "      <th>whiteelo</th>\n",
       "      <th>white_first_move</th>\n",
       "      <th>black_first_move</th>\n",
       "      <th>age</th>\n",
       "      <th>estimate_white_win_by_rating</th>\n",
       "      <th>diff</th>\n",
       "    </tr>\n",
       "  </thead>\n",
       "  <tbody>\n",
       "    <tr>\n",
       "      <th>0</th>\n",
       "      <td>Kosteniuk, Alexandra</td>\n",
       "      <td>2554</td>\n",
       "      <td>A05</td>\n",
       "      <td>1.Nf3 Nf6 2.g3 b6 3.Bg2 Bb7 4.O-O e6 5.d3 d5 6...</td>\n",
       "      <td>-1.0</td>\n",
       "      <td>Harika, Dronavalli</td>\n",
       "      <td>2511</td>\n",
       "      <td>1.Nf3</td>\n",
       "      <td>Nf6</td>\n",
       "      <td>261.0</td>\n",
       "      <td>0.484175</td>\n",
       "      <td>43</td>\n",
       "    </tr>\n",
       "  </tbody>\n",
       "</table>\n",
       "</div>"
      ],
      "text/plain": [
       "                  black  blackelo  eco  \\\n",
       "0  Kosteniuk, Alexandra      2554  A05   \n",
       "\n",
       "                                               moves  result  \\\n",
       "0  1.Nf3 Nf6 2.g3 b6 3.Bg2 Bb7 4.O-O e6 5.d3 d5 6...    -1.0   \n",
       "\n",
       "                white  whiteelo white_first_move black_first_move    age  \\\n",
       "0  Harika, Dronavalli      2511            1.Nf3              Nf6  261.0   \n",
       "\n",
       "   estimate_white_win_by_rating  diff  \n",
       "0                      0.484175    43  "
      ]
     },
     "execution_count": 152,
     "metadata": {},
     "output_type": "execute_result"
    }
   ],
   "source": [
    "df.head(1)"
   ]
  },
  {
   "cell_type": "code",
   "execution_count": 186,
   "metadata": {
    "collapsed": true
   },
   "outputs": [],
   "source": [
    "df = df.dropna(axis=0, how='any', thresh=None, subset=None, inplace=False)"
   ]
  },
  {
   "cell_type": "code",
   "execution_count": 153,
   "metadata": {
    "collapsed": false
   },
   "outputs": [
    {
     "data": {
      "text/plain": [
       "black                           1861396\n",
       "blackelo                        1861396\n",
       "eco                             1861396\n",
       "moves                           1861396\n",
       "result                          1861396\n",
       "white                           1861396\n",
       "whiteelo                        1861396\n",
       "white_first_move                1861396\n",
       "black_first_move                1861396\n",
       "age                             1861396\n",
       "estimate_white_win_by_rating    1861396\n",
       "diff                            1861396\n",
       "dtype: int64"
      ]
     },
     "execution_count": 153,
     "metadata": {},
     "output_type": "execute_result"
    }
   ],
   "source": [
    "df.count()"
   ]
  },
  {
   "cell_type": "code",
   "execution_count": 187,
   "metadata": {
    "collapsed": false
   },
   "outputs": [],
   "source": [
    "garbage = df.pop('moves')"
   ]
  },
  {
   "cell_type": "code",
   "execution_count": null,
   "metadata": {
    "collapsed": true
   },
   "outputs": [],
   "source": [
    "#additional feature engineering"
   ]
  },
  {
   "cell_type": "code",
   "execution_count": 155,
   "metadata": {
    "collapsed": false
   },
   "outputs": [
    {
     "data": {
      "text/plain": [
       "white\n",
       "Aaberg, Anton              75\n",
       "Aabling-Thomsen, Jakob    163\n",
       "Aadeli, Arvin               2\n",
       "Aagaard, Gert               4\n",
       "Aagaard, Jacob            439\n",
       "Name: black, dtype: int64"
      ]
     },
     "execution_count": 155,
     "metadata": {},
     "output_type": "execute_result"
    }
   ],
   "source": [
    "df.groupby('white')['black'].count().head()"
   ]
  },
  {
   "cell_type": "code",
   "execution_count": 156,
   "metadata": {
    "collapsed": false
   },
   "outputs": [
    {
     "data": {
      "text/plain": [
       "black\n",
       "Aaberg, Anton              72\n",
       "Aabling-Thomsen, Jakob    175\n",
       "Aadeli, Arvin               2\n",
       "Aagaard, Gert               8\n",
       "Aagaard, Jacob            454\n",
       "Name: white, dtype: int64"
      ]
     },
     "execution_count": 156,
     "metadata": {},
     "output_type": "execute_result"
    }
   ],
   "source": [
    "df.groupby('black')['white'].count().head()"
   ]
  },
  {
   "cell_type": "code",
   "execution_count": 154,
   "metadata": {
    "collapsed": false
   },
   "outputs": [
    {
     "data": {
      "text/html": [
       "<div>\n",
       "<table border=\"1\" class=\"dataframe\">\n",
       "  <thead>\n",
       "    <tr style=\"text-align: right;\">\n",
       "      <th></th>\n",
       "      <th>black</th>\n",
       "      <th>blackelo</th>\n",
       "      <th>eco</th>\n",
       "      <th>moves</th>\n",
       "      <th>result</th>\n",
       "      <th>white</th>\n",
       "      <th>whiteelo</th>\n",
       "      <th>white_first_move</th>\n",
       "      <th>black_first_move</th>\n",
       "      <th>age</th>\n",
       "      <th>estimate_white_win_by_rating</th>\n",
       "      <th>diff</th>\n",
       "    </tr>\n",
       "  </thead>\n",
       "  <tbody>\n",
       "    <tr>\n",
       "      <th>0</th>\n",
       "      <td>Kosteniuk, Alexandra</td>\n",
       "      <td>2554</td>\n",
       "      <td>A05</td>\n",
       "      <td>1.Nf3 Nf6 2.g3 b6 3.Bg2 Bb7 4.O-O e6 5.d3 d5 6...</td>\n",
       "      <td>-1.0</td>\n",
       "      <td>Harika, Dronavalli</td>\n",
       "      <td>2511</td>\n",
       "      <td>1.Nf3</td>\n",
       "      <td>Nf6</td>\n",
       "      <td>261.0</td>\n",
       "      <td>0.484175</td>\n",
       "      <td>43</td>\n",
       "    </tr>\n",
       "  </tbody>\n",
       "</table>\n",
       "</div>"
      ],
      "text/plain": [
       "                  black  blackelo  eco  \\\n",
       "0  Kosteniuk, Alexandra      2554  A05   \n",
       "\n",
       "                                               moves  result  \\\n",
       "0  1.Nf3 Nf6 2.g3 b6 3.Bg2 Bb7 4.O-O e6 5.d3 d5 6...    -1.0   \n",
       "\n",
       "                white  whiteelo white_first_move black_first_move    age  \\\n",
       "0  Harika, Dronavalli      2511            1.Nf3              Nf6  261.0   \n",
       "\n",
       "   estimate_white_win_by_rating  diff  \n",
       "0                      0.484175    43  "
      ]
     },
     "execution_count": 154,
     "metadata": {},
     "output_type": "execute_result"
    }
   ],
   "source": [
    "df.head(1)"
   ]
  },
  {
   "cell_type": "markdown",
   "metadata": {},
   "source": [
    "#considered booleanizing titled/non-titled"
   ]
  },
  {
   "cell_type": "code",
   "execution_count": 160,
   "metadata": {
    "collapsed": false,
    "scrolled": false
   },
   "outputs": [
    {
     "name": "stdout",
     "output_type": "stream",
     "text": [
      "<class 'pandas.core.frame.DataFrame'>\n",
      "Int64Index: 1861396 entries, 0 to 1861584\n",
      "Data columns (total 12 columns):\n",
      "black                           category\n",
      "blackelo                        int64\n",
      "eco                             object\n",
      "moves                           object\n",
      "result                          float64\n",
      "white                           category\n",
      "whiteelo                        int64\n",
      "white_first_move                object\n",
      "black_first_move                object\n",
      "age                             float64\n",
      "estimate_white_win_by_rating    float64\n",
      "diff                            int64\n",
      "dtypes: category(2), float64(3), int64(3), object(4)\n",
      "memory usage: 171.3+ MB\n"
     ]
    }
   ],
   "source": [
    "df.info()"
   ]
  },
  {
   "cell_type": "code",
   "execution_count": 188,
   "metadata": {
    "collapsed": false
   },
   "outputs": [
    {
     "data": {
      "text/plain": [
       "black                           0\n",
       "blackelo                        0\n",
       "eco                             0\n",
       "result                          0\n",
       "white                           0\n",
       "whiteelo                        0\n",
       "white_first_move                0\n",
       "black_first_move                0\n",
       "age                             0\n",
       "estimate_white_win_by_rating    0\n",
       "dtype: int64"
      ]
     },
     "execution_count": 188,
     "metadata": {},
     "output_type": "execute_result"
    }
   ],
   "source": [
    "df.isnull().sum()"
   ]
  },
  {
   "cell_type": "code",
   "execution_count": 213,
   "metadata": {
    "collapsed": false
   },
   "outputs": [],
   "source": [
    "df[\"white_first_move\"] = df[\"white_first_move\"].astype('string')\n",
    "df[\"black_first_move\"] = df[\"black_first_move\"].astype('string')\n",
    "df[\"eco\"] = df[\"eco\"].astype('string')\n",
    "df[\"white\"] = df[\"white\"].astype('string')\n",
    "df['black'] = df['black'].astype('string')"
   ]
  },
  {
   "cell_type": "code",
   "execution_count": 215,
   "metadata": {
    "collapsed": true
   },
   "outputs": [],
   "source": [
    "catenc = pd.factorize(df['white'])"
   ]
  },
  {
   "cell_type": "code",
   "execution_count": 218,
   "metadata": {
    "collapsed": false
   },
   "outputs": [],
   "source": [
    "df['white_enc'] = catenc[0]"
   ]
  },
  {
   "cell_type": "code",
   "execution_count": 220,
   "metadata": {
    "collapsed": false
   },
   "outputs": [
    {
     "data": {
      "text/html": [
       "<div>\n",
       "<table border=\"1\" class=\"dataframe\">\n",
       "  <thead>\n",
       "    <tr style=\"text-align: right;\">\n",
       "      <th></th>\n",
       "      <th>black</th>\n",
       "      <th>blackelo</th>\n",
       "      <th>eco</th>\n",
       "      <th>result</th>\n",
       "      <th>white</th>\n",
       "      <th>whiteelo</th>\n",
       "      <th>white_first_move</th>\n",
       "      <th>black_first_move</th>\n",
       "      <th>age</th>\n",
       "      <th>estimate_white_win_by_rating</th>\n",
       "      <th>white_enc</th>\n",
       "    </tr>\n",
       "  </thead>\n",
       "  <tbody>\n",
       "    <tr>\n",
       "      <th>0</th>\n",
       "      <td>Kosteniuk, Alexandra</td>\n",
       "      <td>2554</td>\n",
       "      <td>A05</td>\n",
       "      <td>-1.0</td>\n",
       "      <td>Harika, Dronavalli</td>\n",
       "      <td>2511</td>\n",
       "      <td>1.Nf3</td>\n",
       "      <td>Nf6</td>\n",
       "      <td>261.0</td>\n",
       "      <td>0.484175</td>\n",
       "      <td>0</td>\n",
       "    </tr>\n",
       "    <tr>\n",
       "      <th>1</th>\n",
       "      <td>Ju, Wenjun</td>\n",
       "      <td>2558</td>\n",
       "      <td>A34</td>\n",
       "      <td>-1.0</td>\n",
       "      <td>Mkrtchian, Lilit</td>\n",
       "      <td>2434</td>\n",
       "      <td>1.c4</td>\n",
       "      <td>c5</td>\n",
       "      <td>261.0</td>\n",
       "      <td>0.370611</td>\n",
       "      <td>1</td>\n",
       "    </tr>\n",
       "    <tr>\n",
       "      <th>2</th>\n",
       "      <td>Wang Yue</td>\n",
       "      <td>2718</td>\n",
       "      <td>A18</td>\n",
       "      <td>-1.0</td>\n",
       "      <td>Ivanchuk, Vassily</td>\n",
       "      <td>2710</td>\n",
       "      <td>1.c4</td>\n",
       "      <td>Nf6</td>\n",
       "      <td>261.0</td>\n",
       "      <td>0.534484</td>\n",
       "      <td>2</td>\n",
       "    </tr>\n",
       "    <tr>\n",
       "      <th>3</th>\n",
       "      <td>Krush, Irina</td>\n",
       "      <td>2458</td>\n",
       "      <td>A25</td>\n",
       "      <td>-1.0</td>\n",
       "      <td>Mkrtchian, Lilit</td>\n",
       "      <td>2434</td>\n",
       "      <td>1.c4</td>\n",
       "      <td>e5</td>\n",
       "      <td>261.0</td>\n",
       "      <td>0.511511</td>\n",
       "      <td>1</td>\n",
       "    </tr>\n",
       "    <tr>\n",
       "      <th>4</th>\n",
       "      <td>Paehtz, Elisabeth</td>\n",
       "      <td>2472</td>\n",
       "      <td>A26</td>\n",
       "      <td>-1.0</td>\n",
       "      <td>Huang, Qian</td>\n",
       "      <td>2450</td>\n",
       "      <td>1.Nf3</td>\n",
       "      <td>d6</td>\n",
       "      <td>261.0</td>\n",
       "      <td>0.514387</td>\n",
       "      <td>3</td>\n",
       "    </tr>\n",
       "    <tr>\n",
       "      <th>5</th>\n",
       "      <td>Krush, Irina</td>\n",
       "      <td>2458</td>\n",
       "      <td>A07</td>\n",
       "      <td>0.0</td>\n",
       "      <td>Ju, Wenjun</td>\n",
       "      <td>2558</td>\n",
       "      <td>1.Nf3</td>\n",
       "      <td>d5</td>\n",
       "      <td>261.0</td>\n",
       "      <td>0.681322</td>\n",
       "      <td>4</td>\n",
       "    </tr>\n",
       "    <tr>\n",
       "      <th>6</th>\n",
       "      <td>Gunina, Valentina</td>\n",
       "      <td>2496</td>\n",
       "      <td>A11</td>\n",
       "      <td>1.0</td>\n",
       "      <td>Zhao Xue</td>\n",
       "      <td>2506</td>\n",
       "      <td>1.Nf3</td>\n",
       "      <td>d5</td>\n",
       "      <td>261.0</td>\n",
       "      <td>0.560150</td>\n",
       "      <td>5</td>\n",
       "    </tr>\n",
       "    <tr>\n",
       "      <th>7</th>\n",
       "      <td>Ushenina, A</td>\n",
       "      <td>2450</td>\n",
       "      <td>A11</td>\n",
       "      <td>1.0</td>\n",
       "      <td>Tan Zhongyi</td>\n",
       "      <td>2504</td>\n",
       "      <td>1.Nf3</td>\n",
       "      <td>d5</td>\n",
       "      <td>261.0</td>\n",
       "      <td>0.621297</td>\n",
       "      <td>6</td>\n",
       "    </tr>\n",
       "    <tr>\n",
       "      <th>8</th>\n",
       "      <td>Lagno, Kateryna</td>\n",
       "      <td>2529</td>\n",
       "      <td>A36</td>\n",
       "      <td>-1.0</td>\n",
       "      <td>Dzagnidze, Nana</td>\n",
       "      <td>2529</td>\n",
       "      <td>1.c4</td>\n",
       "      <td>g6</td>\n",
       "      <td>261.0</td>\n",
       "      <td>0.545922</td>\n",
       "      <td>7</td>\n",
       "    </tr>\n",
       "    <tr>\n",
       "      <th>9</th>\n",
       "      <td>Tomashevsky, E</td>\n",
       "      <td>2728</td>\n",
       "      <td>A00</td>\n",
       "      <td>0.0</td>\n",
       "      <td>Mamedov, Rauf</td>\n",
       "      <td>2650</td>\n",
       "      <td>1.g3</td>\n",
       "      <td>d5</td>\n",
       "      <td>261.0</td>\n",
       "      <td>0.434185</td>\n",
       "      <td>8</td>\n",
       "    </tr>\n",
       "  </tbody>\n",
       "</table>\n",
       "</div>"
      ],
      "text/plain": [
       "                  black  blackelo  eco  result               white  whiteelo  \\\n",
       "0  Kosteniuk, Alexandra      2554  A05    -1.0  Harika, Dronavalli      2511   \n",
       "1            Ju, Wenjun      2558  A34    -1.0    Mkrtchian, Lilit      2434   \n",
       "2              Wang Yue      2718  A18    -1.0   Ivanchuk, Vassily      2710   \n",
       "3          Krush, Irina      2458  A25    -1.0    Mkrtchian, Lilit      2434   \n",
       "4     Paehtz, Elisabeth      2472  A26    -1.0         Huang, Qian      2450   \n",
       "5          Krush, Irina      2458  A07     0.0          Ju, Wenjun      2558   \n",
       "6     Gunina, Valentina      2496  A11     1.0            Zhao Xue      2506   \n",
       "7           Ushenina, A      2450  A11     1.0         Tan Zhongyi      2504   \n",
       "8       Lagno, Kateryna      2529  A36    -1.0     Dzagnidze, Nana      2529   \n",
       "9        Tomashevsky, E      2728  A00     0.0       Mamedov, Rauf      2650   \n",
       "\n",
       "  white_first_move black_first_move    age  estimate_white_win_by_rating  \\\n",
       "0            1.Nf3              Nf6  261.0                      0.484175   \n",
       "1             1.c4               c5  261.0                      0.370611   \n",
       "2             1.c4              Nf6  261.0                      0.534484   \n",
       "3             1.c4               e5  261.0                      0.511511   \n",
       "4            1.Nf3               d6  261.0                      0.514387   \n",
       "5            1.Nf3               d5  261.0                      0.681322   \n",
       "6            1.Nf3               d5  261.0                      0.560150   \n",
       "7            1.Nf3               d5  261.0                      0.621297   \n",
       "8             1.c4               g6  261.0                      0.545922   \n",
       "9             1.g3               d5  261.0                      0.434185   \n",
       "\n",
       "   white_enc  \n",
       "0          0  \n",
       "1          1  \n",
       "2          2  \n",
       "3          1  \n",
       "4          3  \n",
       "5          4  \n",
       "6          5  \n",
       "7          6  \n",
       "8          7  \n",
       "9          8  "
      ]
     },
     "execution_count": 220,
     "metadata": {},
     "output_type": "execute_result"
    }
   ],
   "source": [
    "df.head(10)"
   ]
  },
  {
   "cell_type": "markdown",
   "metadata": {},
   "source": [
    "count number of games in dataframe for a single user"
   ]
  },
  {
   "cell_type": "code",
   "execution_count": 235,
   "metadata": {
    "collapsed": false
   },
   "outputs": [
    {
     "data": {
      "text/plain": [
       "1599"
      ]
     },
     "execution_count": 235,
     "metadata": {},
     "output_type": "execute_result"
    }
   ],
   "source": [
    "df[(df.black=='Kosteniuk, Alexandra')|(df.white=='Kosteniuk, Alexandra')].shape[0]"
   ]
  },
  {
   "cell_type": "code",
   "execution_count": 236,
   "metadata": {
    "collapsed": true
   },
   "outputs": [],
   "source": [
    "ak_df = df[(df.black=='Kosteniuk, Alexandra')|(df.white=='Kosteniuk, Alexandra')]"
   ]
  },
  {
   "cell_type": "code",
   "execution_count": 237,
   "metadata": {
    "collapsed": false
   },
   "outputs": [
    {
     "data": {
      "text/html": [
       "<div>\n",
       "<table border=\"1\" class=\"dataframe\">\n",
       "  <thead>\n",
       "    <tr style=\"text-align: right;\">\n",
       "      <th></th>\n",
       "      <th>black</th>\n",
       "      <th>blackelo</th>\n",
       "      <th>eco</th>\n",
       "      <th>result</th>\n",
       "      <th>white</th>\n",
       "      <th>whiteelo</th>\n",
       "      <th>white_first_move</th>\n",
       "      <th>black_first_move</th>\n",
       "      <th>age</th>\n",
       "      <th>estimate_white_win_by_rating</th>\n",
       "      <th>white_enc</th>\n",
       "    </tr>\n",
       "  </thead>\n",
       "  <tbody>\n",
       "    <tr>\n",
       "      <th>0</th>\n",
       "      <td>Kosteniuk, Alexandra</td>\n",
       "      <td>2554</td>\n",
       "      <td>A05</td>\n",
       "      <td>-1.0</td>\n",
       "      <td>Harika, Dronavalli</td>\n",
       "      <td>2511</td>\n",
       "      <td>1.Nf3</td>\n",
       "      <td>Nf6</td>\n",
       "      <td>261.0</td>\n",
       "      <td>0.484175</td>\n",
       "      <td>0</td>\n",
       "    </tr>\n",
       "    <tr>\n",
       "      <th>56</th>\n",
       "      <td>Kosteniuk, Alexandra</td>\n",
       "      <td>2554</td>\n",
       "      <td>A09</td>\n",
       "      <td>1.0</td>\n",
       "      <td>Paehtz, Elisabeth</td>\n",
       "      <td>2472</td>\n",
       "      <td>1.Nf3</td>\n",
       "      <td>d5</td>\n",
       "      <td>262.0</td>\n",
       "      <td>0.428537</td>\n",
       "      <td>13</td>\n",
       "    </tr>\n",
       "    <tr>\n",
       "      <th>63</th>\n",
       "      <td>Kosteniuk, Alexandra</td>\n",
       "      <td>2554</td>\n",
       "      <td>A07</td>\n",
       "      <td>0.0</td>\n",
       "      <td>Stefanova, A</td>\n",
       "      <td>2509</td>\n",
       "      <td>1.g3</td>\n",
       "      <td>d5</td>\n",
       "      <td>262.0</td>\n",
       "      <td>0.481300</td>\n",
       "      <td>9</td>\n",
       "    </tr>\n",
       "    <tr>\n",
       "      <th>86</th>\n",
       "      <td>Kosteniuk, Alexandra</td>\n",
       "      <td>2554</td>\n",
       "      <td>A05</td>\n",
       "      <td>1.0</td>\n",
       "      <td>Stefanova, A</td>\n",
       "      <td>2509</td>\n",
       "      <td>1.Nf3</td>\n",
       "      <td>Nf6</td>\n",
       "      <td>263.0</td>\n",
       "      <td>0.481300</td>\n",
       "      <td>9</td>\n",
       "    </tr>\n",
       "    <tr>\n",
       "      <th>1049</th>\n",
       "      <td>Kosteniuk, Alexandra</td>\n",
       "      <td>2550</td>\n",
       "      <td>A11</td>\n",
       "      <td>1.0</td>\n",
       "      <td>Jakovenko, Dmitry</td>\n",
       "      <td>2732</td>\n",
       "      <td>1.Nf3</td>\n",
       "      <td>d5</td>\n",
       "      <td>293.0</td>\n",
       "      <td>0.774148</td>\n",
       "      <td>452</td>\n",
       "    </tr>\n",
       "  </tbody>\n",
       "</table>\n",
       "</div>"
      ],
      "text/plain": [
       "                     black  blackelo  eco  result               white  \\\n",
       "0     Kosteniuk, Alexandra      2554  A05    -1.0  Harika, Dronavalli   \n",
       "56    Kosteniuk, Alexandra      2554  A09     1.0   Paehtz, Elisabeth   \n",
       "63    Kosteniuk, Alexandra      2554  A07     0.0        Stefanova, A   \n",
       "86    Kosteniuk, Alexandra      2554  A05     1.0        Stefanova, A   \n",
       "1049  Kosteniuk, Alexandra      2550  A11     1.0   Jakovenko, Dmitry   \n",
       "\n",
       "      whiteelo white_first_move black_first_move    age  \\\n",
       "0         2511            1.Nf3              Nf6  261.0   \n",
       "56        2472            1.Nf3               d5  262.0   \n",
       "63        2509             1.g3               d5  262.0   \n",
       "86        2509            1.Nf3              Nf6  263.0   \n",
       "1049      2732            1.Nf3               d5  293.0   \n",
       "\n",
       "      estimate_white_win_by_rating  white_enc  \n",
       "0                         0.484175          0  \n",
       "56                        0.428537         13  \n",
       "63                        0.481300          9  \n",
       "86                        0.481300          9  \n",
       "1049                      0.774148        452  "
      ]
     },
     "execution_count": 237,
     "metadata": {},
     "output_type": "execute_result"
    }
   ],
   "source": [
    "ak_df.head()"
   ]
  },
  {
   "cell_type": "code",
   "execution_count": 258,
   "metadata": {
    "collapsed": false
   },
   "outputs": [
    {
     "data": {
      "text/plain": [
       "black                           1599\n",
       "blackelo                        1599\n",
       "eco                             1599\n",
       "result                          1599\n",
       "white                           1599\n",
       "whiteelo                        1599\n",
       "white_first_move                1599\n",
       "black_first_move                1599\n",
       "age                             1599\n",
       "estimate_white_win_by_rating    1599\n",
       "white_enc                       1599\n",
       "dtype: int64"
      ]
     },
     "execution_count": 258,
     "metadata": {},
     "output_type": "execute_result"
    }
   ],
   "source": [
    "ak_df.count()"
   ]
  },
  {
   "cell_type": "code",
   "execution_count": null,
   "metadata": {
    "collapsed": true
   },
   "outputs": [],
   "source": [
    "#unique eco codes or variety of openings played"
   ]
  },
  {
   "cell_type": "code",
   "execution_count": 242,
   "metadata": {
    "collapsed": false
   },
   "outputs": [
    {
     "data": {
      "text/plain": [
       "161"
      ]
     },
     "execution_count": 242,
     "metadata": {},
     "output_type": "execute_result"
    }
   ],
   "source": [
    "len(ak_df[ak_df.white=='Kosteniuk, Alexandra'].eco.unique())"
   ]
  },
  {
   "cell_type": "code",
   "execution_count": null,
   "metadata": {
    "collapsed": true
   },
   "outputs": [],
   "source": [
    "#unique first moves or variety of first moves played"
   ]
  },
  {
   "cell_type": "code",
   "execution_count": 243,
   "metadata": {
    "collapsed": false
   },
   "outputs": [
    {
     "data": {
      "text/plain": [
       "4"
      ]
     },
     "execution_count": 243,
     "metadata": {},
     "output_type": "execute_result"
    }
   ],
   "source": [
    "len(ak_df[ak_df.white=='Kosteniuk, Alexandra'].white_first_move.unique())"
   ]
  },
  {
   "cell_type": "markdown",
   "metadata": {},
   "source": [
    "number of players in the dataset:"
   ]
  },
  {
   "cell_type": "code",
   "execution_count": 238,
   "metadata": {
    "collapsed": false
   },
   "outputs": [
    {
     "data": {
      "text/plain": [
       "57766"
      ]
     },
     "execution_count": 238,
     "metadata": {},
     "output_type": "execute_result"
    }
   ],
   "source": [
    "df.white_enc.max()"
   ]
  },
  {
   "cell_type": "markdown",
   "metadata": {},
   "source": [
    "calculate the number of games per each user:"
   ]
  },
  {
   "cell_type": "code",
   "execution_count": null,
   "metadata": {
    "collapsed": true
   },
   "outputs": [],
   "source": [
    "df['games_count']=df[(df.black=='Kosteniuk, Alexandra')|(df.white=='Kosteniuk, Alexandra')].shape[0]"
   ]
  },
  {
   "cell_type": "code",
   "execution_count": 248,
   "metadata": {
    "collapsed": false
   },
   "outputs": [
    {
     "data": {
      "text/html": [
       "<div>\n",
       "<table border=\"1\" class=\"dataframe\">\n",
       "  <thead>\n",
       "    <tr style=\"text-align: right;\">\n",
       "      <th></th>\n",
       "      <th>black</th>\n",
       "      <th>blackelo</th>\n",
       "      <th>eco</th>\n",
       "      <th>result</th>\n",
       "      <th>whiteelo</th>\n",
       "      <th>white_first_move</th>\n",
       "      <th>black_first_move</th>\n",
       "      <th>age</th>\n",
       "      <th>estimate_white_win_by_rating</th>\n",
       "      <th>white_enc</th>\n",
       "    </tr>\n",
       "    <tr>\n",
       "      <th>white</th>\n",
       "      <th></th>\n",
       "      <th></th>\n",
       "      <th></th>\n",
       "      <th></th>\n",
       "      <th></th>\n",
       "      <th></th>\n",
       "      <th></th>\n",
       "      <th></th>\n",
       "      <th></th>\n",
       "      <th></th>\n",
       "    </tr>\n",
       "  </thead>\n",
       "  <tbody>\n",
       "    <tr>\n",
       "      <th>Aaberg, Anton</th>\n",
       "      <td>75</td>\n",
       "      <td>75</td>\n",
       "      <td>75</td>\n",
       "      <td>75</td>\n",
       "      <td>75</td>\n",
       "      <td>75</td>\n",
       "      <td>75</td>\n",
       "      <td>75</td>\n",
       "      <td>75</td>\n",
       "      <td>75</td>\n",
       "    </tr>\n",
       "    <tr>\n",
       "      <th>Aabling-Thomsen, Jakob</th>\n",
       "      <td>163</td>\n",
       "      <td>163</td>\n",
       "      <td>163</td>\n",
       "      <td>163</td>\n",
       "      <td>163</td>\n",
       "      <td>163</td>\n",
       "      <td>163</td>\n",
       "      <td>163</td>\n",
       "      <td>163</td>\n",
       "      <td>163</td>\n",
       "    </tr>\n",
       "    <tr>\n",
       "      <th>Aadeli, Arvin</th>\n",
       "      <td>2</td>\n",
       "      <td>2</td>\n",
       "      <td>2</td>\n",
       "      <td>2</td>\n",
       "      <td>2</td>\n",
       "      <td>2</td>\n",
       "      <td>2</td>\n",
       "      <td>2</td>\n",
       "      <td>2</td>\n",
       "      <td>2</td>\n",
       "    </tr>\n",
       "    <tr>\n",
       "      <th>Aagaard, Gert</th>\n",
       "      <td>4</td>\n",
       "      <td>4</td>\n",
       "      <td>4</td>\n",
       "      <td>4</td>\n",
       "      <td>4</td>\n",
       "      <td>4</td>\n",
       "      <td>4</td>\n",
       "      <td>4</td>\n",
       "      <td>4</td>\n",
       "      <td>4</td>\n",
       "    </tr>\n",
       "    <tr>\n",
       "      <th>Aagaard, Jacob</th>\n",
       "      <td>439</td>\n",
       "      <td>439</td>\n",
       "      <td>439</td>\n",
       "      <td>439</td>\n",
       "      <td>439</td>\n",
       "      <td>439</td>\n",
       "      <td>439</td>\n",
       "      <td>439</td>\n",
       "      <td>439</td>\n",
       "      <td>439</td>\n",
       "    </tr>\n",
       "    <tr>\n",
       "      <th>Aage, Bjarke</th>\n",
       "      <td>2</td>\n",
       "      <td>2</td>\n",
       "      <td>2</td>\n",
       "      <td>2</td>\n",
       "      <td>2</td>\n",
       "      <td>2</td>\n",
       "      <td>2</td>\n",
       "      <td>2</td>\n",
       "      <td>2</td>\n",
       "      <td>2</td>\n",
       "    </tr>\n",
       "    <tr>\n",
       "      <th>Aakanksha, Hagawane</th>\n",
       "      <td>3</td>\n",
       "      <td>3</td>\n",
       "      <td>3</td>\n",
       "      <td>3</td>\n",
       "      <td>3</td>\n",
       "      <td>3</td>\n",
       "      <td>3</td>\n",
       "      <td>3</td>\n",
       "      <td>3</td>\n",
       "      <td>3</td>\n",
       "    </tr>\n",
       "    <tr>\n",
       "      <th>Aakash, G.</th>\n",
       "      <td>3</td>\n",
       "      <td>3</td>\n",
       "      <td>3</td>\n",
       "      <td>3</td>\n",
       "      <td>3</td>\n",
       "      <td>3</td>\n",
       "      <td>3</td>\n",
       "      <td>3</td>\n",
       "      <td>3</td>\n",
       "      <td>3</td>\n",
       "    </tr>\n",
       "    <tr>\n",
       "      <th>Aakio, Seppo</th>\n",
       "      <td>8</td>\n",
       "      <td>8</td>\n",
       "      <td>8</td>\n",
       "      <td>8</td>\n",
       "      <td>8</td>\n",
       "      <td>8</td>\n",
       "      <td>8</td>\n",
       "      <td>8</td>\n",
       "      <td>8</td>\n",
       "      <td>8</td>\n",
       "    </tr>\n",
       "    <tr>\n",
       "      <th>Aalbersberg Kroon, Pedro</th>\n",
       "      <td>11</td>\n",
       "      <td>11</td>\n",
       "      <td>11</td>\n",
       "      <td>11</td>\n",
       "      <td>11</td>\n",
       "      <td>11</td>\n",
       "      <td>11</td>\n",
       "      <td>11</td>\n",
       "      <td>11</td>\n",
       "      <td>11</td>\n",
       "    </tr>\n",
       "    <tr>\n",
       "      <th>Aalsberberg Kroon Pere</th>\n",
       "      <td>1</td>\n",
       "      <td>1</td>\n",
       "      <td>1</td>\n",
       "      <td>1</td>\n",
       "      <td>1</td>\n",
       "      <td>1</td>\n",
       "      <td>1</td>\n",
       "      <td>1</td>\n",
       "      <td>1</td>\n",
       "      <td>1</td>\n",
       "    </tr>\n",
       "    <tr>\n",
       "      <th>Aaltio, Erkki</th>\n",
       "      <td>8</td>\n",
       "      <td>8</td>\n",
       "      <td>8</td>\n",
       "      <td>8</td>\n",
       "      <td>8</td>\n",
       "      <td>8</td>\n",
       "      <td>8</td>\n",
       "      <td>8</td>\n",
       "      <td>8</td>\n",
       "      <td>8</td>\n",
       "    </tr>\n",
       "    <tr>\n",
       "      <th>Aandal, Kristian</th>\n",
       "      <td>2</td>\n",
       "      <td>2</td>\n",
       "      <td>2</td>\n",
       "      <td>2</td>\n",
       "      <td>2</td>\n",
       "      <td>2</td>\n",
       "      <td>2</td>\n",
       "      <td>2</td>\n",
       "      <td>2</td>\n",
       "      <td>2</td>\n",
       "    </tr>\n",
       "    <tr>\n",
       "      <th>Aanstad, Magnus</th>\n",
       "      <td>1</td>\n",
       "      <td>1</td>\n",
       "      <td>1</td>\n",
       "      <td>1</td>\n",
       "      <td>1</td>\n",
       "      <td>1</td>\n",
       "      <td>1</td>\n",
       "      <td>1</td>\n",
       "      <td>1</td>\n",
       "      <td>1</td>\n",
       "    </tr>\n",
       "    <tr>\n",
       "      <th>Aarland, Stein Arild</th>\n",
       "      <td>38</td>\n",
       "      <td>38</td>\n",
       "      <td>38</td>\n",
       "      <td>38</td>\n",
       "      <td>38</td>\n",
       "      <td>38</td>\n",
       "      <td>38</td>\n",
       "      <td>38</td>\n",
       "      <td>38</td>\n",
       "      <td>38</td>\n",
       "    </tr>\n",
       "    <tr>\n",
       "      <th>Aaron, Deepak</th>\n",
       "      <td>53</td>\n",
       "      <td>53</td>\n",
       "      <td>53</td>\n",
       "      <td>53</td>\n",
       "      <td>53</td>\n",
       "      <td>53</td>\n",
       "      <td>53</td>\n",
       "      <td>53</td>\n",
       "      <td>53</td>\n",
       "      <td>53</td>\n",
       "    </tr>\n",
       "    <tr>\n",
       "      <th>Aaron, Manuel</th>\n",
       "      <td>2</td>\n",
       "      <td>2</td>\n",
       "      <td>2</td>\n",
       "      <td>2</td>\n",
       "      <td>2</td>\n",
       "      <td>2</td>\n",
       "      <td>2</td>\n",
       "      <td>2</td>\n",
       "      <td>2</td>\n",
       "      <td>2</td>\n",
       "    </tr>\n",
       "    <tr>\n",
       "      <th>Abad Sanmartin, Jorge</th>\n",
       "      <td>1</td>\n",
       "      <td>1</td>\n",
       "      <td>1</td>\n",
       "      <td>1</td>\n",
       "      <td>1</td>\n",
       "      <td>1</td>\n",
       "      <td>1</td>\n",
       "      <td>1</td>\n",
       "      <td>1</td>\n",
       "      <td>1</td>\n",
       "    </tr>\n",
       "    <tr>\n",
       "      <th>Abaeji, Sinan Younus Abdulrazzaq</th>\n",
       "      <td>5</td>\n",
       "      <td>5</td>\n",
       "      <td>5</td>\n",
       "      <td>5</td>\n",
       "      <td>5</td>\n",
       "      <td>5</td>\n",
       "      <td>5</td>\n",
       "      <td>5</td>\n",
       "      <td>5</td>\n",
       "      <td>5</td>\n",
       "    </tr>\n",
       "    <tr>\n",
       "      <th>Abal Cores, Lucas</th>\n",
       "      <td>13</td>\n",
       "      <td>13</td>\n",
       "      <td>13</td>\n",
       "      <td>13</td>\n",
       "      <td>13</td>\n",
       "      <td>13</td>\n",
       "      <td>13</td>\n",
       "      <td>13</td>\n",
       "      <td>13</td>\n",
       "      <td>13</td>\n",
       "    </tr>\n",
       "    <tr>\n",
       "      <th>Abalde Fernandez, Esteban</th>\n",
       "      <td>1</td>\n",
       "      <td>1</td>\n",
       "      <td>1</td>\n",
       "      <td>1</td>\n",
       "      <td>1</td>\n",
       "      <td>1</td>\n",
       "      <td>1</td>\n",
       "      <td>1</td>\n",
       "      <td>1</td>\n",
       "      <td>1</td>\n",
       "    </tr>\n",
       "    <tr>\n",
       "      <th>Abang, Mohd Reduan</th>\n",
       "      <td>3</td>\n",
       "      <td>3</td>\n",
       "      <td>3</td>\n",
       "      <td>3</td>\n",
       "      <td>3</td>\n",
       "      <td>3</td>\n",
       "      <td>3</td>\n",
       "      <td>3</td>\n",
       "      <td>3</td>\n",
       "      <td>3</td>\n",
       "    </tr>\n",
       "    <tr>\n",
       "      <th>Abarca Aguirre, Manuel</th>\n",
       "      <td>11</td>\n",
       "      <td>11</td>\n",
       "      <td>11</td>\n",
       "      <td>11</td>\n",
       "      <td>11</td>\n",
       "      <td>11</td>\n",
       "      <td>11</td>\n",
       "      <td>11</td>\n",
       "      <td>11</td>\n",
       "      <td>11</td>\n",
       "    </tr>\n",
       "    <tr>\n",
       "      <th>Abarca Gonzalez, Damaris</th>\n",
       "      <td>66</td>\n",
       "      <td>66</td>\n",
       "      <td>66</td>\n",
       "      <td>66</td>\n",
       "      <td>66</td>\n",
       "      <td>66</td>\n",
       "      <td>66</td>\n",
       "      <td>66</td>\n",
       "      <td>66</td>\n",
       "      <td>66</td>\n",
       "    </tr>\n",
       "    <tr>\n",
       "      <th>Abarca Gonzalez, Nicolas</th>\n",
       "      <td>51</td>\n",
       "      <td>51</td>\n",
       "      <td>51</td>\n",
       "      <td>51</td>\n",
       "      <td>51</td>\n",
       "      <td>51</td>\n",
       "      <td>51</td>\n",
       "      <td>51</td>\n",
       "      <td>51</td>\n",
       "      <td>51</td>\n",
       "    </tr>\n",
       "    <tr>\n",
       "      <th>Abarca Rivadeneira, Ivan</th>\n",
       "      <td>3</td>\n",
       "      <td>3</td>\n",
       "      <td>3</td>\n",
       "      <td>3</td>\n",
       "      <td>3</td>\n",
       "      <td>3</td>\n",
       "      <td>3</td>\n",
       "      <td>3</td>\n",
       "      <td>3</td>\n",
       "      <td>3</td>\n",
       "    </tr>\n",
       "    <tr>\n",
       "      <th>Abarca, D.</th>\n",
       "      <td>4</td>\n",
       "      <td>4</td>\n",
       "      <td>4</td>\n",
       "      <td>4</td>\n",
       "      <td>4</td>\n",
       "      <td>4</td>\n",
       "      <td>4</td>\n",
       "      <td>4</td>\n",
       "      <td>4</td>\n",
       "      <td>4</td>\n",
       "    </tr>\n",
       "    <tr>\n",
       "      <th>Abarca, Diego</th>\n",
       "      <td>4</td>\n",
       "      <td>4</td>\n",
       "      <td>4</td>\n",
       "      <td>4</td>\n",
       "      <td>4</td>\n",
       "      <td>4</td>\n",
       "      <td>4</td>\n",
       "      <td>4</td>\n",
       "      <td>4</td>\n",
       "      <td>4</td>\n",
       "    </tr>\n",
       "    <tr>\n",
       "      <th>Abasheev, Denis</th>\n",
       "      <td>37</td>\n",
       "      <td>37</td>\n",
       "      <td>37</td>\n",
       "      <td>37</td>\n",
       "      <td>37</td>\n",
       "      <td>37</td>\n",
       "      <td>37</td>\n",
       "      <td>37</td>\n",
       "      <td>37</td>\n",
       "      <td>37</td>\n",
       "    </tr>\n",
       "    <tr>\n",
       "      <th>Abashev, Alex</th>\n",
       "      <td>11</td>\n",
       "      <td>11</td>\n",
       "      <td>11</td>\n",
       "      <td>11</td>\n",
       "      <td>11</td>\n",
       "      <td>11</td>\n",
       "      <td>11</td>\n",
       "      <td>11</td>\n",
       "      <td>11</td>\n",
       "      <td>11</td>\n",
       "    </tr>\n",
       "    <tr>\n",
       "      <th>...</th>\n",
       "      <td>...</td>\n",
       "      <td>...</td>\n",
       "      <td>...</td>\n",
       "      <td>...</td>\n",
       "      <td>...</td>\n",
       "      <td>...</td>\n",
       "      <td>...</td>\n",
       "      <td>...</td>\n",
       "      <td>...</td>\n",
       "      <td>...</td>\n",
       "    </tr>\n",
       "    <tr>\n",
       "      <th>Zwahr, Paul</th>\n",
       "      <td>62</td>\n",
       "      <td>62</td>\n",
       "      <td>62</td>\n",
       "      <td>62</td>\n",
       "      <td>62</td>\n",
       "      <td>62</td>\n",
       "      <td>62</td>\n",
       "      <td>62</td>\n",
       "      <td>62</td>\n",
       "      <td>62</td>\n",
       "    </tr>\n",
       "    <tr>\n",
       "      <th>Zwaig, Arne</th>\n",
       "      <td>1</td>\n",
       "      <td>1</td>\n",
       "      <td>1</td>\n",
       "      <td>1</td>\n",
       "      <td>1</td>\n",
       "      <td>1</td>\n",
       "      <td>1</td>\n",
       "      <td>1</td>\n",
       "      <td>1</td>\n",
       "      <td>1</td>\n",
       "    </tr>\n",
       "    <tr>\n",
       "      <th>Zwakala, Ntando</th>\n",
       "      <td>6</td>\n",
       "      <td>6</td>\n",
       "      <td>6</td>\n",
       "      <td>6</td>\n",
       "      <td>6</td>\n",
       "      <td>6</td>\n",
       "      <td>6</td>\n",
       "      <td>6</td>\n",
       "      <td>6</td>\n",
       "      <td>6</td>\n",
       "    </tr>\n",
       "    <tr>\n",
       "      <th>Zwanzger, Johannes</th>\n",
       "      <td>35</td>\n",
       "      <td>35</td>\n",
       "      <td>35</td>\n",
       "      <td>35</td>\n",
       "      <td>35</td>\n",
       "      <td>35</td>\n",
       "      <td>35</td>\n",
       "      <td>35</td>\n",
       "      <td>35</td>\n",
       "      <td>35</td>\n",
       "    </tr>\n",
       "    <tr>\n",
       "      <th>Zwardon, V</th>\n",
       "      <td>2</td>\n",
       "      <td>2</td>\n",
       "      <td>2</td>\n",
       "      <td>2</td>\n",
       "      <td>2</td>\n",
       "      <td>2</td>\n",
       "      <td>2</td>\n",
       "      <td>2</td>\n",
       "      <td>2</td>\n",
       "      <td>2</td>\n",
       "    </tr>\n",
       "    <tr>\n",
       "      <th>Zwardon, Vojtech</th>\n",
       "      <td>146</td>\n",
       "      <td>146</td>\n",
       "      <td>146</td>\n",
       "      <td>146</td>\n",
       "      <td>146</td>\n",
       "      <td>146</td>\n",
       "      <td>146</td>\n",
       "      <td>146</td>\n",
       "      <td>146</td>\n",
       "      <td>146</td>\n",
       "    </tr>\n",
       "    <tr>\n",
       "      <th>Zweschper, Erich</th>\n",
       "      <td>24</td>\n",
       "      <td>24</td>\n",
       "      <td>24</td>\n",
       "      <td>24</td>\n",
       "      <td>24</td>\n",
       "      <td>24</td>\n",
       "      <td>24</td>\n",
       "      <td>24</td>\n",
       "      <td>24</td>\n",
       "      <td>24</td>\n",
       "    </tr>\n",
       "    <tr>\n",
       "      <th>Zwettler, Martin</th>\n",
       "      <td>30</td>\n",
       "      <td>30</td>\n",
       "      <td>30</td>\n",
       "      <td>30</td>\n",
       "      <td>30</td>\n",
       "      <td>30</td>\n",
       "      <td>30</td>\n",
       "      <td>30</td>\n",
       "      <td>30</td>\n",
       "      <td>30</td>\n",
       "    </tr>\n",
       "    <tr>\n",
       "      <th>Zwicker, Thomas</th>\n",
       "      <td>1</td>\n",
       "      <td>1</td>\n",
       "      <td>1</td>\n",
       "      <td>1</td>\n",
       "      <td>1</td>\n",
       "      <td>1</td>\n",
       "      <td>1</td>\n",
       "      <td>1</td>\n",
       "      <td>1</td>\n",
       "      <td>1</td>\n",
       "    </tr>\n",
       "    <tr>\n",
       "      <th>Zwicky, Martin</th>\n",
       "      <td>1</td>\n",
       "      <td>1</td>\n",
       "      <td>1</td>\n",
       "      <td>1</td>\n",
       "      <td>1</td>\n",
       "      <td>1</td>\n",
       "      <td>1</td>\n",
       "      <td>1</td>\n",
       "      <td>1</td>\n",
       "      <td>1</td>\n",
       "    </tr>\n",
       "    <tr>\n",
       "      <th>Zwielich, Frank</th>\n",
       "      <td>9</td>\n",
       "      <td>9</td>\n",
       "      <td>9</td>\n",
       "      <td>9</td>\n",
       "      <td>9</td>\n",
       "      <td>9</td>\n",
       "      <td>9</td>\n",
       "      <td>9</td>\n",
       "      <td>9</td>\n",
       "      <td>9</td>\n",
       "    </tr>\n",
       "    <tr>\n",
       "      <th>Zwingel, Stephan</th>\n",
       "      <td>4</td>\n",
       "      <td>4</td>\n",
       "      <td>4</td>\n",
       "      <td>4</td>\n",
       "      <td>4</td>\n",
       "      <td>4</td>\n",
       "      <td>4</td>\n",
       "      <td>4</td>\n",
       "      <td>4</td>\n",
       "      <td>4</td>\n",
       "    </tr>\n",
       "    <tr>\n",
       "      <th>Zwirs, Jasper</th>\n",
       "      <td>1</td>\n",
       "      <td>1</td>\n",
       "      <td>1</td>\n",
       "      <td>1</td>\n",
       "      <td>1</td>\n",
       "      <td>1</td>\n",
       "      <td>1</td>\n",
       "      <td>1</td>\n",
       "      <td>1</td>\n",
       "      <td>1</td>\n",
       "    </tr>\n",
       "    <tr>\n",
       "      <th>Zwirs, Nico</th>\n",
       "      <td>61</td>\n",
       "      <td>61</td>\n",
       "      <td>61</td>\n",
       "      <td>61</td>\n",
       "      <td>61</td>\n",
       "      <td>61</td>\n",
       "      <td>61</td>\n",
       "      <td>61</td>\n",
       "      <td>61</td>\n",
       "      <td>61</td>\n",
       "    </tr>\n",
       "    <tr>\n",
       "      <th>Zwolakiewicz, Krzysztof</th>\n",
       "      <td>7</td>\n",
       "      <td>7</td>\n",
       "      <td>7</td>\n",
       "      <td>7</td>\n",
       "      <td>7</td>\n",
       "      <td>7</td>\n",
       "      <td>7</td>\n",
       "      <td>7</td>\n",
       "      <td>7</td>\n",
       "      <td>7</td>\n",
       "    </tr>\n",
       "    <tr>\n",
       "      <th>Zworestine, Charles</th>\n",
       "      <td>1</td>\n",
       "      <td>1</td>\n",
       "      <td>1</td>\n",
       "      <td>1</td>\n",
       "      <td>1</td>\n",
       "      <td>1</td>\n",
       "      <td>1</td>\n",
       "      <td>1</td>\n",
       "      <td>1</td>\n",
       "      <td>1</td>\n",
       "    </tr>\n",
       "    <tr>\n",
       "      <th>Zybin, Stanislav</th>\n",
       "      <td>7</td>\n",
       "      <td>7</td>\n",
       "      <td>7</td>\n",
       "      <td>7</td>\n",
       "      <td>7</td>\n",
       "      <td>7</td>\n",
       "      <td>7</td>\n",
       "      <td>7</td>\n",
       "      <td>7</td>\n",
       "      <td>7</td>\n",
       "    </tr>\n",
       "    <tr>\n",
       "      <th>Zygo, Wladyslaw</th>\n",
       "      <td>3</td>\n",
       "      <td>3</td>\n",
       "      <td>3</td>\n",
       "      <td>3</td>\n",
       "      <td>3</td>\n",
       "      <td>3</td>\n",
       "      <td>3</td>\n",
       "      <td>3</td>\n",
       "      <td>3</td>\n",
       "      <td>3</td>\n",
       "    </tr>\n",
       "    <tr>\n",
       "      <th>Zygouris, Hristos</th>\n",
       "      <td>63</td>\n",
       "      <td>63</td>\n",
       "      <td>63</td>\n",
       "      <td>63</td>\n",
       "      <td>63</td>\n",
       "      <td>63</td>\n",
       "      <td>63</td>\n",
       "      <td>63</td>\n",
       "      <td>63</td>\n",
       "      <td>63</td>\n",
       "    </tr>\n",
       "    <tr>\n",
       "      <th>Zykiene, Rita</th>\n",
       "      <td>1</td>\n",
       "      <td>1</td>\n",
       "      <td>1</td>\n",
       "      <td>1</td>\n",
       "      <td>1</td>\n",
       "      <td>1</td>\n",
       "      <td>1</td>\n",
       "      <td>1</td>\n",
       "      <td>1</td>\n",
       "      <td>1</td>\n",
       "    </tr>\n",
       "    <tr>\n",
       "      <th>Zykina, Nadezhda</th>\n",
       "      <td>7</td>\n",
       "      <td>7</td>\n",
       "      <td>7</td>\n",
       "      <td>7</td>\n",
       "      <td>7</td>\n",
       "      <td>7</td>\n",
       "      <td>7</td>\n",
       "      <td>7</td>\n",
       "      <td>7</td>\n",
       "      <td>7</td>\n",
       "    </tr>\n",
       "    <tr>\n",
       "      <th>Zykova, Antonina</th>\n",
       "      <td>22</td>\n",
       "      <td>22</td>\n",
       "      <td>22</td>\n",
       "      <td>22</td>\n",
       "      <td>22</td>\n",
       "      <td>22</td>\n",
       "      <td>22</td>\n",
       "      <td>22</td>\n",
       "      <td>22</td>\n",
       "      <td>22</td>\n",
       "    </tr>\n",
       "    <tr>\n",
       "      <th>Zyla, Janusz</th>\n",
       "      <td>43</td>\n",
       "      <td>43</td>\n",
       "      <td>43</td>\n",
       "      <td>43</td>\n",
       "      <td>43</td>\n",
       "      <td>43</td>\n",
       "      <td>43</td>\n",
       "      <td>43</td>\n",
       "      <td>43</td>\n",
       "      <td>43</td>\n",
       "    </tr>\n",
       "    <tr>\n",
       "      <th>Zylka, Stanislaw</th>\n",
       "      <td>11</td>\n",
       "      <td>11</td>\n",
       "      <td>11</td>\n",
       "      <td>11</td>\n",
       "      <td>11</td>\n",
       "      <td>11</td>\n",
       "      <td>11</td>\n",
       "      <td>11</td>\n",
       "      <td>11</td>\n",
       "      <td>11</td>\n",
       "    </tr>\n",
       "    <tr>\n",
       "      <th>Zymberi, Agron</th>\n",
       "      <td>2</td>\n",
       "      <td>2</td>\n",
       "      <td>2</td>\n",
       "      <td>2</td>\n",
       "      <td>2</td>\n",
       "      <td>2</td>\n",
       "      <td>2</td>\n",
       "      <td>2</td>\n",
       "      <td>2</td>\n",
       "      <td>2</td>\n",
       "    </tr>\n",
       "    <tr>\n",
       "      <th>Zymberi, Astrit</th>\n",
       "      <td>26</td>\n",
       "      <td>26</td>\n",
       "      <td>26</td>\n",
       "      <td>26</td>\n",
       "      <td>26</td>\n",
       "      <td>26</td>\n",
       "      <td>26</td>\n",
       "      <td>26</td>\n",
       "      <td>26</td>\n",
       "      <td>26</td>\n",
       "    </tr>\n",
       "    <tr>\n",
       "      <th>Zysk, Robert</th>\n",
       "      <td>144</td>\n",
       "      <td>144</td>\n",
       "      <td>144</td>\n",
       "      <td>144</td>\n",
       "      <td>144</td>\n",
       "      <td>144</td>\n",
       "      <td>144</td>\n",
       "      <td>144</td>\n",
       "      <td>144</td>\n",
       "      <td>144</td>\n",
       "    </tr>\n",
       "    <tr>\n",
       "      <th>Zysko, Jan</th>\n",
       "      <td>45</td>\n",
       "      <td>45</td>\n",
       "      <td>45</td>\n",
       "      <td>45</td>\n",
       "      <td>45</td>\n",
       "      <td>45</td>\n",
       "      <td>45</td>\n",
       "      <td>45</td>\n",
       "      <td>45</td>\n",
       "      <td>45</td>\n",
       "    </tr>\n",
       "    <tr>\n",
       "      <th>Zytner, Yury</th>\n",
       "      <td>4</td>\n",
       "      <td>4</td>\n",
       "      <td>4</td>\n",
       "      <td>4</td>\n",
       "      <td>4</td>\n",
       "      <td>4</td>\n",
       "      <td>4</td>\n",
       "      <td>4</td>\n",
       "      <td>4</td>\n",
       "      <td>4</td>\n",
       "    </tr>\n",
       "    <tr>\n",
       "      <th>v.d. Weth-v. Nordheim, Petra</th>\n",
       "      <td>1</td>\n",
       "      <td>1</td>\n",
       "      <td>1</td>\n",
       "      <td>1</td>\n",
       "      <td>1</td>\n",
       "      <td>1</td>\n",
       "      <td>1</td>\n",
       "      <td>1</td>\n",
       "      <td>1</td>\n",
       "      <td>1</td>\n",
       "    </tr>\n",
       "  </tbody>\n",
       "</table>\n",
       "<p>57767 rows × 10 columns</p>\n",
       "</div>"
      ],
      "text/plain": [
       "                                  black  blackelo  eco  result  whiteelo  \\\n",
       "white                                                                      \n",
       "Aaberg, Anton                        75        75   75      75        75   \n",
       "Aabling-Thomsen, Jakob              163       163  163     163       163   \n",
       "Aadeli, Arvin                         2         2    2       2         2   \n",
       "Aagaard, Gert                         4         4    4       4         4   \n",
       "Aagaard, Jacob                      439       439  439     439       439   \n",
       "Aage, Bjarke                          2         2    2       2         2   \n",
       "Aakanksha, Hagawane                   3         3    3       3         3   \n",
       "Aakash, G.                            3         3    3       3         3   \n",
       "Aakio, Seppo                          8         8    8       8         8   \n",
       "Aalbersberg Kroon, Pedro             11        11   11      11        11   \n",
       "Aalsberberg Kroon Pere                1         1    1       1         1   \n",
       "Aaltio, Erkki                         8         8    8       8         8   \n",
       "Aandal, Kristian                      2         2    2       2         2   \n",
       "Aanstad, Magnus                       1         1    1       1         1   \n",
       "Aarland, Stein Arild                 38        38   38      38        38   \n",
       "Aaron, Deepak                        53        53   53      53        53   \n",
       "Aaron, Manuel                         2         2    2       2         2   \n",
       "Abad Sanmartin, Jorge                 1         1    1       1         1   \n",
       "Abaeji, Sinan Younus Abdulrazzaq      5         5    5       5         5   \n",
       "Abal Cores, Lucas                    13        13   13      13        13   \n",
       "Abalde Fernandez, Esteban             1         1    1       1         1   \n",
       "Abang, Mohd Reduan                    3         3    3       3         3   \n",
       "Abarca Aguirre, Manuel               11        11   11      11        11   \n",
       "Abarca Gonzalez, Damaris             66        66   66      66        66   \n",
       "Abarca Gonzalez, Nicolas             51        51   51      51        51   \n",
       "Abarca Rivadeneira, Ivan              3         3    3       3         3   \n",
       "Abarca, D.                            4         4    4       4         4   \n",
       "Abarca, Diego                         4         4    4       4         4   \n",
       "Abasheev, Denis                      37        37   37      37        37   \n",
       "Abashev, Alex                        11        11   11      11        11   \n",
       "...                                 ...       ...  ...     ...       ...   \n",
       "Zwahr, Paul                          62        62   62      62        62   \n",
       "Zwaig, Arne                           1         1    1       1         1   \n",
       "Zwakala, Ntando                       6         6    6       6         6   \n",
       "Zwanzger, Johannes                   35        35   35      35        35   \n",
       "Zwardon, V                            2         2    2       2         2   \n",
       "Zwardon, Vojtech                    146       146  146     146       146   \n",
       "Zweschper, Erich                     24        24   24      24        24   \n",
       "Zwettler, Martin                     30        30   30      30        30   \n",
       "Zwicker, Thomas                       1         1    1       1         1   \n",
       "Zwicky, Martin                        1         1    1       1         1   \n",
       "Zwielich, Frank                       9         9    9       9         9   \n",
       "Zwingel, Stephan                      4         4    4       4         4   \n",
       "Zwirs, Jasper                         1         1    1       1         1   \n",
       "Zwirs, Nico                          61        61   61      61        61   \n",
       "Zwolakiewicz, Krzysztof               7         7    7       7         7   \n",
       "Zworestine, Charles                   1         1    1       1         1   \n",
       "Zybin, Stanislav                      7         7    7       7         7   \n",
       "Zygo, Wladyslaw                       3         3    3       3         3   \n",
       "Zygouris, Hristos                    63        63   63      63        63   \n",
       "Zykiene, Rita                         1         1    1       1         1   \n",
       "Zykina, Nadezhda                      7         7    7       7         7   \n",
       "Zykova, Antonina                     22        22   22      22        22   \n",
       "Zyla, Janusz                         43        43   43      43        43   \n",
       "Zylka, Stanislaw                     11        11   11      11        11   \n",
       "Zymberi, Agron                        2         2    2       2         2   \n",
       "Zymberi, Astrit                      26        26   26      26        26   \n",
       "Zysk, Robert                        144       144  144     144       144   \n",
       "Zysko, Jan                           45        45   45      45        45   \n",
       "Zytner, Yury                          4         4    4       4         4   \n",
       "v.d. Weth-v. Nordheim, Petra          1         1    1       1         1   \n",
       "\n",
       "                                  white_first_move  black_first_move  age  \\\n",
       "white                                                                       \n",
       "Aaberg, Anton                                   75                75   75   \n",
       "Aabling-Thomsen, Jakob                         163               163  163   \n",
       "Aadeli, Arvin                                    2                 2    2   \n",
       "Aagaard, Gert                                    4                 4    4   \n",
       "Aagaard, Jacob                                 439               439  439   \n",
       "Aage, Bjarke                                     2                 2    2   \n",
       "Aakanksha, Hagawane                              3                 3    3   \n",
       "Aakash, G.                                       3                 3    3   \n",
       "Aakio, Seppo                                     8                 8    8   \n",
       "Aalbersberg Kroon, Pedro                        11                11   11   \n",
       "Aalsberberg Kroon Pere                           1                 1    1   \n",
       "Aaltio, Erkki                                    8                 8    8   \n",
       "Aandal, Kristian                                 2                 2    2   \n",
       "Aanstad, Magnus                                  1                 1    1   \n",
       "Aarland, Stein Arild                            38                38   38   \n",
       "Aaron, Deepak                                   53                53   53   \n",
       "Aaron, Manuel                                    2                 2    2   \n",
       "Abad Sanmartin, Jorge                            1                 1    1   \n",
       "Abaeji, Sinan Younus Abdulrazzaq                 5                 5    5   \n",
       "Abal Cores, Lucas                               13                13   13   \n",
       "Abalde Fernandez, Esteban                        1                 1    1   \n",
       "Abang, Mohd Reduan                               3                 3    3   \n",
       "Abarca Aguirre, Manuel                          11                11   11   \n",
       "Abarca Gonzalez, Damaris                        66                66   66   \n",
       "Abarca Gonzalez, Nicolas                        51                51   51   \n",
       "Abarca Rivadeneira, Ivan                         3                 3    3   \n",
       "Abarca, D.                                       4                 4    4   \n",
       "Abarca, Diego                                    4                 4    4   \n",
       "Abasheev, Denis                                 37                37   37   \n",
       "Abashev, Alex                                   11                11   11   \n",
       "...                                            ...               ...  ...   \n",
       "Zwahr, Paul                                     62                62   62   \n",
       "Zwaig, Arne                                      1                 1    1   \n",
       "Zwakala, Ntando                                  6                 6    6   \n",
       "Zwanzger, Johannes                              35                35   35   \n",
       "Zwardon, V                                       2                 2    2   \n",
       "Zwardon, Vojtech                               146               146  146   \n",
       "Zweschper, Erich                                24                24   24   \n",
       "Zwettler, Martin                                30                30   30   \n",
       "Zwicker, Thomas                                  1                 1    1   \n",
       "Zwicky, Martin                                   1                 1    1   \n",
       "Zwielich, Frank                                  9                 9    9   \n",
       "Zwingel, Stephan                                 4                 4    4   \n",
       "Zwirs, Jasper                                    1                 1    1   \n",
       "Zwirs, Nico                                     61                61   61   \n",
       "Zwolakiewicz, Krzysztof                          7                 7    7   \n",
       "Zworestine, Charles                              1                 1    1   \n",
       "Zybin, Stanislav                                 7                 7    7   \n",
       "Zygo, Wladyslaw                                  3                 3    3   \n",
       "Zygouris, Hristos                               63                63   63   \n",
       "Zykiene, Rita                                    1                 1    1   \n",
       "Zykina, Nadezhda                                 7                 7    7   \n",
       "Zykova, Antonina                                22                22   22   \n",
       "Zyla, Janusz                                    43                43   43   \n",
       "Zylka, Stanislaw                                11                11   11   \n",
       "Zymberi, Agron                                   2                 2    2   \n",
       "Zymberi, Astrit                                 26                26   26   \n",
       "Zysk, Robert                                   144               144  144   \n",
       "Zysko, Jan                                      45                45   45   \n",
       "Zytner, Yury                                     4                 4    4   \n",
       "v.d. Weth-v. Nordheim, Petra                     1                 1    1   \n",
       "\n",
       "                                  estimate_white_win_by_rating  white_enc  \n",
       "white                                                                      \n",
       "Aaberg, Anton                                               75         75  \n",
       "Aabling-Thomsen, Jakob                                     163        163  \n",
       "Aadeli, Arvin                                                2          2  \n",
       "Aagaard, Gert                                                4          4  \n",
       "Aagaard, Jacob                                             439        439  \n",
       "Aage, Bjarke                                                 2          2  \n",
       "Aakanksha, Hagawane                                          3          3  \n",
       "Aakash, G.                                                   3          3  \n",
       "Aakio, Seppo                                                 8          8  \n",
       "Aalbersberg Kroon, Pedro                                    11         11  \n",
       "Aalsberberg Kroon Pere                                       1          1  \n",
       "Aaltio, Erkki                                                8          8  \n",
       "Aandal, Kristian                                             2          2  \n",
       "Aanstad, Magnus                                              1          1  \n",
       "Aarland, Stein Arild                                        38         38  \n",
       "Aaron, Deepak                                               53         53  \n",
       "Aaron, Manuel                                                2          2  \n",
       "Abad Sanmartin, Jorge                                        1          1  \n",
       "Abaeji, Sinan Younus Abdulrazzaq                             5          5  \n",
       "Abal Cores, Lucas                                           13         13  \n",
       "Abalde Fernandez, Esteban                                    1          1  \n",
       "Abang, Mohd Reduan                                           3          3  \n",
       "Abarca Aguirre, Manuel                                      11         11  \n",
       "Abarca Gonzalez, Damaris                                    66         66  \n",
       "Abarca Gonzalez, Nicolas                                    51         51  \n",
       "Abarca Rivadeneira, Ivan                                     3          3  \n",
       "Abarca, D.                                                   4          4  \n",
       "Abarca, Diego                                                4          4  \n",
       "Abasheev, Denis                                             37         37  \n",
       "Abashev, Alex                                               11         11  \n",
       "...                                                        ...        ...  \n",
       "Zwahr, Paul                                                 62         62  \n",
       "Zwaig, Arne                                                  1          1  \n",
       "Zwakala, Ntando                                              6          6  \n",
       "Zwanzger, Johannes                                          35         35  \n",
       "Zwardon, V                                                   2          2  \n",
       "Zwardon, Vojtech                                           146        146  \n",
       "Zweschper, Erich                                            24         24  \n",
       "Zwettler, Martin                                            30         30  \n",
       "Zwicker, Thomas                                              1          1  \n",
       "Zwicky, Martin                                               1          1  \n",
       "Zwielich, Frank                                              9          9  \n",
       "Zwingel, Stephan                                             4          4  \n",
       "Zwirs, Jasper                                                1          1  \n",
       "Zwirs, Nico                                                 61         61  \n",
       "Zwolakiewicz, Krzysztof                                      7          7  \n",
       "Zworestine, Charles                                          1          1  \n",
       "Zybin, Stanislav                                             7          7  \n",
       "Zygo, Wladyslaw                                              3          3  \n",
       "Zygouris, Hristos                                           63         63  \n",
       "Zykiene, Rita                                                1          1  \n",
       "Zykina, Nadezhda                                             7          7  \n",
       "Zykova, Antonina                                            22         22  \n",
       "Zyla, Janusz                                                43         43  \n",
       "Zylka, Stanislaw                                            11         11  \n",
       "Zymberi, Agron                                               2          2  \n",
       "Zymberi, Astrit                                             26         26  \n",
       "Zysk, Robert                                               144        144  \n",
       "Zysko, Jan                                                  45         45  \n",
       "Zytner, Yury                                                 4          4  \n",
       "v.d. Weth-v. Nordheim, Petra                                 1          1  \n",
       "\n",
       "[57767 rows x 10 columns]"
      ]
     },
     "execution_count": 248,
     "metadata": {},
     "output_type": "execute_result"
    }
   ],
   "source": [
    "df.groupby(['white']).count()"
   ]
  },
  {
   "cell_type": "code",
   "execution_count": 251,
   "metadata": {
    "collapsed": false
   },
   "outputs": [],
   "source": [
    "df['white_game_count'] = df.groupby('white')['white'].transform('count')"
   ]
  },
  {
   "cell_type": "code",
   "execution_count": 254,
   "metadata": {
    "collapsed": true
   },
   "outputs": [],
   "source": [
    "df['black_game_count'] = df.groupby('black')['black'].transform('count')"
   ]
  },
  {
   "cell_type": "code",
   "execution_count": 261,
   "metadata": {
    "collapsed": false
   },
   "outputs": [
    {
     "data": {
      "text/plain": [
       "Van Wely, Loek                    1766\n",
       "Ivanchuk, Vassily                 1744\n",
       "Shirov, Alexei                    1636\n",
       "Svidler, Peter                    1499\n",
       "Anand, Viswanathan                1409\n",
       "Tiviakov, Sergei                  1361\n",
       "Gelfand, Boris                    1358\n",
       "Korneev, Oleg                     1349\n",
       "Epishin, Vladimir                 1338\n",
       "Dreev, Aleksey                    1330\n",
       "Kramnik, Vladimir                 1300\n",
       "Bologan, Viktor                   1276\n",
       "Lalic, Bogdan                     1223\n",
       "Bacrot, Etienne                   1221\n",
       "Kozul, Zdenko                     1207\n",
       "Movsesian, Sergei                 1171\n",
       "Burmakin, Vladimir                1161\n",
       "Adams, Michael                    1160\n",
       "Palac, Mladen                     1145\n",
       "Leko, Peter                       1143\n",
       "Grischuk, Alexander               1140\n",
       "Korchnoi, Viktor                  1131\n",
       "Cebalo, Miso                      1128\n",
       "Krasenkow, Michal                 1126\n",
       "Hebden, Mark L                    1121\n",
       "Ehlvest, Jaan                     1111\n",
       "Zelcic, Robert                    1103\n",
       "Socko, Bartosz                    1102\n",
       "Rozentalis, Eduardas              1102\n",
       "Malaniuk, Vladimir P              1091\n",
       "                                  ... \n",
       "Sanahuja Llopis, Albert              1\n",
       "Miladi, Chaher Eddine                1\n",
       "Pitre, Hanniegn G                    1\n",
       "Ruytenberg, Ronald                   1\n",
       "Franca, Veronika                     1\n",
       "Fuse, Rafael                         1\n",
       "Andersen, So                         1\n",
       "Matovic, Mihajlo                     1\n",
       "Rasle, Corentin                      1\n",
       "Salaun, Nicolas                      1\n",
       "Stanek, Bohumil                      1\n",
       "Messina, Marco                       1\n",
       "Sandoval Enriquez, Ingmar Omar       1\n",
       "Tonteri, Ari                         1\n",
       "Perez Ibanez, Rene                   1\n",
       "Golubovi, Boris                      1\n",
       "Matrosov, Vladimir                   1\n",
       "Mkrychian, Alla                      1\n",
       "Abbasov, Amil                        1\n",
       "Nikulin, Andrey N                    1\n",
       "Thiel, T                             1\n",
       "Van der Linde, Me                    1\n",
       "Rychener, Henri                      1\n",
       "Molnar, Aurel                        1\n",
       "Salej, Jorge                         1\n",
       "Rodriguez, Emmanuel                  1\n",
       "Paradjina, Dusko                     1\n",
       "Van der Linde, M.                    1\n",
       "Werner Daniel (GER)                  1\n",
       "Festa, Samuele                       1\n",
       "Name: black, dtype: int64"
      ]
     },
     "execution_count": 261,
     "metadata": {},
     "output_type": "execute_result"
    }
   ],
   "source": [
    "df['black'].value_counts()"
   ]
  },
  {
   "cell_type": "code",
   "execution_count": 262,
   "metadata": {
    "collapsed": false
   },
   "outputs": [],
   "source": [
    "df['black_game_count'] = df.groupby('black')['black'].transform('count')"
   ]
  },
  {
   "cell_type": "code",
   "execution_count": 264,
   "metadata": {
    "collapsed": false
   },
   "outputs": [
    {
     "data": {
      "text/html": [
       "<div>\n",
       "<table border=\"1\" class=\"dataframe\">\n",
       "  <thead>\n",
       "    <tr style=\"text-align: right;\">\n",
       "      <th></th>\n",
       "      <th>black</th>\n",
       "      <th>blackelo</th>\n",
       "      <th>eco</th>\n",
       "      <th>result</th>\n",
       "      <th>white</th>\n",
       "      <th>whiteelo</th>\n",
       "      <th>white_first_move</th>\n",
       "      <th>black_first_move</th>\n",
       "      <th>age</th>\n",
       "      <th>estimate_white_win_by_rating</th>\n",
       "      <th>white_enc</th>\n",
       "      <th>white_game_count</th>\n",
       "      <th>black_game_count</th>\n",
       "    </tr>\n",
       "  </thead>\n",
       "  <tbody>\n",
       "    <tr>\n",
       "      <th>0</th>\n",
       "      <td>Kosteniuk, Alexandra</td>\n",
       "      <td>2554</td>\n",
       "      <td>A05</td>\n",
       "      <td>-1.0</td>\n",
       "      <td>Harika, Dronavalli</td>\n",
       "      <td>2511</td>\n",
       "      <td>1.Nf3</td>\n",
       "      <td>Nf6</td>\n",
       "      <td>261.0</td>\n",
       "      <td>0.484175</td>\n",
       "      <td>0</td>\n",
       "      <td>737</td>\n",
       "      <td>803</td>\n",
       "    </tr>\n",
       "    <tr>\n",
       "      <th>56</th>\n",
       "      <td>Kosteniuk, Alexandra</td>\n",
       "      <td>2554</td>\n",
       "      <td>A09</td>\n",
       "      <td>1.0</td>\n",
       "      <td>Paehtz, Elisabeth</td>\n",
       "      <td>2472</td>\n",
       "      <td>1.Nf3</td>\n",
       "      <td>d5</td>\n",
       "      <td>262.0</td>\n",
       "      <td>0.428537</td>\n",
       "      <td>13</td>\n",
       "      <td>842</td>\n",
       "      <td>803</td>\n",
       "    </tr>\n",
       "    <tr>\n",
       "      <th>63</th>\n",
       "      <td>Kosteniuk, Alexandra</td>\n",
       "      <td>2554</td>\n",
       "      <td>A07</td>\n",
       "      <td>0.0</td>\n",
       "      <td>Stefanova, A</td>\n",
       "      <td>2509</td>\n",
       "      <td>1.g3</td>\n",
       "      <td>d5</td>\n",
       "      <td>262.0</td>\n",
       "      <td>0.481300</td>\n",
       "      <td>9</td>\n",
       "      <td>24</td>\n",
       "      <td>803</td>\n",
       "    </tr>\n",
       "    <tr>\n",
       "      <th>86</th>\n",
       "      <td>Kosteniuk, Alexandra</td>\n",
       "      <td>2554</td>\n",
       "      <td>A05</td>\n",
       "      <td>1.0</td>\n",
       "      <td>Stefanova, A</td>\n",
       "      <td>2509</td>\n",
       "      <td>1.Nf3</td>\n",
       "      <td>Nf6</td>\n",
       "      <td>263.0</td>\n",
       "      <td>0.481300</td>\n",
       "      <td>9</td>\n",
       "      <td>24</td>\n",
       "      <td>803</td>\n",
       "    </tr>\n",
       "    <tr>\n",
       "      <th>1049</th>\n",
       "      <td>Kosteniuk, Alexandra</td>\n",
       "      <td>2550</td>\n",
       "      <td>A11</td>\n",
       "      <td>1.0</td>\n",
       "      <td>Jakovenko, Dmitry</td>\n",
       "      <td>2732</td>\n",
       "      <td>1.Nf3</td>\n",
       "      <td>d5</td>\n",
       "      <td>293.0</td>\n",
       "      <td>0.774148</td>\n",
       "      <td>452</td>\n",
       "      <td>748</td>\n",
       "      <td>803</td>\n",
       "    </tr>\n",
       "    <tr>\n",
       "      <th>1583</th>\n",
       "      <td>Kosteniuk, Alexandra</td>\n",
       "      <td>2550</td>\n",
       "      <td>A07</td>\n",
       "      <td>0.0</td>\n",
       "      <td>Berkes, Ferenc</td>\n",
       "      <td>2652</td>\n",
       "      <td>1.g3</td>\n",
       "      <td>d5</td>\n",
       "      <td>312.0</td>\n",
       "      <td>0.683816</td>\n",
       "      <td>183</td>\n",
       "      <td>648</td>\n",
       "      <td>803</td>\n",
       "    </tr>\n",
       "    <tr>\n",
       "      <th>3183</th>\n",
       "      <td>Kosteniuk, Alexandra</td>\n",
       "      <td>2534</td>\n",
       "      <td>A17</td>\n",
       "      <td>0.0</td>\n",
       "      <td>Zimina, Olga</td>\n",
       "      <td>2364</td>\n",
       "      <td>1.Nf3</td>\n",
       "      <td>Nf6</td>\n",
       "      <td>356.0</td>\n",
       "      <td>0.311226</td>\n",
       "      <td>1533</td>\n",
       "      <td>292</td>\n",
       "      <td>803</td>\n",
       "    </tr>\n",
       "    <tr>\n",
       "      <th>3184</th>\n",
       "      <td>Kosteniuk, Alexandra</td>\n",
       "      <td>2534</td>\n",
       "      <td>A01</td>\n",
       "      <td>-1.0</td>\n",
       "      <td>Vasilevich, Irina</td>\n",
       "      <td>2305</td>\n",
       "      <td>1.b3</td>\n",
       "      <td>d5</td>\n",
       "      <td>356.0</td>\n",
       "      <td>0.243419</td>\n",
       "      <td>1530</td>\n",
       "      <td>324</td>\n",
       "      <td>803</td>\n",
       "    </tr>\n",
       "    <tr>\n",
       "      <th>4323</th>\n",
       "      <td>Kosteniuk, Alexandra</td>\n",
       "      <td>2525</td>\n",
       "      <td>A29</td>\n",
       "      <td>-1.0</td>\n",
       "      <td>Khotenashvili, Bela</td>\n",
       "      <td>2502</td>\n",
       "      <td>1.c4</td>\n",
       "      <td>Nf6</td>\n",
       "      <td>394.0</td>\n",
       "      <td>0.512949</td>\n",
       "      <td>12</td>\n",
       "      <td>413</td>\n",
       "      <td>803</td>\n",
       "    </tr>\n",
       "    <tr>\n",
       "      <th>5672</th>\n",
       "      <td>Kosteniuk, Alexandra</td>\n",
       "      <td>2530</td>\n",
       "      <td>A07</td>\n",
       "      <td>1.0</td>\n",
       "      <td>Stefanova, Antoaneta</td>\n",
       "      <td>2500</td>\n",
       "      <td>1.Nf3</td>\n",
       "      <td>Nf6</td>\n",
       "      <td>409.0</td>\n",
       "      <td>0.502878</td>\n",
       "      <td>1136</td>\n",
       "      <td>1079</td>\n",
       "      <td>803</td>\n",
       "    </tr>\n",
       "    <tr>\n",
       "      <th>7495</th>\n",
       "      <td>Goryachkina, Aleksandra</td>\n",
       "      <td>2474</td>\n",
       "      <td>A35</td>\n",
       "      <td>0.0</td>\n",
       "      <td>Kosteniuk, Alexandra</td>\n",
       "      <td>2526</td>\n",
       "      <td>1.c4</td>\n",
       "      <td>c5</td>\n",
       "      <td>456.0</td>\n",
       "      <td>0.618584</td>\n",
       "      <td>2784</td>\n",
       "      <td>796</td>\n",
       "      <td>295</td>\n",
       "    </tr>\n",
       "    <tr>\n",
       "      <th>9918</th>\n",
       "      <td>Kosteniuk, Alexandra</td>\n",
       "      <td>2520</td>\n",
       "      <td>A13</td>\n",
       "      <td>1.0</td>\n",
       "      <td>Paehtz, Elisabeth</td>\n",
       "      <td>2458</td>\n",
       "      <td>1.Nf3</td>\n",
       "      <td>d5</td>\n",
       "      <td>508.0</td>\n",
       "      <td>0.456934</td>\n",
       "      <td>13</td>\n",
       "      <td>842</td>\n",
       "      <td>803</td>\n",
       "    </tr>\n",
       "    <tr>\n",
       "      <th>10688</th>\n",
       "      <td>Kosteniuk, Alexandra</td>\n",
       "      <td>2530</td>\n",
       "      <td>A07</td>\n",
       "      <td>-1.0</td>\n",
       "      <td>Stefanova, Antoaneta</td>\n",
       "      <td>2512</td>\n",
       "      <td>1.Nf3</td>\n",
       "      <td>d5</td>\n",
       "      <td>532.0</td>\n",
       "      <td>0.520137</td>\n",
       "      <td>1136</td>\n",
       "      <td>1079</td>\n",
       "      <td>803</td>\n",
       "    </tr>\n",
       "    <tr>\n",
       "      <th>10694</th>\n",
       "      <td>Kosteniuk, Alexandra</td>\n",
       "      <td>2530</td>\n",
       "      <td>A28</td>\n",
       "      <td>-1.0</td>\n",
       "      <td>Arabidze, Meri</td>\n",
       "      <td>2403</td>\n",
       "      <td>1.c4</td>\n",
       "      <td>Nf6</td>\n",
       "      <td>533.0</td>\n",
       "      <td>0.366592</td>\n",
       "      <td>1606</td>\n",
       "      <td>226</td>\n",
       "      <td>803</td>\n",
       "    </tr>\n",
       "    <tr>\n",
       "      <th>10720</th>\n",
       "      <td>Kosteniuk, Alexandra</td>\n",
       "      <td>2530</td>\n",
       "      <td>A13</td>\n",
       "      <td>-1.0</td>\n",
       "      <td>Paehtz, Elisabeth</td>\n",
       "      <td>2473</td>\n",
       "      <td>1.Nf3</td>\n",
       "      <td>d5</td>\n",
       "      <td>533.0</td>\n",
       "      <td>0.464084</td>\n",
       "      <td>13</td>\n",
       "      <td>842</td>\n",
       "      <td>803</td>\n",
       "    </tr>\n",
       "    <tr>\n",
       "      <th>11715</th>\n",
       "      <td>Iljushina, Olga</td>\n",
       "      <td>2300</td>\n",
       "      <td>A35</td>\n",
       "      <td>1.0</td>\n",
       "      <td>Kosteniuk, Alexandra</td>\n",
       "      <td>2529</td>\n",
       "      <td>1.c4</td>\n",
       "      <td>c5</td>\n",
       "      <td>561.0</td>\n",
       "      <td>0.817938</td>\n",
       "      <td>2784</td>\n",
       "      <td>796</td>\n",
       "      <td>105</td>\n",
       "    </tr>\n",
       "    <tr>\n",
       "      <th>12182</th>\n",
       "      <td>Kosteniuk, Alexandra</td>\n",
       "      <td>2529</td>\n",
       "      <td>A28</td>\n",
       "      <td>-1.0</td>\n",
       "      <td>Ju, Wenjun</td>\n",
       "      <td>2557</td>\n",
       "      <td>1.c4</td>\n",
       "      <td>Nf6</td>\n",
       "      <td>575.0</td>\n",
       "      <td>0.585499</td>\n",
       "      <td>4</td>\n",
       "      <td>532</td>\n",
       "      <td>803</td>\n",
       "    </tr>\n",
       "    <tr>\n",
       "      <th>16803</th>\n",
       "      <td>Kosteniuk, Alexandra</td>\n",
       "      <td>2541</td>\n",
       "      <td>A07</td>\n",
       "      <td>-1.0</td>\n",
       "      <td>Zhao, Xue</td>\n",
       "      <td>2514</td>\n",
       "      <td>1.Nf3</td>\n",
       "      <td>d5</td>\n",
       "      <td>700.0</td>\n",
       "      <td>0.507195</td>\n",
       "      <td>2719</td>\n",
       "      <td>687</td>\n",
       "      <td>803</td>\n",
       "    </tr>\n",
       "    <tr>\n",
       "      <th>16924</th>\n",
       "      <td>Kosteniuk, Alexandra</td>\n",
       "      <td>2541</td>\n",
       "      <td>A13</td>\n",
       "      <td>0.0</td>\n",
       "      <td>Dzagnidze, Nana</td>\n",
       "      <td>2570</td>\n",
       "      <td>1.Nf3</td>\n",
       "      <td>d5</td>\n",
       "      <td>702.0</td>\n",
       "      <td>0.586895</td>\n",
       "      <td>7</td>\n",
       "      <td>645</td>\n",
       "      <td>803</td>\n",
       "    </tr>\n",
       "    <tr>\n",
       "      <th>17033</th>\n",
       "      <td>Kosteniuk, Alexandra</td>\n",
       "      <td>2541</td>\n",
       "      <td>A07</td>\n",
       "      <td>0.0</td>\n",
       "      <td>Zhao, Xue</td>\n",
       "      <td>2514</td>\n",
       "      <td>1.Nf3</td>\n",
       "      <td>d5</td>\n",
       "      <td>703.0</td>\n",
       "      <td>0.507195</td>\n",
       "      <td>2719</td>\n",
       "      <td>687</td>\n",
       "      <td>803</td>\n",
       "    </tr>\n",
       "    <tr>\n",
       "      <th>17138</th>\n",
       "      <td>Kosteniuk, Alexandra</td>\n",
       "      <td>2541</td>\n",
       "      <td>A07</td>\n",
       "      <td>0.0</td>\n",
       "      <td>Cramling, Pia</td>\n",
       "      <td>2518</td>\n",
       "      <td>1.Nf3</td>\n",
       "      <td>d5</td>\n",
       "      <td>704.0</td>\n",
       "      <td>0.512949</td>\n",
       "      <td>242</td>\n",
       "      <td>1090</td>\n",
       "      <td>803</td>\n",
       "    </tr>\n",
       "    <tr>\n",
       "      <th>17144</th>\n",
       "      <td>Kosteniuk, Alexandra</td>\n",
       "      <td>2541</td>\n",
       "      <td>A07</td>\n",
       "      <td>-1.0</td>\n",
       "      <td>Harika, Dronavalli</td>\n",
       "      <td>2505</td>\n",
       "      <td>1.Nf3</td>\n",
       "      <td>d5</td>\n",
       "      <td>704.0</td>\n",
       "      <td>0.494244</td>\n",
       "      <td>0</td>\n",
       "      <td>737</td>\n",
       "      <td>803</td>\n",
       "    </tr>\n",
       "    <tr>\n",
       "      <th>17146</th>\n",
       "      <td>Kosteniuk, Alexandra</td>\n",
       "      <td>2541</td>\n",
       "      <td>A05</td>\n",
       "      <td>0.0</td>\n",
       "      <td>Stefanova, Antoaneta</td>\n",
       "      <td>2517</td>\n",
       "      <td>1.Nf3</td>\n",
       "      <td>Nf6</td>\n",
       "      <td>704.0</td>\n",
       "      <td>0.511511</td>\n",
       "      <td>1136</td>\n",
       "      <td>1079</td>\n",
       "      <td>803</td>\n",
       "    </tr>\n",
       "    <tr>\n",
       "      <th>17153</th>\n",
       "      <td>Kosteniuk, Alexandra</td>\n",
       "      <td>2541</td>\n",
       "      <td>A07</td>\n",
       "      <td>0.0</td>\n",
       "      <td>Stefanova, Antoaneta</td>\n",
       "      <td>2517</td>\n",
       "      <td>1.Nf3</td>\n",
       "      <td>d5</td>\n",
       "      <td>705.0</td>\n",
       "      <td>0.511511</td>\n",
       "      <td>1136</td>\n",
       "      <td>1079</td>\n",
       "      <td>803</td>\n",
       "    </tr>\n",
       "    <tr>\n",
       "      <th>17205</th>\n",
       "      <td>Kosteniuk, Alexandra</td>\n",
       "      <td>2541</td>\n",
       "      <td>A17</td>\n",
       "      <td>-1.0</td>\n",
       "      <td>Koneru, Humpy</td>\n",
       "      <td>2581</td>\n",
       "      <td>1.Nf3</td>\n",
       "      <td>Nf6</td>\n",
       "      <td>706.0</td>\n",
       "      <td>0.602158</td>\n",
       "      <td>4862</td>\n",
       "      <td>640</td>\n",
       "      <td>803</td>\n",
       "    </tr>\n",
       "    <tr>\n",
       "      <th>17209</th>\n",
       "      <td>Kosteniuk, Alexandra</td>\n",
       "      <td>2541</td>\n",
       "      <td>A07</td>\n",
       "      <td>1.0</td>\n",
       "      <td>Zhao, Xue</td>\n",
       "      <td>2514</td>\n",
       "      <td>1.Nf3</td>\n",
       "      <td>d5</td>\n",
       "      <td>706.0</td>\n",
       "      <td>0.507195</td>\n",
       "      <td>2719</td>\n",
       "      <td>687</td>\n",
       "      <td>803</td>\n",
       "    </tr>\n",
       "    <tr>\n",
       "      <th>17721</th>\n",
       "      <td>Kosteniuk, Alexandra</td>\n",
       "      <td>2541</td>\n",
       "      <td>A13</td>\n",
       "      <td>-1.0</td>\n",
       "      <td>Kovalevskaya, Ekaterina</td>\n",
       "      <td>2439</td>\n",
       "      <td>1.c4</td>\n",
       "      <td>e6</td>\n",
       "      <td>719.0</td>\n",
       "      <td>0.400603</td>\n",
       "      <td>2359</td>\n",
       "      <td>648</td>\n",
       "      <td>803</td>\n",
       "    </tr>\n",
       "    <tr>\n",
       "      <th>18287</th>\n",
       "      <td>Kosteniuk, Alexandra</td>\n",
       "      <td>2541</td>\n",
       "      <td>A05</td>\n",
       "      <td>1.0</td>\n",
       "      <td>Karjakin, Sergey</td>\n",
       "      <td>2770</td>\n",
       "      <td>1.Nf3</td>\n",
       "      <td>Nf6</td>\n",
       "      <td>733.0</td>\n",
       "      <td>0.817938</td>\n",
       "      <td>607</td>\n",
       "      <td>1016</td>\n",
       "      <td>803</td>\n",
       "    </tr>\n",
       "    <tr>\n",
       "      <th>18355</th>\n",
       "      <td>Kosteniuk, Alexandra</td>\n",
       "      <td>2541</td>\n",
       "      <td>A30</td>\n",
       "      <td>1.0</td>\n",
       "      <td>Svidler, Peter</td>\n",
       "      <td>2743</td>\n",
       "      <td>1.Nf3</td>\n",
       "      <td>Nf6</td>\n",
       "      <td>734.0</td>\n",
       "      <td>0.793641</td>\n",
       "      <td>1669</td>\n",
       "      <td>1529</td>\n",
       "      <td>803</td>\n",
       "    </tr>\n",
       "    <tr>\n",
       "      <th>18356</th>\n",
       "      <td>Kosteniuk, Alexandra</td>\n",
       "      <td>2541</td>\n",
       "      <td>A14</td>\n",
       "      <td>-1.0</td>\n",
       "      <td>Kramnik, Vladimir</td>\n",
       "      <td>2760</td>\n",
       "      <td>1.Nf3</td>\n",
       "      <td>Nf6</td>\n",
       "      <td>734.0</td>\n",
       "      <td>0.809208</td>\n",
       "      <td>251</td>\n",
       "      <td>1333</td>\n",
       "      <td>803</td>\n",
       "    </tr>\n",
       "    <tr>\n",
       "      <th>...</th>\n",
       "      <td>...</td>\n",
       "      <td>...</td>\n",
       "      <td>...</td>\n",
       "      <td>...</td>\n",
       "      <td>...</td>\n",
       "      <td>...</td>\n",
       "      <td>...</td>\n",
       "      <td>...</td>\n",
       "      <td>...</td>\n",
       "      <td>...</td>\n",
       "      <td>...</td>\n",
       "      <td>...</td>\n",
       "      <td>...</td>\n",
       "    </tr>\n",
       "    <tr>\n",
       "      <th>1824895</th>\n",
       "      <td>Zaiatz, Elena</td>\n",
       "      <td>2398</td>\n",
       "      <td>C45</td>\n",
       "      <td>0.0</td>\n",
       "      <td>Kosteniuk, Alexandra</td>\n",
       "      <td>2492</td>\n",
       "      <td>1.e4</td>\n",
       "      <td>e5</td>\n",
       "      <td>4195.0</td>\n",
       "      <td>0.673776</td>\n",
       "      <td>2784</td>\n",
       "      <td>796</td>\n",
       "      <td>326</td>\n",
       "    </tr>\n",
       "    <tr>\n",
       "      <th>1826414</th>\n",
       "      <td>Kosteniuk, Alexandra</td>\n",
       "      <td>2490</td>\n",
       "      <td>C28</td>\n",
       "      <td>1.0</td>\n",
       "      <td>Karjakin, Sergey</td>\n",
       "      <td>2599</td>\n",
       "      <td>1.e4</td>\n",
       "      <td>e5</td>\n",
       "      <td>4310.0</td>\n",
       "      <td>0.692463</td>\n",
       "      <td>607</td>\n",
       "      <td>1016</td>\n",
       "      <td>803</td>\n",
       "    </tr>\n",
       "    <tr>\n",
       "      <th>1826497</th>\n",
       "      <td>Kosteniuk, Alexandra</td>\n",
       "      <td>2490</td>\n",
       "      <td>C42</td>\n",
       "      <td>0.0</td>\n",
       "      <td>Cheparinov, Ivan</td>\n",
       "      <td>2572</td>\n",
       "      <td>1.e4</td>\n",
       "      <td>e5</td>\n",
       "      <td>4320.0</td>\n",
       "      <td>0.658415</td>\n",
       "      <td>4438</td>\n",
       "      <td>732</td>\n",
       "      <td>803</td>\n",
       "    </tr>\n",
       "    <tr>\n",
       "      <th>1828304</th>\n",
       "      <td>Lagno, Kateryna</td>\n",
       "      <td>2472</td>\n",
       "      <td>C42</td>\n",
       "      <td>-1.0</td>\n",
       "      <td>Kosteniuk, Alexandra</td>\n",
       "      <td>2511</td>\n",
       "      <td>1.e4</td>\n",
       "      <td>e5</td>\n",
       "      <td>4443.0</td>\n",
       "      <td>0.600778</td>\n",
       "      <td>2784</td>\n",
       "      <td>796</td>\n",
       "      <td>623</td>\n",
       "    </tr>\n",
       "    <tr>\n",
       "      <th>1828323</th>\n",
       "      <td>Kosteniuk, Alexandra</td>\n",
       "      <td>2511</td>\n",
       "      <td>C42</td>\n",
       "      <td>1.0</td>\n",
       "      <td>Navara, David</td>\n",
       "      <td>2616</td>\n",
       "      <td>1.e4</td>\n",
       "      <td>e5</td>\n",
       "      <td>4445.0</td>\n",
       "      <td>0.687538</td>\n",
       "      <td>1271</td>\n",
       "      <td>906</td>\n",
       "      <td>803</td>\n",
       "    </tr>\n",
       "    <tr>\n",
       "      <th>1829048</th>\n",
       "      <td>Raetsky, Alexander</td>\n",
       "      <td>2399</td>\n",
       "      <td>C42</td>\n",
       "      <td>-1.0</td>\n",
       "      <td>Kosteniuk, Alexandra</td>\n",
       "      <td>2511</td>\n",
       "      <td>1.e4</td>\n",
       "      <td>e5</td>\n",
       "      <td>4497.0</td>\n",
       "      <td>0.696129</td>\n",
       "      <td>2784</td>\n",
       "      <td>796</td>\n",
       "      <td>443</td>\n",
       "    </tr>\n",
       "    <tr>\n",
       "      <th>1829303</th>\n",
       "      <td>Kosteniuk, Alexandra</td>\n",
       "      <td>2469</td>\n",
       "      <td>C42</td>\n",
       "      <td>-1.0</td>\n",
       "      <td>Galliamova, Alisa</td>\n",
       "      <td>2502</td>\n",
       "      <td>1.e4</td>\n",
       "      <td>e5</td>\n",
       "      <td>4514.0</td>\n",
       "      <td>0.592466</td>\n",
       "      <td>3686</td>\n",
       "      <td>463</td>\n",
       "      <td>803</td>\n",
       "    </tr>\n",
       "    <tr>\n",
       "      <th>1829332</th>\n",
       "      <td>Stepovaia, Tatiana</td>\n",
       "      <td>2362</td>\n",
       "      <td>C42</td>\n",
       "      <td>1.0</td>\n",
       "      <td>Kosteniuk, Alexandra</td>\n",
       "      <td>2469</td>\n",
       "      <td>1.e4</td>\n",
       "      <td>e5</td>\n",
       "      <td>4516.0</td>\n",
       "      <td>0.690006</td>\n",
       "      <td>2784</td>\n",
       "      <td>796</td>\n",
       "      <td>291</td>\n",
       "    </tr>\n",
       "    <tr>\n",
       "      <th>1829474</th>\n",
       "      <td>Skripchenko, Almira</td>\n",
       "      <td>2456</td>\n",
       "      <td>C41</td>\n",
       "      <td>0.0</td>\n",
       "      <td>Kosteniuk, Alexandra</td>\n",
       "      <td>2469</td>\n",
       "      <td>1.e4</td>\n",
       "      <td>e5</td>\n",
       "      <td>4532.0</td>\n",
       "      <td>0.564400</td>\n",
       "      <td>2784</td>\n",
       "      <td>796</td>\n",
       "      <td>697</td>\n",
       "    </tr>\n",
       "    <tr>\n",
       "      <th>1830289</th>\n",
       "      <td>Kosteniuk, Alexandra</td>\n",
       "      <td>2469</td>\n",
       "      <td>C42</td>\n",
       "      <td>0.0</td>\n",
       "      <td>Peptan, Corina-Isabela</td>\n",
       "      <td>2439</td>\n",
       "      <td>1.e4</td>\n",
       "      <td>e5</td>\n",
       "      <td>4616.0</td>\n",
       "      <td>0.502878</td>\n",
       "      <td>6219</td>\n",
       "      <td>499</td>\n",
       "      <td>803</td>\n",
       "    </tr>\n",
       "    <tr>\n",
       "      <th>1832142</th>\n",
       "      <td>Vajda, Szidonia</td>\n",
       "      <td>2360</td>\n",
       "      <td>C41</td>\n",
       "      <td>-1.0</td>\n",
       "      <td>Kosteniuk, Alexandra</td>\n",
       "      <td>2451</td>\n",
       "      <td>1.e4</td>\n",
       "      <td>e5</td>\n",
       "      <td>4777.0</td>\n",
       "      <td>0.669969</td>\n",
       "      <td>2784</td>\n",
       "      <td>796</td>\n",
       "      <td>454</td>\n",
       "    </tr>\n",
       "    <tr>\n",
       "      <th>1832532</th>\n",
       "      <td>Mamedyarov, Shakhriyar</td>\n",
       "      <td>2585</td>\n",
       "      <td>C54</td>\n",
       "      <td>-1.0</td>\n",
       "      <td>Kosteniuk, Alexandra</td>\n",
       "      <td>2457</td>\n",
       "      <td>1.e4</td>\n",
       "      <td>e5</td>\n",
       "      <td>4808.0</td>\n",
       "      <td>0.365257</td>\n",
       "      <td>2784</td>\n",
       "      <td>796</td>\n",
       "      <td>972</td>\n",
       "    </tr>\n",
       "    <tr>\n",
       "      <th>1834386</th>\n",
       "      <td>Bick, John D</td>\n",
       "      <td>2273</td>\n",
       "      <td>C42</td>\n",
       "      <td>1.0</td>\n",
       "      <td>Kosteniuk, Alexandra</td>\n",
       "      <td>2452</td>\n",
       "      <td>1.e4</td>\n",
       "      <td>e5</td>\n",
       "      <td>4960.0</td>\n",
       "      <td>0.771114</td>\n",
       "      <td>2784</td>\n",
       "      <td>796</td>\n",
       "      <td>94</td>\n",
       "    </tr>\n",
       "    <tr>\n",
       "      <th>1835133</th>\n",
       "      <td>Jonkman, Harmen</td>\n",
       "      <td>2436</td>\n",
       "      <td>C45</td>\n",
       "      <td>-1.0</td>\n",
       "      <td>Kosteniuk, Alexandra</td>\n",
       "      <td>2456</td>\n",
       "      <td>1.e4</td>\n",
       "      <td>e5</td>\n",
       "      <td>5053.0</td>\n",
       "      <td>0.574280</td>\n",
       "      <td>2784</td>\n",
       "      <td>796</td>\n",
       "      <td>508</td>\n",
       "    </tr>\n",
       "    <tr>\n",
       "      <th>1839187</th>\n",
       "      <td>Zhu, Chen</td>\n",
       "      <td>2497</td>\n",
       "      <td>C42</td>\n",
       "      <td>1.0</td>\n",
       "      <td>Kosteniuk, Alexandra</td>\n",
       "      <td>2455</td>\n",
       "      <td>1.e4</td>\n",
       "      <td>e5</td>\n",
       "      <td>5457.0</td>\n",
       "      <td>0.485613</td>\n",
       "      <td>2784</td>\n",
       "      <td>796</td>\n",
       "      <td>515</td>\n",
       "    </tr>\n",
       "    <tr>\n",
       "      <th>1839188</th>\n",
       "      <td>Xu, Yuhua</td>\n",
       "      <td>2485</td>\n",
       "      <td>C47</td>\n",
       "      <td>1.0</td>\n",
       "      <td>Kosteniuk, Alexandra</td>\n",
       "      <td>2455</td>\n",
       "      <td>1.e4</td>\n",
       "      <td>e5</td>\n",
       "      <td>5458.0</td>\n",
       "      <td>0.502878</td>\n",
       "      <td>2784</td>\n",
       "      <td>796</td>\n",
       "      <td>234</td>\n",
       "    </tr>\n",
       "    <tr>\n",
       "      <th>1839471</th>\n",
       "      <td>Lazhevsky, Gleb</td>\n",
       "      <td>2240</td>\n",
       "      <td>C41</td>\n",
       "      <td>1.0</td>\n",
       "      <td>Kosteniuk, Alexandra</td>\n",
       "      <td>2455</td>\n",
       "      <td>1.e4</td>\n",
       "      <td>e5</td>\n",
       "      <td>5500.0</td>\n",
       "      <td>0.805628</td>\n",
       "      <td>2784</td>\n",
       "      <td>796</td>\n",
       "      <td>7</td>\n",
       "    </tr>\n",
       "    <tr>\n",
       "      <th>1841249</th>\n",
       "      <td>Moser, Eva</td>\n",
       "      <td>2309</td>\n",
       "      <td>C41</td>\n",
       "      <td>1.0</td>\n",
       "      <td>Kosteniuk, Alexandra</td>\n",
       "      <td>2397</td>\n",
       "      <td>1.e4</td>\n",
       "      <td>d6</td>\n",
       "      <td>5684.0</td>\n",
       "      <td>0.666139</td>\n",
       "      <td>2784</td>\n",
       "      <td>796</td>\n",
       "      <td>465</td>\n",
       "    </tr>\n",
       "    <tr>\n",
       "      <th>1843776</th>\n",
       "      <td>Hamzabegovic, Mersudi</td>\n",
       "      <td>2104</td>\n",
       "      <td>C40</td>\n",
       "      <td>1.0</td>\n",
       "      <td>Kosteniuk, Alexandra</td>\n",
       "      <td>2409</td>\n",
       "      <td>1.e4</td>\n",
       "      <td>e5</td>\n",
       "      <td>6013.0</td>\n",
       "      <td>0.874344</td>\n",
       "      <td>2784</td>\n",
       "      <td>796</td>\n",
       "      <td>3</td>\n",
       "    </tr>\n",
       "    <tr>\n",
       "      <th>1844305</th>\n",
       "      <td>Bouchaud, Vincent</td>\n",
       "      <td>2195</td>\n",
       "      <td>C25</td>\n",
       "      <td>1.0</td>\n",
       "      <td>Kosteniuk, Alexandra</td>\n",
       "      <td>2409</td>\n",
       "      <td>1.e4</td>\n",
       "      <td>e5</td>\n",
       "      <td>6100.0</td>\n",
       "      <td>0.804725</td>\n",
       "      <td>2784</td>\n",
       "      <td>796</td>\n",
       "      <td>17</td>\n",
       "    </tr>\n",
       "    <tr>\n",
       "      <th>1844311</th>\n",
       "      <td>Aigner, M.</td>\n",
       "      <td>2054</td>\n",
       "      <td>C25</td>\n",
       "      <td>1.0</td>\n",
       "      <td>Kosteniuk, Alexandra</td>\n",
       "      <td>2409</td>\n",
       "      <td>1.e4</td>\n",
       "      <td>e5</td>\n",
       "      <td>6100.0</td>\n",
       "      <td>0.902714</td>\n",
       "      <td>2784</td>\n",
       "      <td>796</td>\n",
       "      <td>10</td>\n",
       "    </tr>\n",
       "    <tr>\n",
       "      <th>1844597</th>\n",
       "      <td>Werner, C.</td>\n",
       "      <td>2314</td>\n",
       "      <td>C28</td>\n",
       "      <td>1.0</td>\n",
       "      <td>Kosteniuk, Alexandra</td>\n",
       "      <td>2409</td>\n",
       "      <td>1.e4</td>\n",
       "      <td>e5</td>\n",
       "      <td>6138.0</td>\n",
       "      <td>0.675040</td>\n",
       "      <td>2784</td>\n",
       "      <td>796</td>\n",
       "      <td>11</td>\n",
       "    </tr>\n",
       "    <tr>\n",
       "      <th>1844785</th>\n",
       "      <td>Shchekachev, Andrei</td>\n",
       "      <td>2509</td>\n",
       "      <td>C28</td>\n",
       "      <td>0.0</td>\n",
       "      <td>Kosteniuk, Alexandra</td>\n",
       "      <td>2409</td>\n",
       "      <td>1.e4</td>\n",
       "      <td>e5</td>\n",
       "      <td>5849.0</td>\n",
       "      <td>0.403371</td>\n",
       "      <td>2784</td>\n",
       "      <td>796</td>\n",
       "      <td>627</td>\n",
       "    </tr>\n",
       "    <tr>\n",
       "      <th>1846314</th>\n",
       "      <td>Ovod, Evgenija</td>\n",
       "      <td>2290</td>\n",
       "      <td>C28</td>\n",
       "      <td>0.0</td>\n",
       "      <td>Kosteniuk, Alexandra</td>\n",
       "      <td>2329</td>\n",
       "      <td>1.e4</td>\n",
       "      <td>e5</td>\n",
       "      <td>6393.0</td>\n",
       "      <td>0.600778</td>\n",
       "      <td>2784</td>\n",
       "      <td>796</td>\n",
       "      <td>412</td>\n",
       "    </tr>\n",
       "    <tr>\n",
       "      <th>1846871</th>\n",
       "      <td>Vul, Arkadi Eremeevich</td>\n",
       "      <td>2445</td>\n",
       "      <td>C24</td>\n",
       "      <td>0.0</td>\n",
       "      <td>Kosteniuk, Alexandra</td>\n",
       "      <td>2275</td>\n",
       "      <td>1.e4</td>\n",
       "      <td>e5</td>\n",
       "      <td>6215.0</td>\n",
       "      <td>0.311226</td>\n",
       "      <td>2784</td>\n",
       "      <td>796</td>\n",
       "      <td>179</td>\n",
       "    </tr>\n",
       "    <tr>\n",
       "      <th>1847467</th>\n",
       "      <td>Theissl Pokorna, Regina</td>\n",
       "      <td>2170</td>\n",
       "      <td>C28</td>\n",
       "      <td>1.0</td>\n",
       "      <td>Kosteniuk, Alexandra</td>\n",
       "      <td>2270</td>\n",
       "      <td>1.e4</td>\n",
       "      <td>e5</td>\n",
       "      <td>6616.0</td>\n",
       "      <td>0.681322</td>\n",
       "      <td>2784</td>\n",
       "      <td>796</td>\n",
       "      <td>341</td>\n",
       "    </tr>\n",
       "    <tr>\n",
       "      <th>1847468</th>\n",
       "      <td>Pokorna, R</td>\n",
       "      <td>2170</td>\n",
       "      <td>C28</td>\n",
       "      <td>1.0</td>\n",
       "      <td>Kosteniuk, Alexandra</td>\n",
       "      <td>2270</td>\n",
       "      <td>1.e4</td>\n",
       "      <td>e5</td>\n",
       "      <td>6616.0</td>\n",
       "      <td>0.681322</td>\n",
       "      <td>2784</td>\n",
       "      <td>796</td>\n",
       "      <td>8</td>\n",
       "    </tr>\n",
       "    <tr>\n",
       "      <th>1848751</th>\n",
       "      <td>Kazarova, Irina</td>\n",
       "      <td>2180</td>\n",
       "      <td>C29</td>\n",
       "      <td>0.0</td>\n",
       "      <td>Kosteniuk, Alexandra</td>\n",
       "      <td>2260</td>\n",
       "      <td>1.e4</td>\n",
       "      <td>e5</td>\n",
       "      <td>6580.0</td>\n",
       "      <td>0.655821</td>\n",
       "      <td>2784</td>\n",
       "      <td>796</td>\n",
       "      <td>6</td>\n",
       "    </tr>\n",
       "    <tr>\n",
       "      <th>1849480</th>\n",
       "      <td>Bezgodova, Svetlana</td>\n",
       "      <td>2180</td>\n",
       "      <td>C29</td>\n",
       "      <td>1.0</td>\n",
       "      <td>Kosteniuk, Alexandra</td>\n",
       "      <td>2275</td>\n",
       "      <td>1.e4</td>\n",
       "      <td>e5</td>\n",
       "      <td>6993.0</td>\n",
       "      <td>0.675040</td>\n",
       "      <td>2784</td>\n",
       "      <td>796</td>\n",
       "      <td>189</td>\n",
       "    </tr>\n",
       "    <tr>\n",
       "      <th>1852579</th>\n",
       "      <td>Kritz, Leonid</td>\n",
       "      <td>2155</td>\n",
       "      <td>C29</td>\n",
       "      <td>-1.0</td>\n",
       "      <td>Kosteniuk, Alexandra</td>\n",
       "      <td>2295</td>\n",
       "      <td>1.e4</td>\n",
       "      <td>e5</td>\n",
       "      <td>7310.0</td>\n",
       "      <td>0.729110</td>\n",
       "      <td>2784</td>\n",
       "      <td>796</td>\n",
       "      <td>411</td>\n",
       "    </tr>\n",
       "  </tbody>\n",
       "</table>\n",
       "<p>1599 rows × 13 columns</p>\n",
       "</div>"
      ],
      "text/plain": [
       "                           black  blackelo  eco  result  \\\n",
       "0           Kosteniuk, Alexandra      2554  A05    -1.0   \n",
       "56          Kosteniuk, Alexandra      2554  A09     1.0   \n",
       "63          Kosteniuk, Alexandra      2554  A07     0.0   \n",
       "86          Kosteniuk, Alexandra      2554  A05     1.0   \n",
       "1049        Kosteniuk, Alexandra      2550  A11     1.0   \n",
       "1583        Kosteniuk, Alexandra      2550  A07     0.0   \n",
       "3183        Kosteniuk, Alexandra      2534  A17     0.0   \n",
       "3184        Kosteniuk, Alexandra      2534  A01    -1.0   \n",
       "4323        Kosteniuk, Alexandra      2525  A29    -1.0   \n",
       "5672        Kosteniuk, Alexandra      2530  A07     1.0   \n",
       "7495     Goryachkina, Aleksandra      2474  A35     0.0   \n",
       "9918        Kosteniuk, Alexandra      2520  A13     1.0   \n",
       "10688       Kosteniuk, Alexandra      2530  A07    -1.0   \n",
       "10694       Kosteniuk, Alexandra      2530  A28    -1.0   \n",
       "10720       Kosteniuk, Alexandra      2530  A13    -1.0   \n",
       "11715            Iljushina, Olga      2300  A35     1.0   \n",
       "12182       Kosteniuk, Alexandra      2529  A28    -1.0   \n",
       "16803       Kosteniuk, Alexandra      2541  A07    -1.0   \n",
       "16924       Kosteniuk, Alexandra      2541  A13     0.0   \n",
       "17033       Kosteniuk, Alexandra      2541  A07     0.0   \n",
       "17138       Kosteniuk, Alexandra      2541  A07     0.0   \n",
       "17144       Kosteniuk, Alexandra      2541  A07    -1.0   \n",
       "17146       Kosteniuk, Alexandra      2541  A05     0.0   \n",
       "17153       Kosteniuk, Alexandra      2541  A07     0.0   \n",
       "17205       Kosteniuk, Alexandra      2541  A17    -1.0   \n",
       "17209       Kosteniuk, Alexandra      2541  A07     1.0   \n",
       "17721       Kosteniuk, Alexandra      2541  A13    -1.0   \n",
       "18287       Kosteniuk, Alexandra      2541  A05     1.0   \n",
       "18355       Kosteniuk, Alexandra      2541  A30     1.0   \n",
       "18356       Kosteniuk, Alexandra      2541  A14    -1.0   \n",
       "...                          ...       ...  ...     ...   \n",
       "1824895            Zaiatz, Elena      2398  C45     0.0   \n",
       "1826414     Kosteniuk, Alexandra      2490  C28     1.0   \n",
       "1826497     Kosteniuk, Alexandra      2490  C42     0.0   \n",
       "1828304          Lagno, Kateryna      2472  C42    -1.0   \n",
       "1828323     Kosteniuk, Alexandra      2511  C42     1.0   \n",
       "1829048       Raetsky, Alexander      2399  C42    -1.0   \n",
       "1829303     Kosteniuk, Alexandra      2469  C42    -1.0   \n",
       "1829332       Stepovaia, Tatiana      2362  C42     1.0   \n",
       "1829474      Skripchenko, Almira      2456  C41     0.0   \n",
       "1830289     Kosteniuk, Alexandra      2469  C42     0.0   \n",
       "1832142          Vajda, Szidonia      2360  C41    -1.0   \n",
       "1832532   Mamedyarov, Shakhriyar      2585  C54    -1.0   \n",
       "1834386             Bick, John D      2273  C42     1.0   \n",
       "1835133          Jonkman, Harmen      2436  C45    -1.0   \n",
       "1839187                Zhu, Chen      2497  C42     1.0   \n",
       "1839188                Xu, Yuhua      2485  C47     1.0   \n",
       "1839471          Lazhevsky, Gleb      2240  C41     1.0   \n",
       "1841249               Moser, Eva      2309  C41     1.0   \n",
       "1843776    Hamzabegovic, Mersudi      2104  C40     1.0   \n",
       "1844305        Bouchaud, Vincent      2195  C25     1.0   \n",
       "1844311               Aigner, M.      2054  C25     1.0   \n",
       "1844597               Werner, C.      2314  C28     1.0   \n",
       "1844785      Shchekachev, Andrei      2509  C28     0.0   \n",
       "1846314           Ovod, Evgenija      2290  C28     0.0   \n",
       "1846871   Vul, Arkadi Eremeevich      2445  C24     0.0   \n",
       "1847467  Theissl Pokorna, Regina      2170  C28     1.0   \n",
       "1847468               Pokorna, R      2170  C28     1.0   \n",
       "1848751          Kazarova, Irina      2180  C29     0.0   \n",
       "1849480      Bezgodova, Svetlana      2180  C29     1.0   \n",
       "1852579            Kritz, Leonid      2155  C29    -1.0   \n",
       "\n",
       "                           white  whiteelo white_first_move black_first_move  \\\n",
       "0             Harika, Dronavalli      2511            1.Nf3              Nf6   \n",
       "56             Paehtz, Elisabeth      2472            1.Nf3               d5   \n",
       "63                  Stefanova, A      2509             1.g3               d5   \n",
       "86                  Stefanova, A      2509            1.Nf3              Nf6   \n",
       "1049           Jakovenko, Dmitry      2732            1.Nf3               d5   \n",
       "1583              Berkes, Ferenc      2652             1.g3               d5   \n",
       "3183                Zimina, Olga      2364            1.Nf3              Nf6   \n",
       "3184           Vasilevich, Irina      2305             1.b3               d5   \n",
       "4323         Khotenashvili, Bela      2502             1.c4              Nf6   \n",
       "5672        Stefanova, Antoaneta      2500            1.Nf3              Nf6   \n",
       "7495        Kosteniuk, Alexandra      2526             1.c4               c5   \n",
       "9918           Paehtz, Elisabeth      2458            1.Nf3               d5   \n",
       "10688       Stefanova, Antoaneta      2512            1.Nf3               d5   \n",
       "10694             Arabidze, Meri      2403             1.c4              Nf6   \n",
       "10720          Paehtz, Elisabeth      2473            1.Nf3               d5   \n",
       "11715       Kosteniuk, Alexandra      2529             1.c4               c5   \n",
       "12182                 Ju, Wenjun      2557             1.c4              Nf6   \n",
       "16803                  Zhao, Xue      2514            1.Nf3               d5   \n",
       "16924            Dzagnidze, Nana      2570            1.Nf3               d5   \n",
       "17033                  Zhao, Xue      2514            1.Nf3               d5   \n",
       "17138              Cramling, Pia      2518            1.Nf3               d5   \n",
       "17144         Harika, Dronavalli      2505            1.Nf3               d5   \n",
       "17146       Stefanova, Antoaneta      2517            1.Nf3              Nf6   \n",
       "17153       Stefanova, Antoaneta      2517            1.Nf3               d5   \n",
       "17205              Koneru, Humpy      2581            1.Nf3              Nf6   \n",
       "17209                  Zhao, Xue      2514            1.Nf3               d5   \n",
       "17721    Kovalevskaya, Ekaterina      2439             1.c4               e6   \n",
       "18287           Karjakin, Sergey      2770            1.Nf3              Nf6   \n",
       "18355             Svidler, Peter      2743            1.Nf3              Nf6   \n",
       "18356          Kramnik, Vladimir      2760            1.Nf3              Nf6   \n",
       "...                          ...       ...              ...              ...   \n",
       "1824895     Kosteniuk, Alexandra      2492             1.e4               e5   \n",
       "1826414         Karjakin, Sergey      2599             1.e4               e5   \n",
       "1826497         Cheparinov, Ivan      2572             1.e4               e5   \n",
       "1828304     Kosteniuk, Alexandra      2511             1.e4               e5   \n",
       "1828323            Navara, David      2616             1.e4               e5   \n",
       "1829048     Kosteniuk, Alexandra      2511             1.e4               e5   \n",
       "1829303        Galliamova, Alisa      2502             1.e4               e5   \n",
       "1829332     Kosteniuk, Alexandra      2469             1.e4               e5   \n",
       "1829474     Kosteniuk, Alexandra      2469             1.e4               e5   \n",
       "1830289   Peptan, Corina-Isabela      2439             1.e4               e5   \n",
       "1832142     Kosteniuk, Alexandra      2451             1.e4               e5   \n",
       "1832532     Kosteniuk, Alexandra      2457             1.e4               e5   \n",
       "1834386     Kosteniuk, Alexandra      2452             1.e4               e5   \n",
       "1835133     Kosteniuk, Alexandra      2456             1.e4               e5   \n",
       "1839187     Kosteniuk, Alexandra      2455             1.e4               e5   \n",
       "1839188     Kosteniuk, Alexandra      2455             1.e4               e5   \n",
       "1839471     Kosteniuk, Alexandra      2455             1.e4               e5   \n",
       "1841249     Kosteniuk, Alexandra      2397             1.e4               d6   \n",
       "1843776     Kosteniuk, Alexandra      2409             1.e4               e5   \n",
       "1844305     Kosteniuk, Alexandra      2409             1.e4               e5   \n",
       "1844311     Kosteniuk, Alexandra      2409             1.e4               e5   \n",
       "1844597     Kosteniuk, Alexandra      2409             1.e4               e5   \n",
       "1844785     Kosteniuk, Alexandra      2409             1.e4               e5   \n",
       "1846314     Kosteniuk, Alexandra      2329             1.e4               e5   \n",
       "1846871     Kosteniuk, Alexandra      2275             1.e4               e5   \n",
       "1847467     Kosteniuk, Alexandra      2270             1.e4               e5   \n",
       "1847468     Kosteniuk, Alexandra      2270             1.e4               e5   \n",
       "1848751     Kosteniuk, Alexandra      2260             1.e4               e5   \n",
       "1849480     Kosteniuk, Alexandra      2275             1.e4               e5   \n",
       "1852579     Kosteniuk, Alexandra      2295             1.e4               e5   \n",
       "\n",
       "            age  estimate_white_win_by_rating  white_enc  white_game_count  \\\n",
       "0         261.0                      0.484175          0               737   \n",
       "56        262.0                      0.428537         13               842   \n",
       "63        262.0                      0.481300          9                24   \n",
       "86        263.0                      0.481300          9                24   \n",
       "1049      293.0                      0.774148        452               748   \n",
       "1583      312.0                      0.683816        183               648   \n",
       "3183      356.0                      0.311226       1533               292   \n",
       "3184      356.0                      0.243419       1530               324   \n",
       "4323      394.0                      0.512949         12               413   \n",
       "5672      409.0                      0.502878       1136              1079   \n",
       "7495      456.0                      0.618584       2784               796   \n",
       "9918      508.0                      0.456934         13               842   \n",
       "10688     532.0                      0.520137       1136              1079   \n",
       "10694     533.0                      0.366592       1606               226   \n",
       "10720     533.0                      0.464084         13               842   \n",
       "11715     561.0                      0.817938       2784               796   \n",
       "12182     575.0                      0.585499          4               532   \n",
       "16803     700.0                      0.507195       2719               687   \n",
       "16924     702.0                      0.586895          7               645   \n",
       "17033     703.0                      0.507195       2719               687   \n",
       "17138     704.0                      0.512949        242              1090   \n",
       "17144     704.0                      0.494244          0               737   \n",
       "17146     704.0                      0.511511       1136              1079   \n",
       "17153     705.0                      0.511511       1136              1079   \n",
       "17205     706.0                      0.602158       4862               640   \n",
       "17209     706.0                      0.507195       2719               687   \n",
       "17721     719.0                      0.400603       2359               648   \n",
       "18287     733.0                      0.817938        607              1016   \n",
       "18355     734.0                      0.793641       1669              1529   \n",
       "18356     734.0                      0.809208        251              1333   \n",
       "...         ...                           ...        ...               ...   \n",
       "1824895  4195.0                      0.673776       2784               796   \n",
       "1826414  4310.0                      0.692463        607              1016   \n",
       "1826497  4320.0                      0.658415       4438               732   \n",
       "1828304  4443.0                      0.600778       2784               796   \n",
       "1828323  4445.0                      0.687538       1271               906   \n",
       "1829048  4497.0                      0.696129       2784               796   \n",
       "1829303  4514.0                      0.592466       3686               463   \n",
       "1829332  4516.0                      0.690006       2784               796   \n",
       "1829474  4532.0                      0.564400       2784               796   \n",
       "1830289  4616.0                      0.502878       6219               499   \n",
       "1832142  4777.0                      0.669969       2784               796   \n",
       "1832532  4808.0                      0.365257       2784               796   \n",
       "1834386  4960.0                      0.771114       2784               796   \n",
       "1835133  5053.0                      0.574280       2784               796   \n",
       "1839187  5457.0                      0.485613       2784               796   \n",
       "1839188  5458.0                      0.502878       2784               796   \n",
       "1839471  5500.0                      0.805628       2784               796   \n",
       "1841249  5684.0                      0.666139       2784               796   \n",
       "1843776  6013.0                      0.874344       2784               796   \n",
       "1844305  6100.0                      0.804725       2784               796   \n",
       "1844311  6100.0                      0.902714       2784               796   \n",
       "1844597  6138.0                      0.675040       2784               796   \n",
       "1844785  5849.0                      0.403371       2784               796   \n",
       "1846314  6393.0                      0.600778       2784               796   \n",
       "1846871  6215.0                      0.311226       2784               796   \n",
       "1847467  6616.0                      0.681322       2784               796   \n",
       "1847468  6616.0                      0.681322       2784               796   \n",
       "1848751  6580.0                      0.655821       2784               796   \n",
       "1849480  6993.0                      0.675040       2784               796   \n",
       "1852579  7310.0                      0.729110       2784               796   \n",
       "\n",
       "         black_game_count  \n",
       "0                     803  \n",
       "56                    803  \n",
       "63                    803  \n",
       "86                    803  \n",
       "1049                  803  \n",
       "1583                  803  \n",
       "3183                  803  \n",
       "3184                  803  \n",
       "4323                  803  \n",
       "5672                  803  \n",
       "7495                  295  \n",
       "9918                  803  \n",
       "10688                 803  \n",
       "10694                 803  \n",
       "10720                 803  \n",
       "11715                 105  \n",
       "12182                 803  \n",
       "16803                 803  \n",
       "16924                 803  \n",
       "17033                 803  \n",
       "17138                 803  \n",
       "17144                 803  \n",
       "17146                 803  \n",
       "17153                 803  \n",
       "17205                 803  \n",
       "17209                 803  \n",
       "17721                 803  \n",
       "18287                 803  \n",
       "18355                 803  \n",
       "18356                 803  \n",
       "...                   ...  \n",
       "1824895               326  \n",
       "1826414               803  \n",
       "1826497               803  \n",
       "1828304               623  \n",
       "1828323               803  \n",
       "1829048               443  \n",
       "1829303               803  \n",
       "1829332               291  \n",
       "1829474               697  \n",
       "1830289               803  \n",
       "1832142               454  \n",
       "1832532               972  \n",
       "1834386                94  \n",
       "1835133               508  \n",
       "1839187               515  \n",
       "1839188               234  \n",
       "1839471                 7  \n",
       "1841249               465  \n",
       "1843776                 3  \n",
       "1844305                17  \n",
       "1844311                10  \n",
       "1844597                11  \n",
       "1844785               627  \n",
       "1846314               412  \n",
       "1846871               179  \n",
       "1847467               341  \n",
       "1847468                 8  \n",
       "1848751                 6  \n",
       "1849480               189  \n",
       "1852579               411  \n",
       "\n",
       "[1599 rows x 13 columns]"
      ]
     },
     "execution_count": 264,
     "metadata": {},
     "output_type": "execute_result"
    }
   ],
   "source": [
    "df[(df.black=='Kosteniuk, Alexandra')|(df.white=='Kosteniuk, Alexandra')]"
   ]
  },
  {
   "cell_type": "code",
   "execution_count": null,
   "metadata": {
    "collapsed": true
   },
   "outputs": [],
   "source": [
    "total_games"
   ]
  },
  {
   "cell_type": "code",
   "execution_count": 269,
   "metadata": {
    "collapsed": false
   },
   "outputs": [
    {
     "data": {
      "text/plain": [
       "1599"
      ]
     },
     "execution_count": 269,
     "metadata": {},
     "output_type": "execute_result"
    }
   ],
   "source": [
    "df[(df.black=='Kosteniuk, Alexandra')]['black_game_count'].values[0]+df[(df.white=='Kosteniuk, Alexandra')]['white_game_count'].values[0]"
   ]
  },
  {
   "cell_type": "code",
   "execution_count": 225,
   "metadata": {
    "collapsed": false
   },
   "outputs": [
    {
     "name": "stdout",
     "output_type": "stream",
     "text": [
      "<class 'pandas.core.frame.DataFrame'>\n",
      "Int64Index: 1861396 entries, 0 to 1861584\n",
      "Data columns (total 11 columns):\n",
      "black                           object\n",
      "blackelo                        int64\n",
      "eco                             object\n",
      "result                          float64\n",
      "white                           object\n",
      "whiteelo                        int64\n",
      "white_first_move                object\n",
      "black_first_move                object\n",
      "age                             float64\n",
      "estimate_white_win_by_rating    float64\n",
      "white_enc                       int64\n",
      "dtypes: float64(3), int64(3), object(5)\n",
      "memory usage: 170.4+ MB\n"
     ]
    }
   ],
   "source": [
    "import numpy as np\n",
    "df.info()"
   ]
  },
  {
   "cell_type": "code",
   "execution_count": 282,
   "metadata": {
    "collapsed": false
   },
   "outputs": [
    {
     "data": {
      "text/plain": [
       "white                         eco\n",
       "Aaberg, Anton                 A04    1\n",
       "                              A05    1\n",
       "                              A13    1\n",
       "                              A21    2\n",
       "                              A29    1\n",
       "                              A37    1\n",
       "                              A40    1\n",
       "                              A45    3\n",
       "                              A55    2\n",
       "                              A56    1\n",
       "                              A57    1\n",
       "                              A60    1\n",
       "                              A62    1\n",
       "                              A63    2\n",
       "                              A70    1\n",
       "                              A87    1\n",
       "                              A89    1\n",
       "                              A93    1\n",
       "                              B06    1\n",
       "                              B07    1\n",
       "                              B12    1\n",
       "                              B15    1\n",
       "                              B16    1\n",
       "                              B80    2\n",
       "                              B86    1\n",
       "                              B87    1\n",
       "                              B90    1\n",
       "                              B92    1\n",
       "                              C02    1\n",
       "                              C11    1\n",
       "                                    ..\n",
       "Zysko, Jan                    B36    1\n",
       "                              B40    1\n",
       "                              B49    1\n",
       "                              B58    1\n",
       "                              B67    2\n",
       "                              B76    1\n",
       "                              B80    2\n",
       "                              B85    1\n",
       "                              B90    4\n",
       "                              C10    1\n",
       "                              C11    1\n",
       "                              C18    1\n",
       "                              C41    4\n",
       "                              C42    1\n",
       "                              C60    1\n",
       "                              C67    1\n",
       "                              C75    1\n",
       "                              C86    2\n",
       "                              C92    1\n",
       "                              C96    1\n",
       "                              C97    2\n",
       "                              C99    1\n",
       "                              D00    1\n",
       "                              D37    1\n",
       "                              E01    1\n",
       "Zytner, Yury                  C10    1\n",
       "                              C33    1\n",
       "                              C45    1\n",
       "                              C55    1\n",
       "v.d. Weth-v. Nordheim, Petra  A45    1\n",
       "dtype: int64"
      ]
     },
     "execution_count": 282,
     "metadata": {},
     "output_type": "execute_result"
    }
   ],
   "source": [
    "df.groupby(['white','eco']).size() #.reset_index().groupby('eco')[[0]].max() or .groupby(level=1).max()"
   ]
  },
  {
   "cell_type": "markdown",
   "metadata": {},
   "source": [
    "how many games in db"
   ]
  },
  {
   "cell_type": "code",
   "execution_count": 285,
   "metadata": {
    "collapsed": false
   },
   "outputs": [
    {
     "data": {
      "text/plain": [
       "1861396"
      ]
     },
     "execution_count": 285,
     "metadata": {},
     "output_type": "execute_result"
    }
   ],
   "source": [
    "df['black'].count()"
   ]
  },
  {
   "cell_type": "code",
   "execution_count": 288,
   "metadata": {
    "collapsed": false
   },
   "outputs": [
    {
     "data": {
      "text/plain": [
       "<matplotlib.axes._subplots.AxesSubplot at 0x2717693d0>"
      ]
     },
     "execution_count": 288,
     "metadata": {},
     "output_type": "execute_result"
    },
    {
     "data": {
      "image/png": "[encoded data removed]",
      "text/plain": [
       "<matplotlib.figure.Figure at 0x273795a50>"
      ]
     },
     "metadata": {},
     "output_type": "display_data"
    }
   ],
   "source": [
    "df[['white_game_count','whiteelo']].plot('white_game_count','whiteelo',kind='scatter')"
   ]
  },
  {
   "cell_type": "code",
   "execution_count": 298,
   "metadata": {
    "collapsed": false
   },
   "outputs": [
    {
     "data": {
      "text/html": [
       "<div>\n",
       "<table border=\"1\" class=\"dataframe\">\n",
       "  <thead>\n",
       "    <tr style=\"text-align: right;\">\n",
       "      <th></th>\n",
       "      <th>black</th>\n",
       "      <th>blackelo</th>\n",
       "      <th>eco</th>\n",
       "      <th>result</th>\n",
       "      <th>white</th>\n",
       "      <th>whiteelo</th>\n",
       "      <th>white_first_move</th>\n",
       "      <th>black_first_move</th>\n",
       "      <th>age</th>\n",
       "      <th>estimate_white_win_by_rating</th>\n",
       "      <th>white_enc</th>\n",
       "      <th>white_game_count</th>\n",
       "      <th>black_game_count</th>\n",
       "    </tr>\n",
       "  </thead>\n",
       "  <tbody>\n",
       "    <tr>\n",
       "      <th>412168</th>\n",
       "      <td>Hansen, Sune Berg</td>\n",
       "      <td>2536</td>\n",
       "      <td>A63</td>\n",
       "      <td>1.0</td>\n",
       "      <td>Aaberg, Anton</td>\n",
       "      <td>2460</td>\n",
       "      <td>1.d4</td>\n",
       "      <td>Nf6</td>\n",
       "      <td>5415.0</td>\n",
       "      <td>0.437015</td>\n",
       "      <td>10468</td>\n",
       "      <td>75</td>\n",
       "      <td>526</td>\n",
       "    </tr>\n",
       "    <tr>\n",
       "      <th>598069</th>\n",
       "      <td>Henrichs, Thomas</td>\n",
       "      <td>2476</td>\n",
       "      <td>A83</td>\n",
       "      <td>-1.0</td>\n",
       "      <td>Aabling-Thomsen, Jakob</td>\n",
       "      <td>2375</td>\n",
       "      <td>1.d4</td>\n",
       "      <td>f5</td>\n",
       "      <td>1132.0</td>\n",
       "      <td>0.401986</td>\n",
       "      <td>875</td>\n",
       "      <td>163</td>\n",
       "      <td>285</td>\n",
       "    </tr>\n",
       "    <tr>\n",
       "      <th>787212</th>\n",
       "      <td>Vaghar, Mohsen</td>\n",
       "      <td>2266</td>\n",
       "      <td>B10</td>\n",
       "      <td>1.0</td>\n",
       "      <td>Aadeli, Arvin</td>\n",
       "      <td>2015</td>\n",
       "      <td>1.e4</td>\n",
       "      <td>c6</td>\n",
       "      <td>1586.0</td>\n",
       "      <td>0.220859</td>\n",
       "      <td>44704</td>\n",
       "      <td>2</td>\n",
       "      <td>47</td>\n",
       "    </tr>\n",
       "    <tr>\n",
       "      <th>325615</th>\n",
       "      <td>Ross, David</td>\n",
       "      <td>2291</td>\n",
       "      <td>A46</td>\n",
       "      <td>1.0</td>\n",
       "      <td>Aagaard, Gert</td>\n",
       "      <td>2067</td>\n",
       "      <td>1.d4</td>\n",
       "      <td>Nf6</td>\n",
       "      <td>1192.0</td>\n",
       "      <td>0.248759</td>\n",
       "      <td>31545</td>\n",
       "      <td>4</td>\n",
       "      <td>61</td>\n",
       "    </tr>\n",
       "    <tr>\n",
       "      <th>78445</th>\n",
       "      <td>Stojanovski, Sandi</td>\n",
       "      <td>2208</td>\n",
       "      <td>A37</td>\n",
       "      <td>1.0</td>\n",
       "      <td>Aagaard, Jacob</td>\n",
       "      <td>2542</td>\n",
       "      <td>1.c4</td>\n",
       "      <td>c5</td>\n",
       "      <td>2298.0</td>\n",
       "      <td>0.891569</td>\n",
       "      <td>12282</td>\n",
       "      <td>439</td>\n",
       "      <td>63</td>\n",
       "    </tr>\n",
       "    <tr>\n",
       "      <th>479592</th>\n",
       "      <td>Mohammad Nubairshah, Shaikh</td>\n",
       "      <td>2166</td>\n",
       "      <td>D18</td>\n",
       "      <td>-1.0</td>\n",
       "      <td>Aage, Bjarke</td>\n",
       "      <td>2067</td>\n",
       "      <td>1.d4</td>\n",
       "      <td>d5</td>\n",
       "      <td>1302.0</td>\n",
       "      <td>0.404757</td>\n",
       "      <td>38649</td>\n",
       "      <td>2</td>\n",
       "      <td>54</td>\n",
       "    </tr>\n",
       "    <tr>\n",
       "      <th>1313987</th>\n",
       "      <td>Harshita, Guddanti</td>\n",
       "      <td>2181</td>\n",
       "      <td>B78</td>\n",
       "      <td>-1.0</td>\n",
       "      <td>Aakanksha, Hagawane</td>\n",
       "      <td>2061</td>\n",
       "      <td>1.e4</td>\n",
       "      <td>c5</td>\n",
       "      <td>381.0</td>\n",
       "      <td>0.375998</td>\n",
       "      <td>54509</td>\n",
       "      <td>3</td>\n",
       "      <td>2</td>\n",
       "    </tr>\n",
       "    <tr>\n",
       "      <th>782644</th>\n",
       "      <td>Lalith, Babu M R</td>\n",
       "      <td>2528</td>\n",
       "      <td>B19</td>\n",
       "      <td>-1.0</td>\n",
       "      <td>Aakash, G.</td>\n",
       "      <td>2404</td>\n",
       "      <td>1.e4</td>\n",
       "      <td>c6</td>\n",
       "      <td>1447.0</td>\n",
       "      <td>0.370611</td>\n",
       "      <td>44464</td>\n",
       "      <td>3</td>\n",
       "      <td>438</td>\n",
       "    </tr>\n",
       "    <tr>\n",
       "      <th>64381</th>\n",
       "      <td>Kosmo, Santul</td>\n",
       "      <td>2213</td>\n",
       "      <td>A04</td>\n",
       "      <td>-1.0</td>\n",
       "      <td>Aakio, Seppo</td>\n",
       "      <td>2070</td>\n",
       "      <td>1.e4</td>\n",
       "      <td>c5</td>\n",
       "      <td>1886.0</td>\n",
       "      <td>0.345480</td>\n",
       "      <td>11095</td>\n",
       "      <td>8</td>\n",
       "      <td>133</td>\n",
       "    </tr>\n",
       "    <tr>\n",
       "      <th>871048</th>\n",
       "      <td>Fernandez Garcia, Ignacio</td>\n",
       "      <td>2006</td>\n",
       "      <td>B09</td>\n",
       "      <td>1.0</td>\n",
       "      <td>Aalbersberg Kroon, Pedro</td>\n",
       "      <td>2165</td>\n",
       "      <td>1.e4</td>\n",
       "      <td>d6</td>\n",
       "      <td>4744.0</td>\n",
       "      <td>0.750163</td>\n",
       "      <td>46349</td>\n",
       "      <td>11</td>\n",
       "      <td>23</td>\n",
       "    </tr>\n",
       "    <tr>\n",
       "      <th>278274</th>\n",
       "      <td>Korneev, Oleg</td>\n",
       "      <td>2587</td>\n",
       "      <td>C61</td>\n",
       "      <td>-1.0</td>\n",
       "      <td>Aalsberberg Kroon Pere</td>\n",
       "      <td>2146</td>\n",
       "      <td>1.e4</td>\n",
       "      <td>e5</td>\n",
       "      <td>4511.0</td>\n",
       "      <td>0.086717</td>\n",
       "      <td>28026</td>\n",
       "      <td>1</td>\n",
       "      <td>1349</td>\n",
       "    </tr>\n",
       "    <tr>\n",
       "      <th>521881</th>\n",
       "      <td>Huebner, Wolfgang</td>\n",
       "      <td>2072</td>\n",
       "      <td>D06</td>\n",
       "      <td>-1.0</td>\n",
       "      <td>Aaltio, Erkki</td>\n",
       "      <td>2111</td>\n",
       "      <td>1.d4</td>\n",
       "      <td>d5</td>\n",
       "      <td>3201.0</td>\n",
       "      <td>0.600778</td>\n",
       "      <td>39546</td>\n",
       "      <td>8</td>\n",
       "      <td>9</td>\n",
       "    </tr>\n",
       "    <tr>\n",
       "      <th>1271143</th>\n",
       "      <td>Urkedal, Frode</td>\n",
       "      <td>2140</td>\n",
       "      <td>E15</td>\n",
       "      <td>0.0</td>\n",
       "      <td>Aandal, Kristian</td>\n",
       "      <td>2041</td>\n",
       "      <td>1.d4</td>\n",
       "      <td>Nf6</td>\n",
       "      <td>3540.0</td>\n",
       "      <td>0.404757</td>\n",
       "      <td>54312</td>\n",
       "      <td>2</td>\n",
       "      <td>253</td>\n",
       "    </tr>\n",
       "    <tr>\n",
       "      <th>1009429</th>\n",
       "      <td>Royset, Jon K</td>\n",
       "      <td>2154</td>\n",
       "      <td>B22</td>\n",
       "      <td>-1.0</td>\n",
       "      <td>Aanstad, Magnus</td>\n",
       "      <td>2089</td>\n",
       "      <td>1.e4</td>\n",
       "      <td>c5</td>\n",
       "      <td>1090.0</td>\n",
       "      <td>0.452651</td>\n",
       "      <td>50717</td>\n",
       "      <td>1</td>\n",
       "      <td>37</td>\n",
       "    </tr>\n",
       "    <tr>\n",
       "      <th>1499932</th>\n",
       "      <td>Thorstensen, Trond</td>\n",
       "      <td>2175</td>\n",
       "      <td>E44</td>\n",
       "      <td>-1.0</td>\n",
       "      <td>Aarland, Stein Arild</td>\n",
       "      <td>2302</td>\n",
       "      <td>1.d4</td>\n",
       "      <td>Nf6</td>\n",
       "      <td>2931.0</td>\n",
       "      <td>0.714079</td>\n",
       "      <td>16340</td>\n",
       "      <td>38</td>\n",
       "      <td>36</td>\n",
       "    </tr>\n",
       "    <tr>\n",
       "      <th>767681</th>\n",
       "      <td>Ovetchkin, Roman</td>\n",
       "      <td>2535</td>\n",
       "      <td>B14</td>\n",
       "      <td>0.0</td>\n",
       "      <td>Aaron, Deepak</td>\n",
       "      <td>2362</td>\n",
       "      <td>1.e4</td>\n",
       "      <td>c6</td>\n",
       "      <td>895.0</td>\n",
       "      <td>0.307537</td>\n",
       "      <td>8378</td>\n",
       "      <td>53</td>\n",
       "      <td>416</td>\n",
       "    </tr>\n",
       "    <tr>\n",
       "      <th>1104434</th>\n",
       "      <td>Harris, David</td>\n",
       "      <td>2148</td>\n",
       "      <td>B22</td>\n",
       "      <td>0.0</td>\n",
       "      <td>Aaron, Manuel</td>\n",
       "      <td>2315</td>\n",
       "      <td>1.e4</td>\n",
       "      <td>c5</td>\n",
       "      <td>3728.0</td>\n",
       "      <td>0.758695</td>\n",
       "      <td>52312</td>\n",
       "      <td>2</td>\n",
       "      <td>19</td>\n",
       "    </tr>\n",
       "    <tr>\n",
       "      <th>374202</th>\n",
       "      <td>Lapshun, Yury</td>\n",
       "      <td>2479</td>\n",
       "      <td>A49</td>\n",
       "      <td>-1.0</td>\n",
       "      <td>Abad Sanmartin, Jorge</td>\n",
       "      <td>2045</td>\n",
       "      <td>1.d4</td>\n",
       "      <td>g6</td>\n",
       "      <td>3372.0</td>\n",
       "      <td>0.089962</td>\n",
       "      <td>34390</td>\n",
       "      <td>1</td>\n",
       "      <td>155</td>\n",
       "    </tr>\n",
       "    <tr>\n",
       "      <th>323304</th>\n",
       "      <td>Aknouche, Ameur</td>\n",
       "      <td>2077</td>\n",
       "      <td>A60</td>\n",
       "      <td>-1.0</td>\n",
       "      <td>Abaeji, Sinan Younus Abdulrazzaq</td>\n",
       "      <td>2282</td>\n",
       "      <td>1.d4</td>\n",
       "      <td>Nf6</td>\n",
       "      <td>1106.0</td>\n",
       "      <td>0.796455</td>\n",
       "      <td>31391</td>\n",
       "      <td>5</td>\n",
       "      <td>14</td>\n",
       "    </tr>\n",
       "    <tr>\n",
       "      <th>756659</th>\n",
       "      <td>Granda Zuniga, Julio E</td>\n",
       "      <td>2652</td>\n",
       "      <td>B06</td>\n",
       "      <td>-1.0</td>\n",
       "      <td>Abal Cores, Lucas</td>\n",
       "      <td>2373</td>\n",
       "      <td>1.e4</td>\n",
       "      <td>g6</td>\n",
       "      <td>501.0</td>\n",
       "      <td>0.194372</td>\n",
       "      <td>25143</td>\n",
       "      <td>13</td>\n",
       "      <td>747</td>\n",
       "    </tr>\n",
       "    <tr>\n",
       "      <th>1422936</th>\n",
       "      <td>Abreu Delgado, Aryam</td>\n",
       "      <td>2444</td>\n",
       "      <td>B92</td>\n",
       "      <td>0.0</td>\n",
       "      <td>Abalde Fernandez, Esteban</td>\n",
       "      <td>2129</td>\n",
       "      <td>1.e4</td>\n",
       "      <td>c5</td>\n",
       "      <td>4872.0</td>\n",
       "      <td>0.163957</td>\n",
       "      <td>55386</td>\n",
       "      <td>1</td>\n",
       "      <td>291</td>\n",
       "    </tr>\n",
       "    <tr>\n",
       "      <th>109701</th>\n",
       "      <td>Liew, Chee-Meng-Jimmy</td>\n",
       "      <td>2309</td>\n",
       "      <td>A08</td>\n",
       "      <td>-1.0</td>\n",
       "      <td>Abang, Mohd Reduan</td>\n",
       "      <td>2136</td>\n",
       "      <td>1.Nf3</td>\n",
       "      <td>d5</td>\n",
       "      <td>3371.0</td>\n",
       "      <td>0.307537</td>\n",
       "      <td>15570</td>\n",
       "      <td>3</td>\n",
       "      <td>48</td>\n",
       "    </tr>\n",
       "    <tr>\n",
       "      <th>584493</th>\n",
       "      <td>Maynard Salazar, Francis</td>\n",
       "      <td>2235</td>\n",
       "      <td>D10</td>\n",
       "      <td>0.0</td>\n",
       "      <td>Abarca Aguirre, Manuel</td>\n",
       "      <td>2360</td>\n",
       "      <td>1.d4</td>\n",
       "      <td>d5</td>\n",
       "      <td>8011.0</td>\n",
       "      <td>0.711723</td>\n",
       "      <td>36219</td>\n",
       "      <td>11</td>\n",
       "      <td>25</td>\n",
       "    </tr>\n",
       "    <tr>\n",
       "      <th>482439</th>\n",
       "      <td>Abarca Gonzalez, Damaris</td>\n",
       "      <td>2498</td>\n",
       "      <td>D27</td>\n",
       "      <td>1.0</td>\n",
       "      <td>Abarca Gonzalez, Damaris</td>\n",
       "      <td>2730</td>\n",
       "      <td>1.Nf3</td>\n",
       "      <td>d5</td>\n",
       "      <td>1453.0</td>\n",
       "      <td>0.820495</td>\n",
       "      <td>6913</td>\n",
       "      <td>66</td>\n",
       "      <td>78</td>\n",
       "    </tr>\n",
       "    <tr>\n",
       "      <th>1312792</th>\n",
       "      <td>Martinez Alcantara, Jose Eduardo</td>\n",
       "      <td>2469</td>\n",
       "      <td>B51</td>\n",
       "      <td>-1.0</td>\n",
       "      <td>Abarca Gonzalez, Nicolas</td>\n",
       "      <td>2400</td>\n",
       "      <td>1.e4</td>\n",
       "      <td>c5</td>\n",
       "      <td>314.0</td>\n",
       "      <td>0.446953</td>\n",
       "      <td>3624</td>\n",
       "      <td>51</td>\n",
       "      <td>69</td>\n",
       "    </tr>\n",
       "    <tr>\n",
       "      <th>909128</th>\n",
       "      <td>Leon, R.</td>\n",
       "      <td>2115</td>\n",
       "      <td>B10</td>\n",
       "      <td>-1.0</td>\n",
       "      <td>Abarca Rivadeneira, Ivan</td>\n",
       "      <td>2265</td>\n",
       "      <td>1.e4</td>\n",
       "      <td>c6</td>\n",
       "      <td>7193.0</td>\n",
       "      <td>0.740328</td>\n",
       "      <td>40329</td>\n",
       "      <td>3</td>\n",
       "      <td>3</td>\n",
       "    </tr>\n",
       "    <tr>\n",
       "      <th>836032</th>\n",
       "      <td>Sierra, M.</td>\n",
       "      <td>2248</td>\n",
       "      <td>B00</td>\n",
       "      <td>-1.0</td>\n",
       "      <td>Abarca, D.</td>\n",
       "      <td>2141</td>\n",
       "      <td>1.e4</td>\n",
       "      <td>Nc6</td>\n",
       "      <td>3385.0</td>\n",
       "      <td>0.393712</td>\n",
       "      <td>46590</td>\n",
       "      <td>4</td>\n",
       "      <td>16</td>\n",
       "    </tr>\n",
       "    <tr>\n",
       "      <th>836033</th>\n",
       "      <td>Sierra, Miguel</td>\n",
       "      <td>2248</td>\n",
       "      <td>B00</td>\n",
       "      <td>-1.0</td>\n",
       "      <td>Abarca, Diego</td>\n",
       "      <td>2141</td>\n",
       "      <td>1.e4</td>\n",
       "      <td>Nc6</td>\n",
       "      <td>3385.0</td>\n",
       "      <td>0.393712</td>\n",
       "      <td>46591</td>\n",
       "      <td>4</td>\n",
       "      <td>17</td>\n",
       "    </tr>\n",
       "    <tr>\n",
       "      <th>1184062</th>\n",
       "      <td>Goletiani, Rusudan</td>\n",
       "      <td>2310</td>\n",
       "      <td>B43</td>\n",
       "      <td>-1.0</td>\n",
       "      <td>Abasheev, Denis</td>\n",
       "      <td>2455</td>\n",
       "      <td>1.e4</td>\n",
       "      <td>c5</td>\n",
       "      <td>6485.0</td>\n",
       "      <td>0.734757</td>\n",
       "      <td>28068</td>\n",
       "      <td>37</td>\n",
       "      <td>144</td>\n",
       "    </tr>\n",
       "    <tr>\n",
       "      <th>867822</th>\n",
       "      <td>Cherniaev, Alexander2</td>\n",
       "      <td>2270</td>\n",
       "      <td>B07</td>\n",
       "      <td>1.0</td>\n",
       "      <td>Abashev, Alex</td>\n",
       "      <td>2337</td>\n",
       "      <td>1.e4</td>\n",
       "      <td>d6</td>\n",
       "      <td>4590.0</td>\n",
       "      <td>0.638738</td>\n",
       "      <td>12234</td>\n",
       "      <td>11</td>\n",
       "      <td>7</td>\n",
       "    </tr>\n",
       "    <tr>\n",
       "      <th>...</th>\n",
       "      <td>...</td>\n",
       "      <td>...</td>\n",
       "      <td>...</td>\n",
       "      <td>...</td>\n",
       "      <td>...</td>\n",
       "      <td>...</td>\n",
       "      <td>...</td>\n",
       "      <td>...</td>\n",
       "      <td>...</td>\n",
       "      <td>...</td>\n",
       "      <td>...</td>\n",
       "      <td>...</td>\n",
       "      <td>...</td>\n",
       "    </tr>\n",
       "    <tr>\n",
       "      <th>37379</th>\n",
       "      <td>Das, Arghyadip</td>\n",
       "      <td>2469</td>\n",
       "      <td>A14</td>\n",
       "      <td>-1.0</td>\n",
       "      <td>Zwahr, Paul</td>\n",
       "      <td>2363</td>\n",
       "      <td>1.c4</td>\n",
       "      <td>Nf6</td>\n",
       "      <td>1191.0</td>\n",
       "      <td>0.395087</td>\n",
       "      <td>8104</td>\n",
       "      <td>62</td>\n",
       "      <td>259</td>\n",
       "    </tr>\n",
       "    <tr>\n",
       "      <th>174310</th>\n",
       "      <td>Gullaksen, Eirik</td>\n",
       "      <td>2353</td>\n",
       "      <td>A26</td>\n",
       "      <td>0.0</td>\n",
       "      <td>Zwaig, Arne</td>\n",
       "      <td>2450</td>\n",
       "      <td>1.Nf3</td>\n",
       "      <td>Nf6</td>\n",
       "      <td>6009.0</td>\n",
       "      <td>0.677561</td>\n",
       "      <td>20892</td>\n",
       "      <td>1</td>\n",
       "      <td>318</td>\n",
       "    </tr>\n",
       "    <tr>\n",
       "      <th>1014865</th>\n",
       "      <td>Roy Chowdhury, Saptarshi</td>\n",
       "      <td>2500</td>\n",
       "      <td>B30</td>\n",
       "      <td>-1.0</td>\n",
       "      <td>Zwakala, Ntando</td>\n",
       "      <td>2069</td>\n",
       "      <td>1.e4</td>\n",
       "      <td>c5</td>\n",
       "      <td>1227.0</td>\n",
       "      <td>0.091386</td>\n",
       "      <td>44632</td>\n",
       "      <td>6</td>\n",
       "      <td>406</td>\n",
       "    </tr>\n",
       "    <tr>\n",
       "      <th>771785</th>\n",
       "      <td>Buchal, Stephan</td>\n",
       "      <td>2312</td>\n",
       "      <td>B06</td>\n",
       "      <td>1.0</td>\n",
       "      <td>Zwanzger, Johannes</td>\n",
       "      <td>2329</td>\n",
       "      <td>1.e4</td>\n",
       "      <td>g6</td>\n",
       "      <td>1067.0</td>\n",
       "      <td>0.570053</td>\n",
       "      <td>24114</td>\n",
       "      <td>35</td>\n",
       "      <td>147</td>\n",
       "    </tr>\n",
       "    <tr>\n",
       "      <th>669</th>\n",
       "      <td>Konopka, Michal</td>\n",
       "      <td>2416</td>\n",
       "      <td>A11</td>\n",
       "      <td>-1.0</td>\n",
       "      <td>Zwardon, V</td>\n",
       "      <td>2430</td>\n",
       "      <td>1.c4</td>\n",
       "      <td>Nf6</td>\n",
       "      <td>284.0</td>\n",
       "      <td>0.565815</td>\n",
       "      <td>415</td>\n",
       "      <td>2</td>\n",
       "      <td>492</td>\n",
       "    </tr>\n",
       "    <tr>\n",
       "      <th>1587</th>\n",
       "      <td>Stocek, Jiri</td>\n",
       "      <td>2557</td>\n",
       "      <td>A20</td>\n",
       "      <td>1.0</td>\n",
       "      <td>Zwardon, Vojtech</td>\n",
       "      <td>2430</td>\n",
       "      <td>1.c4</td>\n",
       "      <td>e5</td>\n",
       "      <td>312.0</td>\n",
       "      <td>0.366592</td>\n",
       "      <td>910</td>\n",
       "      <td>146</td>\n",
       "      <td>793</td>\n",
       "    </tr>\n",
       "    <tr>\n",
       "      <th>377180</th>\n",
       "      <td>Loew, Gerald</td>\n",
       "      <td>2285</td>\n",
       "      <td>A46</td>\n",
       "      <td>0.0</td>\n",
       "      <td>Zweschper, Erich</td>\n",
       "      <td>2187</td>\n",
       "      <td>1.d4</td>\n",
       "      <td>Nf6</td>\n",
       "      <td>3504.0</td>\n",
       "      <td>0.406145</td>\n",
       "      <td>31151</td>\n",
       "      <td>24</td>\n",
       "      <td>100</td>\n",
       "    </tr>\n",
       "    <tr>\n",
       "      <th>8130</th>\n",
       "      <td>Hatzl, Johannes</td>\n",
       "      <td>2114</td>\n",
       "      <td>A08</td>\n",
       "      <td>-1.0</td>\n",
       "      <td>Zwettler, Martin</td>\n",
       "      <td>2272</td>\n",
       "      <td>1.Nf3</td>\n",
       "      <td>d5</td>\n",
       "      <td>474.0</td>\n",
       "      <td>0.749083</td>\n",
       "      <td>2986</td>\n",
       "      <td>30</td>\n",
       "      <td>64</td>\n",
       "    </tr>\n",
       "    <tr>\n",
       "      <th>220055</th>\n",
       "      <td>Kaunas, Kestutis</td>\n",
       "      <td>2335</td>\n",
       "      <td>A10</td>\n",
       "      <td>0.0</td>\n",
       "      <td>Zwicker, Thomas</td>\n",
       "      <td>2220</td>\n",
       "      <td>1.c4</td>\n",
       "      <td>f5</td>\n",
       "      <td>9137.0</td>\n",
       "      <td>0.382775</td>\n",
       "      <td>23599</td>\n",
       "      <td>1</td>\n",
       "      <td>91</td>\n",
       "    </tr>\n",
       "    <tr>\n",
       "      <th>125267</th>\n",
       "      <td>Adler, Joel</td>\n",
       "      <td>2315</td>\n",
       "      <td>A00</td>\n",
       "      <td>-1.0</td>\n",
       "      <td>Zwicky, Martin</td>\n",
       "      <td>2074</td>\n",
       "      <td>1.g3</td>\n",
       "      <td>e5</td>\n",
       "      <td>3916.0</td>\n",
       "      <td>0.230924</td>\n",
       "      <td>16976</td>\n",
       "      <td>1</td>\n",
       "      <td>71</td>\n",
       "    </tr>\n",
       "    <tr>\n",
       "      <th>493426</th>\n",
       "      <td>Mulder, Bart-Piet</td>\n",
       "      <td>2260</td>\n",
       "      <td>D02</td>\n",
       "      <td>-1.0</td>\n",
       "      <td>Zwielich, Frank</td>\n",
       "      <td>2056</td>\n",
       "      <td>1.d4</td>\n",
       "      <td>d5</td>\n",
       "      <td>1935.0</td>\n",
       "      <td>0.270890</td>\n",
       "      <td>16954</td>\n",
       "      <td>9</td>\n",
       "      <td>32</td>\n",
       "    </tr>\n",
       "    <tr>\n",
       "      <th>109373</th>\n",
       "      <td>Kogan, Artur</td>\n",
       "      <td>2569</td>\n",
       "      <td>A31</td>\n",
       "      <td>-1.0</td>\n",
       "      <td>Zwingel, Stephan</td>\n",
       "      <td>2051</td>\n",
       "      <td>1.d4</td>\n",
       "      <td>Nf6</td>\n",
       "      <td>3359.0</td>\n",
       "      <td>0.057452</td>\n",
       "      <td>12440</td>\n",
       "      <td>4</td>\n",
       "      <td>380</td>\n",
       "    </tr>\n",
       "    <tr>\n",
       "      <th>1554681</th>\n",
       "      <td>Castaneda, Georgui</td>\n",
       "      <td>2522</td>\n",
       "      <td>C11</td>\n",
       "      <td>-1.0</td>\n",
       "      <td>Zwirs, Jasper</td>\n",
       "      <td>2054</td>\n",
       "      <td>1.e4</td>\n",
       "      <td>e6</td>\n",
       "      <td>1608.0</td>\n",
       "      <td>0.075173</td>\n",
       "      <td>56164</td>\n",
       "      <td>1</td>\n",
       "      <td>83</td>\n",
       "    </tr>\n",
       "    <tr>\n",
       "      <th>14090</th>\n",
       "      <td>Goudriaan, Etienne</td>\n",
       "      <td>2349</td>\n",
       "      <td>A01</td>\n",
       "      <td>1.0</td>\n",
       "      <td>Zwirs, Nico</td>\n",
       "      <td>2358</td>\n",
       "      <td>1.b3</td>\n",
       "      <td>d5</td>\n",
       "      <td>636.0</td>\n",
       "      <td>0.558731</td>\n",
       "      <td>4312</td>\n",
       "      <td>61</td>\n",
       "      <td>125</td>\n",
       "    </tr>\n",
       "    <tr>\n",
       "      <th>816113</th>\n",
       "      <td>Panocki, Adrian</td>\n",
       "      <td>2369</td>\n",
       "      <td>B06</td>\n",
       "      <td>-1.0</td>\n",
       "      <td>Zwolakiewicz, Krzysztof</td>\n",
       "      <td>2057</td>\n",
       "      <td>1.e4</td>\n",
       "      <td>d6</td>\n",
       "      <td>2656.0</td>\n",
       "      <td>0.166338</td>\n",
       "      <td>45866</td>\n",
       "      <td>7</td>\n",
       "      <td>90</td>\n",
       "    </tr>\n",
       "    <tr>\n",
       "      <th>1705692</th>\n",
       "      <td>Feldman, Alexander</td>\n",
       "      <td>2210</td>\n",
       "      <td>E90</td>\n",
       "      <td>1.0</td>\n",
       "      <td>Zworestine, Charles</td>\n",
       "      <td>2110</td>\n",
       "      <td>1.e4</td>\n",
       "      <td>g6</td>\n",
       "      <td>3954.0</td>\n",
       "      <td>0.403371</td>\n",
       "      <td>57006</td>\n",
       "      <td>1</td>\n",
       "      <td>6</td>\n",
       "    </tr>\n",
       "    <tr>\n",
       "      <th>680369</th>\n",
       "      <td>Aitbayev, Aslan</td>\n",
       "      <td>2282</td>\n",
       "      <td>D36</td>\n",
       "      <td>-1.0</td>\n",
       "      <td>Zybin, Stanislav</td>\n",
       "      <td>2142</td>\n",
       "      <td>1.d4</td>\n",
       "      <td>d5</td>\n",
       "      <td>3011.0</td>\n",
       "      <td>0.349395</td>\n",
       "      <td>39572</td>\n",
       "      <td>7</td>\n",
       "      <td>85</td>\n",
       "    </tr>\n",
       "    <tr>\n",
       "      <th>864984</th>\n",
       "      <td>Bugalski, Lukasz</td>\n",
       "      <td>2098</td>\n",
       "      <td>B13</td>\n",
       "      <td>-1.0</td>\n",
       "      <td>Zygo, Wladyslaw</td>\n",
       "      <td>2178</td>\n",
       "      <td>1.e4</td>\n",
       "      <td>c6</td>\n",
       "      <td>4453.0</td>\n",
       "      <td>0.655821</td>\n",
       "      <td>47708</td>\n",
       "      <td>3</td>\n",
       "      <td>3</td>\n",
       "    </tr>\n",
       "    <tr>\n",
       "      <th>356362</th>\n",
       "      <td>Aloma Vidal, Robert</td>\n",
       "      <td>2458</td>\n",
       "      <td>A45</td>\n",
       "      <td>-1.0</td>\n",
       "      <td>Zygouris, Hristos</td>\n",
       "      <td>2246</td>\n",
       "      <td>1.d4</td>\n",
       "      <td>Nf6</td>\n",
       "      <td>2550.0</td>\n",
       "      <td>0.261891</td>\n",
       "      <td>2191</td>\n",
       "      <td>63</td>\n",
       "      <td>251</td>\n",
       "    </tr>\n",
       "    <tr>\n",
       "      <th>943318</th>\n",
       "      <td>Vanagaite, Giedre</td>\n",
       "      <td>2033</td>\n",
       "      <td>D85</td>\n",
       "      <td>-1.0</td>\n",
       "      <td>Zykiene, Rita</td>\n",
       "      <td>2001</td>\n",
       "      <td>1.d4</td>\n",
       "      <td>Nf6</td>\n",
       "      <td>1306.0</td>\n",
       "      <td>0.500000</td>\n",
       "      <td>49777</td>\n",
       "      <td>1</td>\n",
       "      <td>12</td>\n",
       "    </tr>\n",
       "    <tr>\n",
       "      <th>823110</th>\n",
       "      <td>Kopinits, Anna-Christina</td>\n",
       "      <td>2270</td>\n",
       "      <td>B17</td>\n",
       "      <td>-1.0</td>\n",
       "      <td>Zykina, Nadezhda</td>\n",
       "      <td>2108</td>\n",
       "      <td>1.e4</td>\n",
       "      <td>c6</td>\n",
       "      <td>2924.0</td>\n",
       "      <td>0.321183</td>\n",
       "      <td>38741</td>\n",
       "      <td>7</td>\n",
       "      <td>188</td>\n",
       "    </tr>\n",
       "    <tr>\n",
       "      <th>820306</th>\n",
       "      <td>Kirillova, Varvara</td>\n",
       "      <td>2246</td>\n",
       "      <td>B07</td>\n",
       "      <td>-1.0</td>\n",
       "      <td>Zykova, Antonina</td>\n",
       "      <td>2103</td>\n",
       "      <td>1.e4</td>\n",
       "      <td>d6</td>\n",
       "      <td>2808.0</td>\n",
       "      <td>0.345480</td>\n",
       "      <td>13049</td>\n",
       "      <td>22</td>\n",
       "      <td>105</td>\n",
       "    </tr>\n",
       "    <tr>\n",
       "      <th>899754</th>\n",
       "      <td>Yevseev, Denis</td>\n",
       "      <td>2539</td>\n",
       "      <td>B10</td>\n",
       "      <td>-1.0</td>\n",
       "      <td>Zyla, Janusz</td>\n",
       "      <td>2336</td>\n",
       "      <td>1.e4</td>\n",
       "      <td>c6</td>\n",
       "      <td>6313.0</td>\n",
       "      <td>0.272028</td>\n",
       "      <td>28746</td>\n",
       "      <td>43</td>\n",
       "      <td>449</td>\n",
       "    </tr>\n",
       "    <tr>\n",
       "      <th>224806</th>\n",
       "      <td>Plenca, Jadranko</td>\n",
       "      <td>2366</td>\n",
       "      <td>C77</td>\n",
       "      <td>-1.0</td>\n",
       "      <td>Zylka, Stanislaw</td>\n",
       "      <td>2213</td>\n",
       "      <td>1.e4</td>\n",
       "      <td>e5</td>\n",
       "      <td>413.0</td>\n",
       "      <td>0.332582</td>\n",
       "      <td>24092</td>\n",
       "      <td>11</td>\n",
       "      <td>89</td>\n",
       "    </tr>\n",
       "    <tr>\n",
       "      <th>352995</th>\n",
       "      <td>Zeller, Frank</td>\n",
       "      <td>2439</td>\n",
       "      <td>A48</td>\n",
       "      <td>-1.0</td>\n",
       "      <td>Zymberi, Agron</td>\n",
       "      <td>2132</td>\n",
       "      <td>1.d4</td>\n",
       "      <td>Nf6</td>\n",
       "      <td>2369.0</td>\n",
       "      <td>0.170367</td>\n",
       "      <td>33247</td>\n",
       "      <td>2</td>\n",
       "      <td>250</td>\n",
       "    </tr>\n",
       "    <tr>\n",
       "      <th>499459</th>\n",
       "      <td>Garcia, Jason</td>\n",
       "      <td>2008</td>\n",
       "      <td>D18</td>\n",
       "      <td>0.0</td>\n",
       "      <td>Zymberi, Astrit</td>\n",
       "      <td>2175</td>\n",
       "      <td>1.d4</td>\n",
       "      <td>d5</td>\n",
       "      <td>2219.0</td>\n",
       "      <td>0.758695</td>\n",
       "      <td>31060</td>\n",
       "      <td>26</td>\n",
       "      <td>21</td>\n",
       "    </tr>\n",
       "    <tr>\n",
       "      <th>115283</th>\n",
       "      <td>Kraemer, Martin</td>\n",
       "      <td>2433</td>\n",
       "      <td>A14</td>\n",
       "      <td>-1.0</td>\n",
       "      <td>Zysk, Robert</td>\n",
       "      <td>2483</td>\n",
       "      <td>1.Nf3</td>\n",
       "      <td>Nf6</td>\n",
       "      <td>3574.0</td>\n",
       "      <td>0.615864</td>\n",
       "      <td>2067</td>\n",
       "      <td>144</td>\n",
       "      <td>232</td>\n",
       "    </tr>\n",
       "    <tr>\n",
       "      <th>88045</th>\n",
       "      <td>Stepien, Marcin</td>\n",
       "      <td>2111</td>\n",
       "      <td>A26</td>\n",
       "      <td>0.0</td>\n",
       "      <td>Zysko, Jan</td>\n",
       "      <td>2228</td>\n",
       "      <td>1.Nf3</td>\n",
       "      <td>d6</td>\n",
       "      <td>2636.0</td>\n",
       "      <td>0.702183</td>\n",
       "      <td>13517</td>\n",
       "      <td>45</td>\n",
       "      <td>11</td>\n",
       "    </tr>\n",
       "    <tr>\n",
       "      <th>1599439</th>\n",
       "      <td>Khatenever, Feliks</td>\n",
       "      <td>2037</td>\n",
       "      <td>C10</td>\n",
       "      <td>0.0</td>\n",
       "      <td>Zytner, Yury</td>\n",
       "      <td>2291</td>\n",
       "      <td>1.e4</td>\n",
       "      <td>e6</td>\n",
       "      <td>4195.0</td>\n",
       "      <td>0.838397</td>\n",
       "      <td>56438</td>\n",
       "      <td>4</td>\n",
       "      <td>21</td>\n",
       "    </tr>\n",
       "    <tr>\n",
       "      <th>324298</th>\n",
       "      <td>Carow, Annelen</td>\n",
       "      <td>2028</td>\n",
       "      <td>A45</td>\n",
       "      <td>-1.0</td>\n",
       "      <td>v.d. Weth-v. Nordheim, Petra</td>\n",
       "      <td>2000</td>\n",
       "      <td>1.d4</td>\n",
       "      <td>Nf6</td>\n",
       "      <td>1145.0</td>\n",
       "      <td>0.505756</td>\n",
       "      <td>31463</td>\n",
       "      <td>1</td>\n",
       "      <td>7</td>\n",
       "    </tr>\n",
       "  </tbody>\n",
       "</table>\n",
       "<p>57767 rows × 13 columns</p>\n",
       "</div>"
      ],
      "text/plain": [
       "                                    black  blackelo  eco  result  \\\n",
       "412168                  Hansen, Sune Berg      2536  A63     1.0   \n",
       "598069                   Henrichs, Thomas      2476  A83    -1.0   \n",
       "787212                     Vaghar, Mohsen      2266  B10     1.0   \n",
       "325615                        Ross, David      2291  A46     1.0   \n",
       "78445                  Stojanovski, Sandi      2208  A37     1.0   \n",
       "479592        Mohammad Nubairshah, Shaikh      2166  D18    -1.0   \n",
       "1313987                Harshita, Guddanti      2181  B78    -1.0   \n",
       "782644                   Lalith, Babu M R      2528  B19    -1.0   \n",
       "64381                       Kosmo, Santul      2213  A04    -1.0   \n",
       "871048          Fernandez Garcia, Ignacio      2006  B09     1.0   \n",
       "278274                      Korneev, Oleg      2587  C61    -1.0   \n",
       "521881                  Huebner, Wolfgang      2072  D06    -1.0   \n",
       "1271143                    Urkedal, Frode      2140  E15     0.0   \n",
       "1009429                     Royset, Jon K      2154  B22    -1.0   \n",
       "1499932                Thorstensen, Trond      2175  E44    -1.0   \n",
       "767681                   Ovetchkin, Roman      2535  B14     0.0   \n",
       "1104434                     Harris, David      2148  B22     0.0   \n",
       "374202                      Lapshun, Yury      2479  A49    -1.0   \n",
       "323304                    Aknouche, Ameur      2077  A60    -1.0   \n",
       "756659             Granda Zuniga, Julio E      2652  B06    -1.0   \n",
       "1422936              Abreu Delgado, Aryam      2444  B92     0.0   \n",
       "109701              Liew, Chee-Meng-Jimmy      2309  A08    -1.0   \n",
       "584493           Maynard Salazar, Francis      2235  D10     0.0   \n",
       "482439           Abarca Gonzalez, Damaris      2498  D27     1.0   \n",
       "1312792  Martinez Alcantara, Jose Eduardo      2469  B51    -1.0   \n",
       "909128                           Leon, R.      2115  B10    -1.0   \n",
       "836032                         Sierra, M.      2248  B00    -1.0   \n",
       "836033                     Sierra, Miguel      2248  B00    -1.0   \n",
       "1184062                Goletiani, Rusudan      2310  B43    -1.0   \n",
       "867822              Cherniaev, Alexander2      2270  B07     1.0   \n",
       "...                                   ...       ...  ...     ...   \n",
       "37379                      Das, Arghyadip      2469  A14    -1.0   \n",
       "174310                   Gullaksen, Eirik      2353  A26     0.0   \n",
       "1014865          Roy Chowdhury, Saptarshi      2500  B30    -1.0   \n",
       "771785                    Buchal, Stephan      2312  B06     1.0   \n",
       "669                       Konopka, Michal      2416  A11    -1.0   \n",
       "1587                         Stocek, Jiri      2557  A20     1.0   \n",
       "377180                       Loew, Gerald      2285  A46     0.0   \n",
       "8130                      Hatzl, Johannes      2114  A08    -1.0   \n",
       "220055                   Kaunas, Kestutis      2335  A10     0.0   \n",
       "125267                        Adler, Joel      2315  A00    -1.0   \n",
       "493426                  Mulder, Bart-Piet      2260  D02    -1.0   \n",
       "109373                       Kogan, Artur      2569  A31    -1.0   \n",
       "1554681                Castaneda, Georgui      2522  C11    -1.0   \n",
       "14090                  Goudriaan, Etienne      2349  A01     1.0   \n",
       "816113                    Panocki, Adrian      2369  B06    -1.0   \n",
       "1705692                Feldman, Alexander      2210  E90     1.0   \n",
       "680369                    Aitbayev, Aslan      2282  D36    -1.0   \n",
       "864984                   Bugalski, Lukasz      2098  B13    -1.0   \n",
       "356362                Aloma Vidal, Robert      2458  A45    -1.0   \n",
       "943318                  Vanagaite, Giedre      2033  D85    -1.0   \n",
       "823110           Kopinits, Anna-Christina      2270  B17    -1.0   \n",
       "820306                 Kirillova, Varvara      2246  B07    -1.0   \n",
       "899754                     Yevseev, Denis      2539  B10    -1.0   \n",
       "224806                   Plenca, Jadranko      2366  C77    -1.0   \n",
       "352995                      Zeller, Frank      2439  A48    -1.0   \n",
       "499459                      Garcia, Jason      2008  D18     0.0   \n",
       "115283                    Kraemer, Martin      2433  A14    -1.0   \n",
       "88045                     Stepien, Marcin      2111  A26     0.0   \n",
       "1599439                Khatenever, Feliks      2037  C10     0.0   \n",
       "324298                     Carow, Annelen      2028  A45    -1.0   \n",
       "\n",
       "                                    white  whiteelo white_first_move  \\\n",
       "412168                      Aaberg, Anton      2460             1.d4   \n",
       "598069             Aabling-Thomsen, Jakob      2375             1.d4   \n",
       "787212                      Aadeli, Arvin      2015             1.e4   \n",
       "325615                      Aagaard, Gert      2067             1.d4   \n",
       "78445                      Aagaard, Jacob      2542             1.c4   \n",
       "479592                       Aage, Bjarke      2067             1.d4   \n",
       "1313987               Aakanksha, Hagawane      2061             1.e4   \n",
       "782644                         Aakash, G.      2404             1.e4   \n",
       "64381                        Aakio, Seppo      2070             1.e4   \n",
       "871048           Aalbersberg Kroon, Pedro      2165             1.e4   \n",
       "278274             Aalsberberg Kroon Pere      2146             1.e4   \n",
       "521881                      Aaltio, Erkki      2111             1.d4   \n",
       "1271143                  Aandal, Kristian      2041             1.d4   \n",
       "1009429                   Aanstad, Magnus      2089             1.e4   \n",
       "1499932              Aarland, Stein Arild      2302             1.d4   \n",
       "767681                      Aaron, Deepak      2362             1.e4   \n",
       "1104434                     Aaron, Manuel      2315             1.e4   \n",
       "374202              Abad Sanmartin, Jorge      2045             1.d4   \n",
       "323304   Abaeji, Sinan Younus Abdulrazzaq      2282             1.d4   \n",
       "756659                  Abal Cores, Lucas      2373             1.e4   \n",
       "1422936         Abalde Fernandez, Esteban      2129             1.e4   \n",
       "109701                 Abang, Mohd Reduan      2136            1.Nf3   \n",
       "584493             Abarca Aguirre, Manuel      2360             1.d4   \n",
       "482439           Abarca Gonzalez, Damaris      2730            1.Nf3   \n",
       "1312792          Abarca Gonzalez, Nicolas      2400             1.e4   \n",
       "909128           Abarca Rivadeneira, Ivan      2265             1.e4   \n",
       "836032                         Abarca, D.      2141             1.e4   \n",
       "836033                      Abarca, Diego      2141             1.e4   \n",
       "1184062                   Abasheev, Denis      2455             1.e4   \n",
       "867822                      Abashev, Alex      2337             1.e4   \n",
       "...                                   ...       ...              ...   \n",
       "37379                         Zwahr, Paul      2363             1.c4   \n",
       "174310                        Zwaig, Arne      2450            1.Nf3   \n",
       "1014865                   Zwakala, Ntando      2069             1.e4   \n",
       "771785                 Zwanzger, Johannes      2329             1.e4   \n",
       "669                            Zwardon, V      2430             1.c4   \n",
       "1587                     Zwardon, Vojtech      2430             1.c4   \n",
       "377180                   Zweschper, Erich      2187             1.d4   \n",
       "8130                     Zwettler, Martin      2272            1.Nf3   \n",
       "220055                    Zwicker, Thomas      2220             1.c4   \n",
       "125267                     Zwicky, Martin      2074             1.g3   \n",
       "493426                    Zwielich, Frank      2056             1.d4   \n",
       "109373                   Zwingel, Stephan      2051             1.d4   \n",
       "1554681                     Zwirs, Jasper      2054             1.e4   \n",
       "14090                         Zwirs, Nico      2358             1.b3   \n",
       "816113            Zwolakiewicz, Krzysztof      2057             1.e4   \n",
       "1705692               Zworestine, Charles      2110             1.e4   \n",
       "680369                   Zybin, Stanislav      2142             1.d4   \n",
       "864984                    Zygo, Wladyslaw      2178             1.e4   \n",
       "356362                  Zygouris, Hristos      2246             1.d4   \n",
       "943318                      Zykiene, Rita      2001             1.d4   \n",
       "823110                   Zykina, Nadezhda      2108             1.e4   \n",
       "820306                   Zykova, Antonina      2103             1.e4   \n",
       "899754                       Zyla, Janusz      2336             1.e4   \n",
       "224806                   Zylka, Stanislaw      2213             1.e4   \n",
       "352995                     Zymberi, Agron      2132             1.d4   \n",
       "499459                    Zymberi, Astrit      2175             1.d4   \n",
       "115283                       Zysk, Robert      2483            1.Nf3   \n",
       "88045                          Zysko, Jan      2228            1.Nf3   \n",
       "1599439                      Zytner, Yury      2291             1.e4   \n",
       "324298       v.d. Weth-v. Nordheim, Petra      2000             1.d4   \n",
       "\n",
       "        black_first_move     age  estimate_white_win_by_rating  white_enc  \\\n",
       "412168               Nf6  5415.0                      0.437015      10468   \n",
       "598069                f5  1132.0                      0.401986        875   \n",
       "787212                c6  1586.0                      0.220859      44704   \n",
       "325615               Nf6  1192.0                      0.248759      31545   \n",
       "78445                 c5  2298.0                      0.891569      12282   \n",
       "479592                d5  1302.0                      0.404757      38649   \n",
       "1313987               c5   381.0                      0.375998      54509   \n",
       "782644                c6  1447.0                      0.370611      44464   \n",
       "64381                 c5  1886.0                      0.345480      11095   \n",
       "871048                d6  4744.0                      0.750163      46349   \n",
       "278274                e5  4511.0                      0.086717      28026   \n",
       "521881                d5  3201.0                      0.600778      39546   \n",
       "1271143              Nf6  3540.0                      0.404757      54312   \n",
       "1009429               c5  1090.0                      0.452651      50717   \n",
       "1499932              Nf6  2931.0                      0.714079      16340   \n",
       "767681                c6   895.0                      0.307537       8378   \n",
       "1104434               c5  3728.0                      0.758695      52312   \n",
       "374202                g6  3372.0                      0.089962      34390   \n",
       "323304               Nf6  1106.0                      0.796455      31391   \n",
       "756659                g6   501.0                      0.194372      25143   \n",
       "1422936               c5  4872.0                      0.163957      55386   \n",
       "109701                d5  3371.0                      0.307537      15570   \n",
       "584493                d5  8011.0                      0.711723      36219   \n",
       "482439                d5  1453.0                      0.820495       6913   \n",
       "1312792               c5   314.0                      0.446953       3624   \n",
       "909128                c6  7193.0                      0.740328      40329   \n",
       "836032               Nc6  3385.0                      0.393712      46590   \n",
       "836033               Nc6  3385.0                      0.393712      46591   \n",
       "1184062               c5  6485.0                      0.734757      28068   \n",
       "867822                d6  4590.0                      0.638738      12234   \n",
       "...                  ...     ...                           ...        ...   \n",
       "37379                Nf6  1191.0                      0.395087       8104   \n",
       "174310               Nf6  6009.0                      0.677561      20892   \n",
       "1014865               c5  1227.0                      0.091386      44632   \n",
       "771785                g6  1067.0                      0.570053      24114   \n",
       "669                  Nf6   284.0                      0.565815        415   \n",
       "1587                  e5   312.0                      0.366592        910   \n",
       "377180               Nf6  3504.0                      0.406145      31151   \n",
       "8130                  d5   474.0                      0.749083       2986   \n",
       "220055                f5  9137.0                      0.382775      23599   \n",
       "125267                e5  3916.0                      0.230924      16976   \n",
       "493426                d5  1935.0                      0.270890      16954   \n",
       "109373               Nf6  3359.0                      0.057452      12440   \n",
       "1554681               e6  1608.0                      0.075173      56164   \n",
       "14090                 d5   636.0                      0.558731       4312   \n",
       "816113                d6  2656.0                      0.166338      45866   \n",
       "1705692               g6  3954.0                      0.403371      57006   \n",
       "680369                d5  3011.0                      0.349395      39572   \n",
       "864984                c6  4453.0                      0.655821      47708   \n",
       "356362               Nf6  2550.0                      0.261891       2191   \n",
       "943318               Nf6  1306.0                      0.500000      49777   \n",
       "823110                c6  2924.0                      0.321183      38741   \n",
       "820306                d6  2808.0                      0.345480      13049   \n",
       "899754                c6  6313.0                      0.272028      28746   \n",
       "224806                e5   413.0                      0.332582      24092   \n",
       "352995               Nf6  2369.0                      0.170367      33247   \n",
       "499459                d5  2219.0                      0.758695      31060   \n",
       "115283               Nf6  3574.0                      0.615864       2067   \n",
       "88045                 d6  2636.0                      0.702183      13517   \n",
       "1599439               e6  4195.0                      0.838397      56438   \n",
       "324298               Nf6  1145.0                      0.505756      31463   \n",
       "\n",
       "         white_game_count  black_game_count  \n",
       "412168                 75               526  \n",
       "598069                163               285  \n",
       "787212                  2                47  \n",
       "325615                  4                61  \n",
       "78445                 439                63  \n",
       "479592                  2                54  \n",
       "1313987                 3                 2  \n",
       "782644                  3               438  \n",
       "64381                   8               133  \n",
       "871048                 11                23  \n",
       "278274                  1              1349  \n",
       "521881                  8                 9  \n",
       "1271143                 2               253  \n",
       "1009429                 1                37  \n",
       "1499932                38                36  \n",
       "767681                 53               416  \n",
       "1104434                 2                19  \n",
       "374202                  1               155  \n",
       "323304                  5                14  \n",
       "756659                 13               747  \n",
       "1422936                 1               291  \n",
       "109701                  3                48  \n",
       "584493                 11                25  \n",
       "482439                 66                78  \n",
       "1312792                51                69  \n",
       "909128                  3                 3  \n",
       "836032                  4                16  \n",
       "836033                  4                17  \n",
       "1184062                37               144  \n",
       "867822                 11                 7  \n",
       "...                   ...               ...  \n",
       "37379                  62               259  \n",
       "174310                  1               318  \n",
       "1014865                 6               406  \n",
       "771785                 35               147  \n",
       "669                     2               492  \n",
       "1587                  146               793  \n",
       "377180                 24               100  \n",
       "8130                   30                64  \n",
       "220055                  1                91  \n",
       "125267                  1                71  \n",
       "493426                  9                32  \n",
       "109373                  4               380  \n",
       "1554681                 1                83  \n",
       "14090                  61               125  \n",
       "816113                  7                90  \n",
       "1705692                 1                 6  \n",
       "680369                  7                85  \n",
       "864984                  3                 3  \n",
       "356362                 63               251  \n",
       "943318                  1                12  \n",
       "823110                  7               188  \n",
       "820306                 22               105  \n",
       "899754                 43               449  \n",
       "224806                 11                89  \n",
       "352995                  2               250  \n",
       "499459                 26                21  \n",
       "115283                144               232  \n",
       "88045                  45                11  \n",
       "1599439                 4                21  \n",
       "324298                  1                 7  \n",
       "\n",
       "[57767 rows x 13 columns]"
      ]
     },
     "execution_count": 298,
     "metadata": {},
     "output_type": "execute_result"
    }
   ],
   "source": [
    "df.ix[df[['white','white_game_count','whiteelo']].groupby('white')['whiteelo'].idxmax()]"
   ]
  },
  {
   "cell_type": "markdown",
   "metadata": {},
   "source": [
    "players max rating as a function of how many games as white in the dataset"
   ]
  },
  {
   "cell_type": "code",
   "execution_count": 305,
   "metadata": {
    "collapsed": false
   },
   "outputs": [
    {
     "data": {
      "text/plain": [
       "<matplotlib.axes._subplots.AxesSubplot at 0x270a69f50>"
      ]
     },
     "execution_count": 305,
     "metadata": {},
     "output_type": "execute_result"
    },
    {
     "data": {
      "image/png": "[encoded data removed]",
      "text/plain": [
       "<matplotlib.figure.Figure at 0x2738070d0>"
      ]
     },
     "metadata": {},
     "output_type": "display_data"
    }
   ],
   "source": [
    "df.ix[df[['white','white_game_count','whiteelo']].groupby('white')['whiteelo'].idxmax()].plot('white_game_count','whiteelo',kind='scatter')"
   ]
  },
  {
   "cell_type": "code",
   "execution_count": null,
   "metadata": {
    "collapsed": true
   },
   "outputs": [],
   "source": [
    "plot of last updated rating as a function how many games for white "
   ]
  },
  {
   "cell_type": "code",
   "execution_count": 306,
   "metadata": {
    "collapsed": false
   },
   "outputs": [
    {
     "data": {
      "text/plain": [
       "<matplotlib.axes._subplots.AxesSubplot at 0x270f9aa10>"
      ]
     },
     "execution_count": 306,
     "metadata": {},
     "output_type": "execute_result"
    },
    {
     "data": {
      "image/png": "[encoded data removed]",
      "text/plain": [
       "<matplotlib.figure.Figure at 0x273815ed0>"
      ]
     },
     "metadata": {},
     "output_type": "display_data"
    }
   ],
   "source": [
    "df.ix[df[['white','white_game_count','whiteelo','age']].groupby('white')['age'].idxmin()].plot('white_game_count','whiteelo',kind='scatter')"
   ]
  },
  {
   "cell_type": "code",
   "execution_count": 366,
   "metadata": {
    "collapsed": true
   },
   "outputs": [],
   "source": [
    "from math import log"
   ]
  },
  {
   "cell_type": "code",
   "execution_count": null,
   "metadata": {
    "collapsed": true
   },
   "outputs": [],
   "source": []
  },
  {
   "cell_type": "code",
   "execution_count": null,
   "metadata": {
    "collapsed": true
   },
   "outputs": [],
   "source": [
    "plot of last updated rating as a function how many games for black"
   ]
  },
  {
   "cell_type": "code",
   "execution_count": 311,
   "metadata": {
    "collapsed": false
   },
   "outputs": [
    {
     "data": {
      "text/plain": [
       "<matplotlib.axes._subplots.AxesSubplot at 0x2898b57d0>"
      ]
     },
     "execution_count": 311,
     "metadata": {},
     "output_type": "execute_result"
    },
    {
     "data": {
      "image/png": "[encoded data removed]",
      "text/plain": [
       "<matplotlib.figure.Figure at 0x270d79a10>"
      ]
     },
     "metadata": {},
     "output_type": "display_data"
    }
   ],
   "source": [
    "df.ix[df[['black','black_game_count','blackelo','age']].groupby('black')['age'].idxmin()].plot('black_game_count','blackelo',kind='scatter',figsize=(20,10))"
   ]
  },
  {
   "cell_type": "code",
   "execution_count": 386,
   "metadata": {
    "collapsed": true
   },
   "outputs": [],
   "source": [
    "from math import log10"
   ]
  },
  {
   "cell_type": "code",
   "execution_count": 393,
   "metadata": {
    "collapsed": false
   },
   "outputs": [],
   "source": [
    "rating_df['lograting']= rating_df.whiteelo.map(log10,'whiteelo')"
   ]
  },
  {
   "cell_type": "code",
   "execution_count": 394,
   "metadata": {
    "collapsed": false
   },
   "outputs": [
    {
     "data": {
      "text/html": [
       "<div>\n",
       "<table border=\"1\" class=\"dataframe\">\n",
       "  <thead>\n",
       "    <tr style=\"text-align: right;\">\n",
       "      <th></th>\n",
       "      <th>black</th>\n",
       "      <th>blackelo</th>\n",
       "      <th>eco</th>\n",
       "      <th>result</th>\n",
       "      <th>white</th>\n",
       "      <th>whiteelo</th>\n",
       "      <th>white_first_move</th>\n",
       "      <th>black_first_move</th>\n",
       "      <th>age</th>\n",
       "      <th>estimate_white_win_by_rating</th>\n",
       "      <th>white_enc</th>\n",
       "      <th>white_game_count</th>\n",
       "      <th>black_game_count</th>\n",
       "      <th>lograting</th>\n",
       "    </tr>\n",
       "  </thead>\n",
       "  <tbody>\n",
       "    <tr>\n",
       "      <th>1785851</th>\n",
       "      <td>Wahlstrom, Lennart</td>\n",
       "      <td>2132</td>\n",
       "      <td>C45</td>\n",
       "      <td>1.0</td>\n",
       "      <td>Aaberg, Anton</td>\n",
       "      <td>2367</td>\n",
       "      <td>1.e4</td>\n",
       "      <td>e5</td>\n",
       "      <td>1642.0</td>\n",
       "      <td>0.823025</td>\n",
       "      <td>10468</td>\n",
       "      <td>75</td>\n",
       "      <td>18</td>\n",
       "      <td>3.374198</td>\n",
       "    </tr>\n",
       "    <tr>\n",
       "      <th>750696</th>\n",
       "      <td>Gajic, Mladen</td>\n",
       "      <td>2248</td>\n",
       "      <td>B03</td>\n",
       "      <td>-1.0</td>\n",
       "      <td>Aabling-Thomsen, Jakob</td>\n",
       "      <td>2329</td>\n",
       "      <td>1.e4</td>\n",
       "      <td>Nf6</td>\n",
       "      <td>263.0</td>\n",
       "      <td>0.657119</td>\n",
       "      <td>875</td>\n",
       "      <td>163</td>\n",
       "      <td>102</td>\n",
       "      <td>3.367169</td>\n",
       "    </tr>\n",
       "    <tr>\n",
       "      <th>1027098</th>\n",
       "      <td>Nasri, Amin</td>\n",
       "      <td>2316</td>\n",
       "      <td>B40</td>\n",
       "      <td>-1.0</td>\n",
       "      <td>Aadeli, Arvin</td>\n",
       "      <td>2015</td>\n",
       "      <td>1.e4</td>\n",
       "      <td>c5</td>\n",
       "      <td>1584.0</td>\n",
       "      <td>0.175305</td>\n",
       "      <td>44704</td>\n",
       "      <td>2</td>\n",
       "      <td>125</td>\n",
       "      <td>3.304275</td>\n",
       "    </tr>\n",
       "    <tr>\n",
       "      <th>467434</th>\n",
       "      <td>Kersic, Matej</td>\n",
       "      <td>2207</td>\n",
       "      <td>D15</td>\n",
       "      <td>1.0</td>\n",
       "      <td>Aagaard, Gert</td>\n",
       "      <td>2041</td>\n",
       "      <td>1.d4</td>\n",
       "      <td>d5</td>\n",
       "      <td>798.0</td>\n",
       "      <td>0.316184</td>\n",
       "      <td>31545</td>\n",
       "      <td>4</td>\n",
       "      <td>79</td>\n",
       "      <td>3.309843</td>\n",
       "    </tr>\n",
       "    <tr>\n",
       "      <th>1763382</th>\n",
       "      <td>Ashton, Adam G</td>\n",
       "      <td>2385</td>\n",
       "      <td>C45</td>\n",
       "      <td>0.0</td>\n",
       "      <td>Aagaard, Jacob</td>\n",
       "      <td>2498</td>\n",
       "      <td>1.e4</td>\n",
       "      <td>e5</td>\n",
       "      <td>276.0</td>\n",
       "      <td>0.697345</td>\n",
       "      <td>12282</td>\n",
       "      <td>439</td>\n",
       "      <td>208</td>\n",
       "      <td>3.397592</td>\n",
       "    </tr>\n",
       "  </tbody>\n",
       "</table>\n",
       "</div>"
      ],
      "text/plain": [
       "                      black  blackelo  eco  result                   white  \\\n",
       "1785851  Wahlstrom, Lennart      2132  C45     1.0           Aaberg, Anton   \n",
       "750696        Gajic, Mladen      2248  B03    -1.0  Aabling-Thomsen, Jakob   \n",
       "1027098         Nasri, Amin      2316  B40    -1.0           Aadeli, Arvin   \n",
       "467434        Kersic, Matej      2207  D15     1.0           Aagaard, Gert   \n",
       "1763382      Ashton, Adam G      2385  C45     0.0          Aagaard, Jacob   \n",
       "\n",
       "         whiteelo white_first_move black_first_move     age  \\\n",
       "1785851      2367             1.e4               e5  1642.0   \n",
       "750696       2329             1.e4              Nf6   263.0   \n",
       "1027098      2015             1.e4               c5  1584.0   \n",
       "467434       2041             1.d4               d5   798.0   \n",
       "1763382      2498             1.e4               e5   276.0   \n",
       "\n",
       "         estimate_white_win_by_rating  white_enc  white_game_count  \\\n",
       "1785851                      0.823025      10468                75   \n",
       "750696                       0.657119        875               163   \n",
       "1027098                      0.175305      44704                 2   \n",
       "467434                       0.316184      31545                 4   \n",
       "1763382                      0.697345      12282               439   \n",
       "\n",
       "         black_game_count  lograting  \n",
       "1785851                18   3.374198  \n",
       "750696                102   3.367169  \n",
       "1027098               125   3.304275  \n",
       "467434                 79   3.309843  \n",
       "1763382               208   3.397592  "
      ]
     },
     "execution_count": 394,
     "metadata": {},
     "output_type": "execute_result"
    }
   ],
   "source": [
    "rating_df.head()"
   ]
  },
  {
   "cell_type": "markdown",
   "metadata": {},
   "source": [
    "simple dummy model to use number of games in database to predict rating"
   ]
  },
  {
   "cell_type": "code",
   "execution_count": 310,
   "metadata": {
    "collapsed": true
   },
   "outputs": [],
   "source": [
    "rating_df = df.ix[df[['white','white_game_count','whiteelo','age']].groupby('white')['age'].idxmin()]"
   ]
  },
  {
   "cell_type": "code",
   "execution_count": 314,
   "metadata": {
    "collapsed": false
   },
   "outputs": [
    {
     "data": {
      "text/html": [
       "<div>\n",
       "<table border=\"1\" class=\"dataframe\">\n",
       "  <thead>\n",
       "    <tr style=\"text-align: right;\">\n",
       "      <th></th>\n",
       "      <th>black</th>\n",
       "      <th>blackelo</th>\n",
       "      <th>eco</th>\n",
       "      <th>result</th>\n",
       "      <th>white</th>\n",
       "      <th>whiteelo</th>\n",
       "      <th>white_first_move</th>\n",
       "      <th>black_first_move</th>\n",
       "      <th>age</th>\n",
       "      <th>estimate_white_win_by_rating</th>\n",
       "      <th>white_enc</th>\n",
       "      <th>white_game_count</th>\n",
       "      <th>black_game_count</th>\n",
       "    </tr>\n",
       "  </thead>\n",
       "  <tbody>\n",
       "    <tr>\n",
       "      <th>1785851</th>\n",
       "      <td>Wahlstrom, Lennart</td>\n",
       "      <td>2132</td>\n",
       "      <td>C45</td>\n",
       "      <td>1.0</td>\n",
       "      <td>Aaberg, Anton</td>\n",
       "      <td>2367</td>\n",
       "      <td>1.e4</td>\n",
       "      <td>e5</td>\n",
       "      <td>1642.0</td>\n",
       "      <td>0.823025</td>\n",
       "      <td>10468</td>\n",
       "      <td>75</td>\n",
       "      <td>18</td>\n",
       "    </tr>\n",
       "    <tr>\n",
       "      <th>750696</th>\n",
       "      <td>Gajic, Mladen</td>\n",
       "      <td>2248</td>\n",
       "      <td>B03</td>\n",
       "      <td>-1.0</td>\n",
       "      <td>Aabling-Thomsen, Jakob</td>\n",
       "      <td>2329</td>\n",
       "      <td>1.e4</td>\n",
       "      <td>Nf6</td>\n",
       "      <td>263.0</td>\n",
       "      <td>0.657119</td>\n",
       "      <td>875</td>\n",
       "      <td>163</td>\n",
       "      <td>102</td>\n",
       "    </tr>\n",
       "    <tr>\n",
       "      <th>1027098</th>\n",
       "      <td>Nasri, Amin</td>\n",
       "      <td>2316</td>\n",
       "      <td>B40</td>\n",
       "      <td>-1.0</td>\n",
       "      <td>Aadeli, Arvin</td>\n",
       "      <td>2015</td>\n",
       "      <td>1.e4</td>\n",
       "      <td>c5</td>\n",
       "      <td>1584.0</td>\n",
       "      <td>0.175305</td>\n",
       "      <td>44704</td>\n",
       "      <td>2</td>\n",
       "      <td>125</td>\n",
       "    </tr>\n",
       "    <tr>\n",
       "      <th>467434</th>\n",
       "      <td>Kersic, Matej</td>\n",
       "      <td>2207</td>\n",
       "      <td>D15</td>\n",
       "      <td>1.0</td>\n",
       "      <td>Aagaard, Gert</td>\n",
       "      <td>2041</td>\n",
       "      <td>1.d4</td>\n",
       "      <td>d5</td>\n",
       "      <td>798.0</td>\n",
       "      <td>0.316184</td>\n",
       "      <td>31545</td>\n",
       "      <td>4</td>\n",
       "      <td>79</td>\n",
       "    </tr>\n",
       "    <tr>\n",
       "      <th>1763382</th>\n",
       "      <td>Ashton, Adam G</td>\n",
       "      <td>2385</td>\n",
       "      <td>C45</td>\n",
       "      <td>0.0</td>\n",
       "      <td>Aagaard, Jacob</td>\n",
       "      <td>2498</td>\n",
       "      <td>1.e4</td>\n",
       "      <td>e5</td>\n",
       "      <td>276.0</td>\n",
       "      <td>0.697345</td>\n",
       "      <td>12282</td>\n",
       "      <td>439</td>\n",
       "      <td>208</td>\n",
       "    </tr>\n",
       "  </tbody>\n",
       "</table>\n",
       "</div>"
      ],
      "text/plain": [
       "                      black  blackelo  eco  result                   white  \\\n",
       "1785851  Wahlstrom, Lennart      2132  C45     1.0           Aaberg, Anton   \n",
       "750696        Gajic, Mladen      2248  B03    -1.0  Aabling-Thomsen, Jakob   \n",
       "1027098         Nasri, Amin      2316  B40    -1.0           Aadeli, Arvin   \n",
       "467434        Kersic, Matej      2207  D15     1.0           Aagaard, Gert   \n",
       "1763382      Ashton, Adam G      2385  C45     0.0          Aagaard, Jacob   \n",
       "\n",
       "         whiteelo white_first_move black_first_move     age  \\\n",
       "1785851      2367             1.e4               e5  1642.0   \n",
       "750696       2329             1.e4              Nf6   263.0   \n",
       "1027098      2015             1.e4               c5  1584.0   \n",
       "467434       2041             1.d4               d5   798.0   \n",
       "1763382      2498             1.e4               e5   276.0   \n",
       "\n",
       "         estimate_white_win_by_rating  white_enc  white_game_count  \\\n",
       "1785851                      0.823025      10468                75   \n",
       "750696                       0.657119        875               163   \n",
       "1027098                      0.175305      44704                 2   \n",
       "467434                       0.316184      31545                 4   \n",
       "1763382                      0.697345      12282               439   \n",
       "\n",
       "         black_game_count  \n",
       "1785851                18  \n",
       "750696                102  \n",
       "1027098               125  \n",
       "467434                 79  \n",
       "1763382               208  "
      ]
     },
     "execution_count": 314,
     "metadata": {},
     "output_type": "execute_result"
    }
   ],
   "source": [
    "rating_df.head()"
   ]
  },
  {
   "cell_type": "markdown",
   "metadata": {},
   "source": [
    "see below for simple linear regressor to predict rating vs number games in dataset."
   ]
  },
  {
   "cell_type": "code",
   "execution_count": null,
   "metadata": {
    "collapsed": true
   },
   "outputs": [],
   "source": []
  },
  {
   "cell_type": "code",
   "execution_count": null,
   "metadata": {
    "collapsed": true
   },
   "outputs": [],
   "source": []
  },
  {
   "cell_type": "markdown",
   "metadata": {},
   "source": [
    "One unanticipated challenge was creating categorical information on the player names which was a feature that had a strongest correlation to the target value of predicting opening moves.  After I transitions from shard to the total dataset of 1.8 million games, I found that the data set had over 57,000 unique player names.  Using pandas pd.get_dummies method exceed my system memory and caused my kernel to crash.  \n",
    "\n",
    "So for the final product I will need to investigate alternative solutions such as dividing this categorical labeling into subsets and then merging them.  Alternatively, Matt suggested that I investigate using the hash trick which would hash my unique features and reduce the dimension.  One consequence of the latter option would bucket users into arbitrary groups which may have some unwanted variance to the dataset.  Yet another suggestion from Miles would be to feature engineer some groups of player styles or classes to reduce dimensionality. Lastly, I could simply reduce the number of players by only keeping those that meet a threshold of minimum number of games for example > 3 games.  This would greatly reduce the dataset and potentially allow me to use the get_dummies method on all the data. I will explore these options in greater details in week two."
   ]
  },
  {
   "cell_type": "markdown",
   "metadata": {},
   "source": [
    "4. Modeling\n",
    "---\n",
    "In this phase, various modeling techniques are selected and applied, and their parameters are calibrated to optimal values. Typically, there are several techniques for the same data mining problem type. Some techniques have specific requirements on the form of data. Therefore, stepping back to the data preparation phase is often needed.\n"
   ]
  },
  {
   "cell_type": "markdown",
   "metadata": {},
   "source": [
    "The other part of modeling that I needed to consider was if the player had little or no data in the database.  The solution that I decided on after some discussion with peers and instructors was to create a seperate model that had the player names removed and use this if the user entered name was't found in the data set.  In addition I may be able to use both the player based and non-player based models in some weighted ensemble to get the desired result of using a more general model if there was only a few games in the dataset."
   ]
  },
  {
   "cell_type": "code",
   "execution_count": 224,
   "metadata": {
    "collapsed": false
   },
   "outputs": [
    {
     "data": {
      "text/html": [
       "<div>\n",
       "<table border=\"1\" class=\"dataframe\">\n",
       "  <thead>\n",
       "    <tr style=\"text-align: right;\">\n",
       "      <th></th>\n",
       "      <th>black</th>\n",
       "      <th>blackelo</th>\n",
       "      <th>eco</th>\n",
       "      <th>result</th>\n",
       "      <th>white</th>\n",
       "      <th>whiteelo</th>\n",
       "      <th>white_first_move</th>\n",
       "      <th>black_first_move</th>\n",
       "      <th>age</th>\n",
       "      <th>estimate_white_win_by_rating</th>\n",
       "      <th>white_enc</th>\n",
       "    </tr>\n",
       "  </thead>\n",
       "  <tbody>\n",
       "    <tr>\n",
       "      <th>0</th>\n",
       "      <td>Kosteniuk, Alexandra</td>\n",
       "      <td>2554</td>\n",
       "      <td>A05</td>\n",
       "      <td>-1.0</td>\n",
       "      <td>Harika, Dronavalli</td>\n",
       "      <td>2511</td>\n",
       "      <td>1.Nf3</td>\n",
       "      <td>Nf6</td>\n",
       "      <td>261.0</td>\n",
       "      <td>0.484175</td>\n",
       "      <td>0</td>\n",
       "    </tr>\n",
       "  </tbody>\n",
       "</table>\n",
       "</div>"
      ],
      "text/plain": [
       "                  black  blackelo  eco  result               white  whiteelo  \\\n",
       "0  Kosteniuk, Alexandra      2554  A05    -1.0  Harika, Dronavalli      2511   \n",
       "\n",
       "  white_first_move black_first_move    age  estimate_white_win_by_rating  \\\n",
       "0            1.Nf3              Nf6  261.0                      0.484175   \n",
       "\n",
       "   white_enc  \n",
       "0          0  "
      ]
     },
     "execution_count": 224,
     "metadata": {},
     "output_type": "execute_result"
    }
   ],
   "source": [
    "df.head(1)"
   ]
  },
  {
   "cell_type": "code",
   "execution_count": null,
   "metadata": {
    "collapsed": false,
    "scrolled": true
   },
   "outputs": [],
   "source": [
    "#modeling\n",
    "y = df['white_first_move'].values\n",
    "y_eco = df['eco'].values\n",
    "#X = df[['blackelo','result','whiteelo','age','estimate_white_win_by_rating']].values\n",
    "X = df[['blackelo','whiteelo','age','white_enc','result','estimate_white_win_by_rating']].values\n",
    "\n",
    "#trainsplit\n",
    "from sklearn.model_selection import train_test_split\n",
    "X_train, X_test, y_train, y_test = train_test_split(X, y, test_size=0.30, random_state=42)\n",
    "\n",
    "import numpy as np\n",
    "import matplotlib.pyplot as plt\n",
    "\n",
    "from sklearn.linear_model import LogisticRegression\n",
    "from sklearn.naive_bayes import GaussianNB,MultinomialNB\n",
    "from sklearn.ensemble import RandomForestClassifier\n",
    "from sklearn.ensemble import VotingClassifier\n",
    "from sklearn import tree\n",
    "#class_weight=\n",
    "clf1 = LogisticRegression(random_state=123, multi_class='ovr')\n",
    "clf2 = RandomForestClassifier(random_state=123,n_estimators=10)\n",
    "clf3 = GaussianNB()\n",
    "clf4 = MultinomialNB()\n",
    "clf5 = tree.DecisionTreeClassifier()\n",
    "\n",
    "y_pred = clf1.fit(X_train, y_train).predict(X_test)\n",
    "#y_pred = clf2.fit(X_train, y_train).predict(X_test)\n",
    "\n"
   ]
  },
  {
   "cell_type": "markdown",
   "metadata": {},
   "source": [
    "pickle model to use for app"
   ]
  },
  {
   "cell_type": "code",
   "execution_count": null,
   "metadata": {
    "collapsed": true
   },
   "outputs": [],
   "source": [
    "import cPickle as pickle\n",
    "pickle.dump(clf1, open( \"../data/model_log.pkl\", \"wb\" ) )"
   ]
  },
  {
   "cell_type": "markdown",
   "metadata": {},
   "source": [
    "Next to include GB model though this may suffer from high dimensionality more than random forest if I include more features.  Also, would like to explore graphlab recommender system just to see how it does vs these classifiers."
   ]
  },
  {
   "cell_type": "code",
   "execution_count": null,
   "metadata": {
    "collapsed": false
   },
   "outputs": [],
   "source": [
    "#X_train, X_test, y_train, y_test = train_test_split(X, y_eco, test_size=0.30, random_state=42)"
   ]
  },
  {
   "cell_type": "code",
   "execution_count": null,
   "metadata": {
    "collapsed": true
   },
   "outputs": [],
   "source": []
  },
  {
   "cell_type": "code",
   "execution_count": null,
   "metadata": {
    "collapsed": true
   },
   "outputs": [],
   "source": []
  },
  {
   "cell_type": "code",
   "execution_count": null,
   "metadata": {
    "collapsed": true
   },
   "outputs": [],
   "source": []
  },
  {
   "cell_type": "code",
   "execution_count": 324,
   "metadata": {
    "collapsed": false
   },
   "outputs": [
    {
     "data": {
      "text/plain": [
       "(57767,)"
      ]
     },
     "execution_count": 324,
     "metadata": {},
     "output_type": "execute_result"
    }
   ],
   "source": [
    "rating_df['whiteelo'].shape"
   ]
  },
  {
   "cell_type": "code",
   "execution_count": 325,
   "metadata": {
    "collapsed": false
   },
   "outputs": [
    {
     "data": {
      "text/plain": [
       "(57767,)"
      ]
     },
     "execution_count": 325,
     "metadata": {},
     "output_type": "execute_result"
    }
   ],
   "source": [
    "rating_df['white_game_count'].shape"
   ]
  },
  {
   "cell_type": "markdown",
   "metadata": {},
   "source": [
    "Modeling rating"
   ]
  },
  {
   "cell_type": "code",
   "execution_count": 375,
   "metadata": {
    "collapsed": false
   },
   "outputs": [],
   "source": [
    "#modeling\n",
    "#y_rating = rating_df['whiteelo'].values\n",
    "y_rating = rating_df['lograting'].values\n",
    "X_rating = rating_df['white_game_count']\n",
    "X_rating = X_rating.reshape(-1, 1) \n",
    "\n",
    "%matplotlib inline\n",
    "from scipy import stats\n",
    "import seaborn as sns\n",
    "import statsmodels.api as sm\n",
    "\n",
    "#trainsplit\n",
    "from sklearn.model_selection import train_test_split\n",
    "X_rating_train, X_rating_test, y_rating_train, y_rating_test = train_test_split(X_rating, y_rating, test_size=0.30, random_state=42)\n",
    "\n",
    "import numpy as np\n",
    "import matplotlib.pyplot as plt\n",
    "\n",
    "from sklearn.preprocessing import PolynomialFeatures\n",
    "from sklearn.linear_model import LinearRegression\n",
    "from sklearn.naive_bayes import GaussianNB,MultinomialNB\n",
    "from sklearn.ensemble import RandomForestClassifier\n",
    "from sklearn.ensemble import VotingClassifier\n",
    "from sklearn import tree\n",
    "\n",
    "#poly = PolynomialFeatures(degree=2)\n",
    "#X_ = poly.fit_transform(X_rating)\n",
    "#predict_ = poly.fit_transform(y_rating)\n",
    "\n",
    "clf = LinearRegression()\n",
    "\n",
    "y_rating_pred = clf.fit(X_rating_train, y_rating_train).predict(X_rating_test)\n",
    "\n",
    "\n"
   ]
  },
  {
   "cell_type": "code",
   "execution_count": null,
   "metadata": {
    "collapsed": true
   },
   "outputs": [],
   "source": []
  },
  {
   "cell_type": "code",
   "execution_count": null,
   "metadata": {
    "collapsed": true
   },
   "outputs": [],
   "source": []
  },
  {
   "cell_type": "code",
   "execution_count": null,
   "metadata": {
    "collapsed": true
   },
   "outputs": [],
   "source": []
  },
  {
   "cell_type": "code",
   "execution_count": null,
   "metadata": {
    "collapsed": true
   },
   "outputs": [],
   "source": []
  },
  {
   "cell_type": "markdown",
   "metadata": {},
   "source": [
    "5. Evaluation\n",
    "---\n",
    "At this stage in the project you have built a model (or models) that appears to have high quality, from a data analysis perspective. Before proceeding to final deployment of the model, it is important to more thoroughly evaluate the model, and review the steps executed to construct the model, to be certain it properly achieves the business objectives. A key objective is to determine if there is some important business issue that has not been sufficiently considered. At the end of this phase, a decision on the use of the data mining results should be reached.\n"
   ]
  },
  {
   "cell_type": "markdown",
   "metadata": {},
   "source": [
    "Initial models failed to provide much predictive power especially when using the larger dataset without player name.  logit regression seems to provide best outof box.  "
   ]
  },
  {
   "cell_type": "code",
   "execution_count": 317,
   "metadata": {
    "collapsed": true
   },
   "outputs": [],
   "source": [
    "from sklearn.metrics import accuracy_score,f1_score\n",
    "from sklearn.metrics import log_loss\n",
    "\n",
    "clf_probs = clf1.predict_proba(X_test)\n",
    "score = log_loss(y_test, clf_probs)"
   ]
  },
  {
   "cell_type": "code",
   "execution_count": 318,
   "metadata": {
    "collapsed": false
   },
   "outputs": [
    {
     "data": {
      "text/plain": [
       "0.46762914585642679"
      ]
     },
     "execution_count": 318,
     "metadata": {},
     "output_type": "execute_result"
    }
   ],
   "source": [
    "accuracy_score(y_test, y_pred)"
   ]
  },
  {
   "cell_type": "code",
   "execution_count": 319,
   "metadata": {
    "collapsed": false
   },
   "outputs": [
    {
     "data": {
      "text/plain": [
       "0.46762914585642679"
      ]
     },
     "execution_count": 319,
     "metadata": {},
     "output_type": "execute_result"
    }
   ],
   "source": [
    "f1_score(y_test, y_pred, average='micro') "
   ]
  },
  {
   "cell_type": "code",
   "execution_count": 320,
   "metadata": {
    "collapsed": false
   },
   "outputs": [
    {
     "data": {
      "text/plain": [
       "1.194327945480389"
      ]
     },
     "execution_count": 320,
     "metadata": {},
     "output_type": "execute_result"
    }
   ],
   "source": [
    "score"
   ]
  },
  {
   "cell_type": "code",
   "execution_count": 202,
   "metadata": {
    "collapsed": false
   },
   "outputs": [
    {
     "data": {
      "text/plain": [
       "u'1.e4'"
      ]
     },
     "execution_count": 202,
     "metadata": {},
     "output_type": "execute_result"
    }
   ],
   "source": [
    "y_pred[120]"
   ]
  },
  {
   "cell_type": "code",
   "execution_count": null,
   "metadata": {
    "collapsed": true
   },
   "outputs": [],
   "source": []
  },
  {
   "cell_type": "code",
   "execution_count": null,
   "metadata": {
    "collapsed": false
   },
   "outputs": [],
   "source": [
    "X_test[0]"
   ]
  },
  {
   "cell_type": "code",
   "execution_count": null,
   "metadata": {
    "collapsed": true
   },
   "outputs": [],
   "source": [
    "from sklearn.metrics import confusion_matrix"
   ]
  },
  {
   "cell_type": "code",
   "execution_count": null,
   "metadata": {
    "collapsed": false
   },
   "outputs": [],
   "source": [
    "confusion_matrix(y_test, y_pred)"
   ]
  },
  {
   "cell_type": "code",
   "execution_count": null,
   "metadata": {
    "collapsed": true
   },
   "outputs": [],
   "source": [
    "y_pred = clf2.fit(X_train, y_train).predict(X_test)\n",
    "clf_probs = clf2.predict_proba(X_test)\n",
    "score = log_loss(y_test, clf_probs)"
   ]
  },
  {
   "cell_type": "code",
   "execution_count": null,
   "metadata": {
    "collapsed": false
   },
   "outputs": [],
   "source": [
    "score #RFC gives bad log_loss score compared to logit"
   ]
  },
  {
   "cell_type": "code",
   "execution_count": null,
   "metadata": {
    "collapsed": false
   },
   "outputs": [],
   "source": [
    "accuracy_score(y_test, y_pred)"
   ]
  },
  {
   "cell_type": "code",
   "execution_count": null,
   "metadata": {
    "collapsed": false
   },
   "outputs": [],
   "source": [
    "class_names = df.white_first_move.unique()\n",
    "\n",
    "def plot_confusion_matrix(cm, classes,\n",
    "                          normalize=False,\n",
    "                          title='Confusion matrix',\n",
    "                          cmap=plt.cm.Blues):\n",
    "    \"\"\"\n",
    "    This function prints and plots the confusion matrix.\n",
    "    Normalization can be applied by setting `normalize=True`.\n",
    "    \"\"\"\n",
    "    plt.imshow(cm, interpolation='nearest', cmap=cmap)\n",
    "    plt.title(title)\n",
    "    plt.colorbar()\n",
    "    tick_marks = np.arange(len(classes))\n",
    "    plt.xticks(tick_marks, classes, rotation=45)\n",
    "    plt.yticks(tick_marks, classes)\n",
    "\n",
    "    if normalize:\n",
    "        cm = cm.astype('float') / cm.sum(axis=1)[:, np.newaxis]\n",
    "        print(\"Normalized confusion matrix\")\n",
    "    else:\n",
    "        print('Confusion matrix, without normalization')\n",
    "\n",
    "    print(cm)\n",
    "\n",
    "    thresh = cm.max() / 2.\n",
    "    for i, j in itertools.product(range(cm.shape[0]), range(cm.shape[1])):\n",
    "        plt.text(j, i, cm[i, j],\n",
    "                 horizontalalignment=\"center\",\n",
    "                 color=\"white\" if cm[i, j] > thresh else \"black\")\n",
    "\n",
    "    plt.tight_layout()\n",
    "    plt.ylabel('True label')\n",
    "    plt.xlabel('Predicted label')\n",
    "\n",
    "# Compute confusion matrix\n",
    "cnf_matrix = confusion_matrix(y_test, y_pred)\n",
    "np.set_printoptions(precision=2)\n",
    "\n",
    "# Plot non-normalized confusion matrix\n",
    "plt.figure()\n",
    "plot_confusion_matrix(cnf_matrix, classes=class_names,\n",
    "                      title='Confusion matrix, without normalization')\n",
    "\n",
    "# Plot normalized confusion matrix\n",
    "plt.figure()\n",
    "plot_confusion_matrix(cnf_matrix, classes=class_names, normalize=True,\n",
    "                      title='Normalized confusion matrix')\n",
    "\n",
    "plt.show()"
   ]
  },
  {
   "cell_type": "code",
   "execution_count": null,
   "metadata": {
    "collapsed": true
   },
   "outputs": [],
   "source": []
  },
  {
   "cell_type": "code",
   "execution_count": null,
   "metadata": {
    "collapsed": true
   },
   "outputs": [],
   "source": []
  },
  {
   "cell_type": "code",
   "execution_count": null,
   "metadata": {
    "collapsed": true
   },
   "outputs": [],
   "source": []
  },
  {
   "cell_type": "code",
   "execution_count": null,
   "metadata": {
    "collapsed": true
   },
   "outputs": [],
   "source": []
  },
  {
   "cell_type": "code",
   "execution_count": null,
   "metadata": {
    "collapsed": true
   },
   "outputs": [],
   "source": []
  },
  {
   "cell_type": "markdown",
   "metadata": {},
   "source": [
    "scoring for linear regression"
   ]
  },
  {
   "cell_type": "code",
   "execution_count": 384,
   "metadata": {
    "collapsed": false
   },
   "outputs": [
    {
     "data": {
      "text/plain": [
       "52489.43549147637"
      ]
     },
     "execution_count": 384,
     "metadata": {},
     "output_type": "execute_result"
    }
   ],
   "source": [
    "math.exp(clf.predict(10000)[0])"
   ]
  },
  {
   "cell_type": "code",
   "execution_count": 342,
   "metadata": {
    "collapsed": false
   },
   "outputs": [
    {
     "ename": "AttributeError",
     "evalue": "'LinearRegression' object has no attribute 'summary'",
     "output_type": "error",
     "traceback": [
      "\u001b[0;31m---------------------------------------------------------------------------\u001b[0m",
      "\u001b[0;31mAttributeError\u001b[0m                            Traceback (most recent call last)",
      "\u001b[0;32m<ipython-input-342-5d353acc5ca4>\u001b[0m in \u001b[0;36m<module>\u001b[0;34m()\u001b[0m\n\u001b[0;32m----> 1\u001b[0;31m \u001b[0mclf\u001b[0m\u001b[0;34m.\u001b[0m\u001b[0msummary\u001b[0m\u001b[0;34m(\u001b[0m\u001b[0;34m)\u001b[0m\u001b[0;34m\u001b[0m\u001b[0m\n\u001b[0m",
      "\u001b[0;31mAttributeError\u001b[0m: 'LinearRegression' object has no attribute 'summary'"
     ]
    }
   ],
   "source": [
    "clf.summary()"
   ]
  },
  {
   "cell_type": "code",
   "execution_count": null,
   "metadata": {
    "collapsed": true
   },
   "outputs": [],
   "source": []
  },
  {
   "cell_type": "code",
   "execution_count": null,
   "metadata": {
    "collapsed": true
   },
   "outputs": [],
   "source": []
  },
  {
   "cell_type": "markdown",
   "metadata": {},
   "source": [
    "6. Deployment\n",
    "---\n",
    "Creation of the model is generally not the end of the project. Even if the purpose of the model is to increase knowledge of the data, the knowledge gained will need to be organized and presented in a way that is useful to the customer. Depending on the requirements, the deployment phase can be as simple as generating a report or as complex as implementing a repeatable data scoring (e.g. segment allocation) or data mining process. In many cases it will be the customer, not the data analyst, who will carry out the deployment steps. Even if the analyst deploys the model it is important for the customer to understand up front the actions which will need to be carried out in order to actually make use of the created models."
   ]
  },
  {
   "cell_type": "markdown",
   "metadata": {},
   "source": [
    "So far I created a flask app locally to run as a test."
   ]
  },
  {
   "cell_type": "markdown",
   "metadata": {},
   "source": [
    "I have a python library to show the fen positions on the website and have tested the open source chess engine to run from command line."
   ]
  },
  {
   "cell_type": "code",
   "execution_count": null,
   "metadata": {
    "collapsed": true
   },
   "outputs": [],
   "source": [
    "import json\n",
    "import chess.pgn"
   ]
  },
  {
   "cell_type": "code",
   "execution_count": null,
   "metadata": {
    "collapsed": false
   },
   "outputs": [],
   "source": [
    "df.head()"
   ]
  },
  {
   "cell_type": "code",
   "execution_count": null,
   "metadata": {
    "collapsed": true
   },
   "outputs": [],
   "source": [
    "testdf = pd.DataFrame(games) "
   ]
  },
  {
   "cell_type": "code",
   "execution_count": null,
   "metadata": {
    "collapsed": true
   },
   "outputs": [],
   "source": [
    "6*3"
   ]
  },
  {
   "cell_type": "code",
   "execution_count": null,
   "metadata": {
    "collapsed": true
   },
   "outputs": [],
   "source": [
    "testdf.white = testdf.white.map(lambda x: x.rstrip('\"\\r'))\n",
    "testdf.black = testdf.black.map(lambda x: x.rstrip('\"\\r'))\n",
    "testdf.blackelo = testdf.blackelo.map(lambda x: x.rstrip('\"\\r'))\n",
    "testdf.date = testdf.date.map(lambda x: x.rstrip('\"\\r'))\n",
    "testdf.eco = testdf.eco.map(lambda x: x.rstrip('\"\\r'))\n",
    "testdf.result = testdf.result.map(lambda x: x.rstrip('\"\\r'))\n",
    "testdf.whiteelo = testdf.whiteelo.map(lambda x: x.rstrip('\"\\r'))"
   ]
  },
  {
   "cell_type": "code",
   "execution_count": null,
   "metadata": {
    "collapsed": false
   },
   "outputs": [],
   "source": [
    "testdf"
   ]
  },
  {
   "cell_type": "code",
   "execution_count": null,
   "metadata": {
    "collapsed": true
   },
   "outputs": [],
   "source": []
  },
  {
   "cell_type": "code",
   "execution_count": null,
   "metadata": {
    "collapsed": true
   },
   "outputs": [],
   "source": []
  },
  {
   "cell_type": "code",
   "execution_count": null,
   "metadata": {
    "collapsed": true
   },
   "outputs": [],
   "source": []
  },
  {
   "cell_type": "markdown",
   "metadata": {},
   "source": [
    "### References/Citations"
   ]
  },
  {
   "cell_type": "code",
   "execution_count": null,
   "metadata": {
    "collapsed": true
   },
   "outputs": [],
   "source": []
  }
 ],
 "metadata": {
  "anaconda-cloud": {},
  "kernelspec": {
   "display_name": "Python [Root]",
   "language": "python",
   "name": "Python [Root]"
  },
  "language_info": {
   "codemirror_mode": {
    "name": "ipython",
    "version": 2
   },
   "file_extension": ".py",
   "mimetype": "text/x-python",
   "name": "python",
   "nbconvert_exporter": "python",
   "pygments_lexer": "ipython2",
   "version": "2.7.12"
  }
 },
 "nbformat": 4,
 "nbformat_minor": 0
}
