{
 "cells": [
  {
   "cell_type": "code",
   "execution_count": 1,
   "metadata": {
    "collapsed": true
   },
   "outputs": [],
   "source": [
    "import chess"
   ]
  },
  {
   "cell_type": "code",
   "execution_count": 2,
   "metadata": {
    "collapsed": true
   },
   "outputs": [],
   "source": [
    "import chess.uci"
   ]
  },
  {
   "cell_type": "code",
   "execution_count": 4,
   "metadata": {
    "collapsed": false
   },
   "outputs": [],
   "source": [
    "engine = chess.uci.popen_engine(\"/Users/eduardodaroza/Downloads/stockfish-8-mac 2/Mac/stockfish-8-64\")"
   ]
  },
  {
   "cell_type": "code",
   "execution_count": 5,
   "metadata": {
    "collapsed": true
   },
   "outputs": [],
   "source": [
    "board = chess.Board(\"1k1r4/pp1b1R2/3q2pp/4p3/2B5/4Q3/PPP2B2/2K5 b - - 0 1\")"
   ]
  },
  {
   "cell_type": "code",
   "execution_count": 6,
   "metadata": {
    "collapsed": true
   },
   "outputs": [],
   "source": [
    "engine.position(board)"
   ]
  },
  {
   "cell_type": "code",
   "execution_count": 7,
   "metadata": {
    "collapsed": false
   },
   "outputs": [
    {
     "data": {
      "text/plain": [
       "BestMove(bestmove=Move.from_uci('d6d1'), ponder=Move.from_uci('c1d1'))"
      ]
     },
     "execution_count": 7,
     "metadata": {},
     "output_type": "execute_result"
    }
   ],
   "source": [
    "engine.go(movetime=2000)"
   ]
  },
  {
   "cell_type": "code",
   "execution_count": 8,
   "metadata": {
    "collapsed": false
   },
   "outputs": [
    {
     "name": "stdout",
     "output_type": "stream",
     "text": [
      ". k . r . . . .\n",
      "p p . b . R . .\n",
      ". . . q . . p p\n",
      ". . . . p . . .\n",
      ". . B . . . . .\n",
      ". . . . Q . . .\n",
      "P P P . . B . .\n",
      ". . K . . . . .\n"
     ]
    }
   ],
   "source": [
    "print board"
   ]
  },
  {
   "cell_type": "code",
   "execution_count": 12,
   "metadata": {
    "collapsed": false
   },
   "outputs": [
    {
     "data": {
      "image/svg+xml": [
       "<svg height=\"650\" viewBox=\"0 0 7410 3900\" width=\"1235\" xmlns=\"http://www.w3.org/2000/svg\" xmlns:xlink=\"http://www.w3.org/1999/xlink\">\n",
       "<rect fill=\"#b22234\" height=\"3900\" width=\"7410\"/>\n",
       "<path d=\"M0,450H7410m0,600H0m0,600H7410m0,600H0m0,600H7410m0,600H0\" stroke=\"#fff\" stroke-width=\"300\"/>\n",
       "<rect fill=\"#3c3b6e\" height=\"2100\" width=\"2964\"/>\n",
       "<g fill=\"#fff\">\n",
       "<g id=\"s18\">\n",
       "<g id=\"s9\">\n",
       "<g id=\"s5\">\n",
       "<g id=\"s4\">\n",
       "<path d=\"M247,90 317.534230,307.082039 132.873218,172.917961H361.126782L176.465770,307.082039z\" id=\"s\"/>\n",
       "<use xlink:href=\"#s\" y=\"420\"/>\n",
       "<use xlink:href=\"#s\" y=\"840\"/>\n",
       "<use xlink:href=\"#s\" y=\"1260\"/>\n",
       "</g>\n",
       "<use xlink:href=\"#s\" y=\"1680\"/>\n",
       "</g>\n",
       "<use x=\"247\" xlink:href=\"#s4\" y=\"210\"/>\n",
       "</g>\n",
       "<use x=\"494\" xlink:href=\"#s9\"/>\n",
       "</g>\n",
       "<use x=\"988\" xlink:href=\"#s18\"/>\n",
       "<use x=\"1976\" xlink:href=\"#s9\"/>\n",
       "<use x=\"2470\" xlink:href=\"#s5\"/>\n",
       "</g>\n",
       "</svg>"
      ],
      "text/plain": [
       "<IPython.core.display.SVG object>"
      ]
     },
     "execution_count": 12,
     "metadata": {},
     "output_type": "execute_result"
    }
   ],
   "source": [
    "from IPython.display import SVG\n",
    "SVG(url='http://upload.wikimedia.org/wikipedia/en/a/a4/Flag_of_the_United_States.svg')"
   ]
  },
  {
   "cell_type": "code",
   "execution_count": 14,
   "metadata": {
    "collapsed": false
   },
   "outputs": [
    {
     "data": {
      "image/svg+xml": [
       "<svg height=\"400\" version=\"1.1\" width=\"400\" xmlns=\"http://www.w3.org/2000/svg\" xmlns:xlink=\"http://www.w3.org/1999/xlink\"><style>.square.light {\n",
       "  fill: #ffce9e;\n",
       "}\n",
       ".square.dark {\n",
       "  fill: #d18b47;\n",
       "}\n",
       "\n",
       ".square.dark.lastmove {\n",
       "  fill: #aaa23b;\n",
       "}\n",
       ".square.light.lastmove {\n",
       "  fill: #cdd16a;\n",
       "}\n",
       "\n",
       ".check {\n",
       "  fill: url(#check_gradient);\n",
       "}\n",
       "</style><defs><g class=\"white bishop\" fill=\"none\" fill-rule=\"evenodd\" id=\"white-bishop\" stroke=\"#000\" stroke-linecap=\"round\" stroke-linejoin=\"round\" stroke-width=\"1.5\"><g fill=\"#fff\" stroke-linecap=\"butt\"><path d=\"M9 36c3.39-.97 10.11.43 13.5-2 3.39 2.43 10.11 1.03 13.5 2 0 0 1.65.54 3 2-.68.97-1.65.99-3 .5-3.39-.97-10.11.46-13.5-1-3.39 1.46-10.11.03-13.5 1-1.354.49-2.323.47-3-.5 1.354-1.94 3-2 3-2zM15 32c2.5 2.5 12.5 2.5 15 0 .5-1.5 0-2 0-2 0-2.5-2.5-4-2.5-4 5.5-1.5 6-11.5-5-15.5-11 4-10.5 14-5 15.5 0 0-2.5 1.5-2.5 4 0 0-.5.5 0 2zM25 8a2.5 2.5 0 1 1-5 0 2.5 2.5 0 1 1 5 0z\"/></g><path d=\"M17.5 26h10M15 30h15m-7.5-14.5v5M20 18h5\" stroke-linejoin=\"miter\"/></g><g class=\"white king\" fill=\"none\" fill-rule=\"evenodd\" id=\"white-king\" stroke=\"#000\" stroke-linecap=\"round\" stroke-linejoin=\"round\" stroke-width=\"1.5\"><path d=\"M22.5 11.63V6M20 8h5\" stroke-linejoin=\"miter\"/><path d=\"M22.5 25s4.5-7.5 3-10.5c0 0-1-2.5-3-2.5s-3 2.5-3 2.5c-1.5 3 3 10.5 3 10.5\" fill=\"#fff\" stroke-linecap=\"butt\" stroke-linejoin=\"miter\"/><path d=\"M11.5 37c5.5 3.5 15.5 3.5 21 0v-7s9-4.5 6-10.5c-4-6.5-13.5-3.5-16 4V27v-3.5c-3.5-7.5-13-10.5-16-4-3 6 5 10 5 10V37z\" fill=\"#fff\"/><path d=\"M11.5 30c5.5-3 15.5-3 21 0m-21 3.5c5.5-3 15.5-3 21 0m-21 3.5c5.5-3 15.5-3 21 0\"/></g><g class=\"white knight\" fill=\"none\" fill-rule=\"evenodd\" id=\"white-knight\" stroke=\"#000\" stroke-linecap=\"round\" stroke-linejoin=\"round\" stroke-width=\"1.5\"><path d=\"M22 10c10.5 1 16.5 8 16 29H15c0-9 10-6.5 8-21M24 18c.38 2.91-5.55 7.37-8 9-3 2-2.82 4.34-5 4-1.042-.94 1.41-3.04 0-3-1 0 .19 1.23-1 2-1 0-4.003 1-4-4 0-2 6-12 6-12s1.89-1.9 2-3.5c-.73-.994-.5-2-.5-3 1-1 3 2.5 3 2.5h2s.78-1.992 2.5-3c1 0 1 3 1 3\" fill=\"#fff\"/><path d=\"M9.5 25.5a.5.5 0 1 1-1 0 .5.5 0 1 1 1 0zM14.933 15.75a.5 1.5 30 1 1-.866-.5.5 1.5 30 1 1 .866.5z\" fill=\"#000\"/></g><g class=\"white queen\" fill=\"#fff\" fill-rule=\"evenodd\" id=\"white-queen\" stroke=\"#000\" stroke-linecap=\"round\" stroke-linejoin=\"round\" stroke-width=\"1.5\"><path d=\"M8 12a2 2 0 1 1-4 0 2 2 0 1 1 4 0zM24.5 7.5a2 2 0 1 1-4 0 2 2 0 1 1 4 0zM41 12a2 2 0 1 1-4 0 2 2 0 1 1 4 0zM16 8.5a2 2 0 1 1-4 0 2 2 0 1 1 4 0zM33 9a2 2 0 1 1-4 0 2 2 0 1 1 4 0z\"/><path d=\"M9 26c8.5-1.5 21-1.5 27 0l2-12-7 11V11l-5.5 13.5-3-15-3 15-5.5-14V25L7 14l2 12zM9 26c0 2 1.5 2 2.5 4 1 1.5 1 1 .5 3.5-1.5 1-1.5 2.5-1.5 2.5-1.5 1.5.5 2.5.5 2.5 6.5 1 16.5 1 23 0 0 0 1.5-1 0-2.5 0 0 .5-1.5-1-2.5-.5-2.5-.5-2 .5-3.5 1-2 2.5-2 2.5-4-8.5-1.5-18.5-1.5-27 0z\" stroke-linecap=\"butt\"/><path d=\"M11.5 30c3.5-1 18.5-1 22 0M12 33.5c6-1 15-1 21 0\" fill=\"none\"/></g><g class=\"white pawn\" id=\"white-pawn\"><path d=\"M22 9c-2.21 0-4 1.79-4 4 0 .89.29 1.71.78 2.38-1.95 1.12-3.28 3.21-3.28 5.62 0 2.03.94 3.84 2.41 5.03-3 1.06-7.41 5.55-7.41 13.47h23c0-7.92-4.41-12.41-7.41-13.47 1.47-1.19 2.41-3 2.41-5.03 0-2.41-1.33-4.5-3.28-5.62.49-.67.78-1.49.78-2.38 0-2.21-1.79-4-4-4z\" fill=\"#fff\" stroke=\"#000\" stroke-linecap=\"round\" stroke-width=\"1.5\"/></g><g class=\"white rook\" fill=\"#fff\" fill-rule=\"evenodd\" id=\"white-rook\" stroke=\"#000\" stroke-linecap=\"round\" stroke-linejoin=\"round\" stroke-width=\"1.5\"><path d=\"M9 39h27v-3H9v3zM12 36v-4h21v4H12zM11 14V9h4v2h5V9h5v2h5V9h4v5\" stroke-linecap=\"butt\"/><path d=\"M34 14l-3 3H14l-3-3\"/><path d=\"M31 17v12.5H14V17\" stroke-linecap=\"butt\" stroke-linejoin=\"miter\"/><path d=\"M31 29.5l1.5 2.5h-20l1.5-2.5\"/><path d=\"M11 14h23\" fill=\"none\" stroke-linejoin=\"miter\"/></g><g class=\"black bishop\" fill=\"none\" fill-rule=\"evenodd\" id=\"black-bishop\" stroke=\"#000\" stroke-linecap=\"round\" stroke-linejoin=\"round\" stroke-width=\"1.5\"><path d=\"M9 36c3.39-.97 10.11.43 13.5-2 3.39 2.43 10.11 1.03 13.5 2 0 0 1.65.54 3 2-.68.97-1.65.99-3 .5-3.39-.97-10.11.46-13.5-1-3.39 1.46-10.11.03-13.5 1-1.354.49-2.323.47-3-.5 1.354-1.94 3-2 3-2zm6-4c2.5 2.5 12.5 2.5 15 0 .5-1.5 0-2 0-2 0-2.5-2.5-4-2.5-4 5.5-1.5 6-11.5-5-15.5-11 4-10.5 14-5 15.5 0 0-2.5 1.5-2.5 4 0 0-.5.5 0 2zM25 8a2.5 2.5 0 1 1-5 0 2.5 2.5 0 1 1 5 0z\" fill=\"#000\" stroke-linecap=\"butt\"/><path d=\"M17.5 26h10M15 30h15m-7.5-14.5v5M20 18h5\" stroke=\"#fff\" stroke-linejoin=\"miter\"/></g><g class=\"black king\" fill=\"none\" fill-rule=\"evenodd\" id=\"black-king\" stroke=\"#000\" stroke-linecap=\"round\" stroke-linejoin=\"round\" stroke-width=\"1.5\"><path d=\"M22.5 11.63V6\" stroke-linejoin=\"miter\"/><path d=\"M22.5 25s4.5-7.5 3-10.5c0 0-1-2.5-3-2.5s-3 2.5-3 2.5c-1.5 3 3 10.5 3 10.5\" fill=\"#000\" stroke-linecap=\"butt\" stroke-linejoin=\"miter\"/><path d=\"M11.5 37c5.5 3.5 15.5 3.5 21 0v-7s9-4.5 6-10.5c-4-6.5-13.5-3.5-16 4V27v-3.5c-3.5-7.5-13-10.5-16-4-3 6 5 10 5 10V37z\" fill=\"#000\"/><path d=\"M20 8h5\" stroke-linejoin=\"miter\"/><path d=\"M32 29.5s8.5-4 6.03-9.65C34.15 14 25 18 22.5 24.5l.01 2.1-.01-2.1C20 18 9.906 14 6.997 19.85c-2.497 5.65 4.853 9 4.853 9M11.5 30c5.5-3 15.5-3 21 0m-21 3.5c5.5-3 15.5-3 21 0m-21 3.5c5.5-3 15.5-3 21 0\" stroke=\"#fff\"/></g><g class=\"black knight\" fill=\"none\" fill-rule=\"evenodd\" id=\"black-knight\" stroke=\"#000\" stroke-linecap=\"round\" stroke-linejoin=\"round\" stroke-width=\"1.5\"><path d=\"M22 10c10.5 1 16.5 8 16 29H15c0-9 10-6.5 8-21M24 18c.38 2.91-5.55 7.37-8 9-3 2-2.82 4.34-5 4-1.042-.94 1.41-3.04 0-3-1 0 .19 1.23-1 2-1 0-4.003 1-4-4 0-2 6-12 6-12s1.89-1.9 2-3.5c-.73-.994-.5-2-.5-3 1-1 3 2.5 3 2.5h2s.78-1.992 2.5-3c1 0 1 3 1 3\" fill=\"#000\"/><path d=\"M9.5 25.5a.5.5 0 1 1-1 0 .5.5 0 1 1 1 0zM14.933 15.75a.5 1.5 30 1 1-.866-.5.5 1.5 30 1 1 .866.5z\" fill=\"#fff\" stroke=\"#fff\"/><path d=\"M24.55 10.4l-.45 1.45.5.15c3.15 1 5.65 2.49 7.9 6.75S35.75 29.06 35.25 39l-.05.5h2.25l.05-.5c.5-10.06-.88-16.85-3.25-21.34-2.37-4.49-5.79-6.64-9.19-7.16l-.51-.1z\" fill=\"#fff\" stroke=\"none\"/></g><g class=\"black-queen\" fill=\"0\" fill-rule=\"evenodd\" id=\"black-queen\" stroke=\"#000\" stroke-linecap=\"round\" stroke-linejoin=\"round\" stroke-width=\"1.5\"><g fill=\"#000\" stroke=\"none\"><circle cx=\"6\" cy=\"12\" r=\"2.75\"/><circle cx=\"14\" cy=\"9\" r=\"2.75\"/><circle cx=\"22.5\" cy=\"8\" r=\"2.75\"/><circle cx=\"31\" cy=\"9\" r=\"2.75\"/><circle cx=\"39\" cy=\"12\" r=\"2.75\"/></g><path d=\"M9 26c8.5-1.5 21-1.5 27 0l2.5-12.5L31 25l-.3-14.1-5.2 13.6-3-14.5-3 14.5-5.2-13.6L14 25 6.5 13.5 9 26zM9 26c0 2 1.5 2 2.5 4 1 1.5 1 1 .5 3.5-1.5 1-1.5 2.5-1.5 2.5-1.5 1.5.5 2.5.5 2.5 6.5 1 16.5 1 23 0 0 0 1.5-1 0-2.5 0 0 .5-1.5-1-2.5-.5-2.5-.5-2 .5-3.5 1-2 2.5-2 2.5-4-8.5-1.5-18.5-1.5-27 0z\" stroke-linecap=\"butt\"/><path d=\"M11 38.5a35 35 1 0 0 23 0\" fill=\"none\" stroke-linecap=\"butt\"/><path d=\"M11 29a35 35 1 0 1 23 0M12.5 31.5h20M11.5 34.5a35 35 1 0 0 22 0M10.5 37.5a35 35 1 0 0 24 0\" fill=\"none\" stroke=\"#fff\"/></g><g class=\"black pawn\" id=\"black-pawn\"><path d=\"M22 9c-2.21 0-4 1.79-4 4 0 .89.29 1.71.78 2.38-1.95 1.12-3.28 3.21-3.28 5.62 0 2.03.94 3.84 2.41 5.03-3 1.06-7.41 5.55-7.41 13.47h23c0-7.92-4.41-12.41-7.41-13.47 1.47-1.19 2.41-3 2.41-5.03 0-2.41-1.33-4.5-3.28-5.62.49-.67.78-1.49.78-2.38 0-2.21-1.79-4-4-4z\" stroke=\"#000\" stroke-linecap=\"round\" stroke-width=\"1.5\"/></g><g class=\"black rook\" fill=\"0\" fill-rule=\"evenodd\" id=\"black-rook\" stroke=\"#000\" stroke-linecap=\"round\" stroke-linejoin=\"round\" stroke-width=\"1.5\"><path d=\"M9 39h27v-3H9v3zM12.5 32l1.5-2.5h17l1.5 2.5h-20zM12 36v-4h21v4H12z\" stroke-linecap=\"butt\"/><path d=\"M14 29.5v-13h17v13H14z\" stroke-linecap=\"butt\" stroke-linejoin=\"miter\"/><path d=\"M14 16.5L11 14h23l-3 2.5H14zM11 14V9h4v2h5V9h5v2h5V9h4v5H11z\" stroke-linecap=\"butt\"/><path d=\"M12 35.5h21M13 31.5h19M14 29.5h17M14 16.5h17M11 14h23\" fill=\"none\" stroke=\"#fff\" stroke-linejoin=\"miter\" stroke-width=\"1\"/></g></defs><rect class=\"square dark a1\" height=\"45.000000\" style=\"stroke: none;\" width=\"45.000000\" x=\"20.000000\" y=\"335.000000\"/><rect class=\"square light b1\" height=\"45.000000\" style=\"stroke: none;\" width=\"45.000000\" x=\"65.000000\" y=\"335.000000\"/><rect class=\"square dark c1\" height=\"45.000000\" style=\"stroke: none;\" width=\"45.000000\" x=\"110.000000\" y=\"335.000000\"/><use transform=\"translate(110.000000, 335.000000) scale(1.000000 1.000000)\" xlink:href=\"#white-king\"/><rect class=\"square light d1\" height=\"45.000000\" style=\"stroke: none;\" width=\"45.000000\" x=\"155.000000\" y=\"335.000000\"/><rect class=\"square dark e1\" height=\"45.000000\" style=\"stroke: none;\" width=\"45.000000\" x=\"200.000000\" y=\"335.000000\"/><rect class=\"square light f1\" height=\"45.000000\" style=\"stroke: none;\" width=\"45.000000\" x=\"245.000000\" y=\"335.000000\"/><rect class=\"square dark g1\" height=\"45.000000\" style=\"stroke: none;\" width=\"45.000000\" x=\"290.000000\" y=\"335.000000\"/><rect class=\"square light h1\" height=\"45.000000\" style=\"stroke: none;\" width=\"45.000000\" x=\"335.000000\" y=\"335.000000\"/><rect class=\"square light a2\" height=\"45.000000\" style=\"stroke: none;\" width=\"45.000000\" x=\"20.000000\" y=\"290.000000\"/><use transform=\"translate(20.000000, 290.000000) scale(1.000000 1.000000)\" xlink:href=\"#white-pawn\"/><rect class=\"square dark b2\" height=\"45.000000\" style=\"stroke: none;\" width=\"45.000000\" x=\"65.000000\" y=\"290.000000\"/><use transform=\"translate(65.000000, 290.000000) scale(1.000000 1.000000)\" xlink:href=\"#white-pawn\"/><rect class=\"square light c2\" height=\"45.000000\" style=\"stroke: none;\" width=\"45.000000\" x=\"110.000000\" y=\"290.000000\"/><use transform=\"translate(110.000000, 290.000000) scale(1.000000 1.000000)\" xlink:href=\"#white-pawn\"/><rect class=\"square dark d2\" height=\"45.000000\" style=\"stroke: none;\" width=\"45.000000\" x=\"155.000000\" y=\"290.000000\"/><rect class=\"square light e2\" height=\"45.000000\" style=\"stroke: none;\" width=\"45.000000\" x=\"200.000000\" y=\"290.000000\"/><rect class=\"square dark f2\" height=\"45.000000\" style=\"stroke: none;\" width=\"45.000000\" x=\"245.000000\" y=\"290.000000\"/><use transform=\"translate(245.000000, 290.000000) scale(1.000000 1.000000)\" xlink:href=\"#white-bishop\"/><rect class=\"square light g2\" height=\"45.000000\" style=\"stroke: none;\" width=\"45.000000\" x=\"290.000000\" y=\"290.000000\"/><rect class=\"square dark h2\" height=\"45.000000\" style=\"stroke: none;\" width=\"45.000000\" x=\"335.000000\" y=\"290.000000\"/><rect class=\"square dark a3\" height=\"45.000000\" style=\"stroke: none;\" width=\"45.000000\" x=\"20.000000\" y=\"245.000000\"/><rect class=\"square light b3\" height=\"45.000000\" style=\"stroke: none;\" width=\"45.000000\" x=\"65.000000\" y=\"245.000000\"/><rect class=\"square dark c3\" height=\"45.000000\" style=\"stroke: none;\" width=\"45.000000\" x=\"110.000000\" y=\"245.000000\"/><rect class=\"square light d3\" height=\"45.000000\" style=\"stroke: none;\" width=\"45.000000\" x=\"155.000000\" y=\"245.000000\"/><rect class=\"square dark e3\" height=\"45.000000\" style=\"stroke: none;\" width=\"45.000000\" x=\"200.000000\" y=\"245.000000\"/><use transform=\"translate(200.000000, 245.000000) scale(1.000000 1.000000)\" xlink:href=\"#white-queen\"/><rect class=\"square light f3\" height=\"45.000000\" style=\"stroke: none;\" width=\"45.000000\" x=\"245.000000\" y=\"245.000000\"/><rect class=\"square dark g3\" height=\"45.000000\" style=\"stroke: none;\" width=\"45.000000\" x=\"290.000000\" y=\"245.000000\"/><rect class=\"square light h3\" height=\"45.000000\" style=\"stroke: none;\" width=\"45.000000\" x=\"335.000000\" y=\"245.000000\"/><rect class=\"square light a4\" height=\"45.000000\" style=\"stroke: none;\" width=\"45.000000\" x=\"20.000000\" y=\"200.000000\"/><rect class=\"square dark b4\" height=\"45.000000\" style=\"stroke: none;\" width=\"45.000000\" x=\"65.000000\" y=\"200.000000\"/><rect class=\"square light c4\" height=\"45.000000\" style=\"stroke: none;\" width=\"45.000000\" x=\"110.000000\" y=\"200.000000\"/><use transform=\"translate(110.000000, 200.000000) scale(1.000000 1.000000)\" xlink:href=\"#white-bishop\"/><rect class=\"square dark d4\" height=\"45.000000\" style=\"stroke: none;\" width=\"45.000000\" x=\"155.000000\" y=\"200.000000\"/><rect class=\"square light e4\" height=\"45.000000\" style=\"stroke: none;\" width=\"45.000000\" x=\"200.000000\" y=\"200.000000\"/><rect class=\"square dark f4\" height=\"45.000000\" style=\"stroke: none;\" width=\"45.000000\" x=\"245.000000\" y=\"200.000000\"/><rect class=\"square light g4\" height=\"45.000000\" style=\"stroke: none;\" width=\"45.000000\" x=\"290.000000\" y=\"200.000000\"/><rect class=\"square dark h4\" height=\"45.000000\" style=\"stroke: none;\" width=\"45.000000\" x=\"335.000000\" y=\"200.000000\"/><rect class=\"square dark a5\" height=\"45.000000\" style=\"stroke: none;\" width=\"45.000000\" x=\"20.000000\" y=\"155.000000\"/><rect class=\"square light b5\" height=\"45.000000\" style=\"stroke: none;\" width=\"45.000000\" x=\"65.000000\" y=\"155.000000\"/><rect class=\"square dark c5\" height=\"45.000000\" style=\"stroke: none;\" width=\"45.000000\" x=\"110.000000\" y=\"155.000000\"/><rect class=\"square light d5\" height=\"45.000000\" style=\"stroke: none;\" width=\"45.000000\" x=\"155.000000\" y=\"155.000000\"/><rect class=\"square dark e5\" height=\"45.000000\" style=\"stroke: none;\" width=\"45.000000\" x=\"200.000000\" y=\"155.000000\"/><use transform=\"translate(200.000000, 155.000000) scale(1.000000 1.000000)\" xlink:href=\"#black-pawn\"/><rect class=\"square light f5\" height=\"45.000000\" style=\"stroke: none;\" width=\"45.000000\" x=\"245.000000\" y=\"155.000000\"/><rect class=\"square dark g5\" height=\"45.000000\" style=\"stroke: none;\" width=\"45.000000\" x=\"290.000000\" y=\"155.000000\"/><rect class=\"square light h5\" height=\"45.000000\" style=\"stroke: none;\" width=\"45.000000\" x=\"335.000000\" y=\"155.000000\"/><rect class=\"square light a6\" height=\"45.000000\" style=\"stroke: none;\" width=\"45.000000\" x=\"20.000000\" y=\"110.000000\"/><rect class=\"square dark b6\" height=\"45.000000\" style=\"stroke: none;\" width=\"45.000000\" x=\"65.000000\" y=\"110.000000\"/><rect class=\"square light c6\" height=\"45.000000\" style=\"stroke: none;\" width=\"45.000000\" x=\"110.000000\" y=\"110.000000\"/><rect class=\"square dark d6\" height=\"45.000000\" style=\"stroke: none;\" width=\"45.000000\" x=\"155.000000\" y=\"110.000000\"/><use transform=\"translate(155.000000, 110.000000) scale(1.000000 1.000000)\" xlink:href=\"#black-queen\"/><rect class=\"square light e6\" height=\"45.000000\" style=\"stroke: none;\" width=\"45.000000\" x=\"200.000000\" y=\"110.000000\"/><rect class=\"square dark f6\" height=\"45.000000\" style=\"stroke: none;\" width=\"45.000000\" x=\"245.000000\" y=\"110.000000\"/><rect class=\"square light g6\" height=\"45.000000\" style=\"stroke: none;\" width=\"45.000000\" x=\"290.000000\" y=\"110.000000\"/><use transform=\"translate(290.000000, 110.000000) scale(1.000000 1.000000)\" xlink:href=\"#black-pawn\"/><rect class=\"square dark h6\" height=\"45.000000\" style=\"stroke: none;\" width=\"45.000000\" x=\"335.000000\" y=\"110.000000\"/><use transform=\"translate(335.000000, 110.000000) scale(1.000000 1.000000)\" xlink:href=\"#black-pawn\"/><rect class=\"square dark a7\" height=\"45.000000\" style=\"stroke: none;\" width=\"45.000000\" x=\"20.000000\" y=\"65.000000\"/><use transform=\"translate(20.000000, 65.000000) scale(1.000000 1.000000)\" xlink:href=\"#black-pawn\"/><rect class=\"square light b7\" height=\"45.000000\" style=\"stroke: none;\" width=\"45.000000\" x=\"65.000000\" y=\"65.000000\"/><use transform=\"translate(65.000000, 65.000000) scale(1.000000 1.000000)\" xlink:href=\"#black-pawn\"/><rect class=\"square dark c7\" height=\"45.000000\" style=\"stroke: none;\" width=\"45.000000\" x=\"110.000000\" y=\"65.000000\"/><rect class=\"square light d7\" height=\"45.000000\" style=\"stroke: none;\" width=\"45.000000\" x=\"155.000000\" y=\"65.000000\"/><use transform=\"translate(155.000000, 65.000000) scale(1.000000 1.000000)\" xlink:href=\"#black-bishop\"/><rect class=\"square dark e7\" height=\"45.000000\" style=\"stroke: none;\" width=\"45.000000\" x=\"200.000000\" y=\"65.000000\"/><rect class=\"square light f7\" height=\"45.000000\" style=\"stroke: none;\" width=\"45.000000\" x=\"245.000000\" y=\"65.000000\"/><use transform=\"translate(245.000000, 65.000000) scale(1.000000 1.000000)\" xlink:href=\"#white-rook\"/><rect class=\"square dark g7\" height=\"45.000000\" style=\"stroke: none;\" width=\"45.000000\" x=\"290.000000\" y=\"65.000000\"/><rect class=\"square light h7\" height=\"45.000000\" style=\"stroke: none;\" width=\"45.000000\" x=\"335.000000\" y=\"65.000000\"/><rect class=\"square light a8\" height=\"45.000000\" style=\"stroke: none;\" width=\"45.000000\" x=\"20.000000\" y=\"20.000000\"/><rect class=\"square dark b8\" height=\"45.000000\" style=\"stroke: none;\" width=\"45.000000\" x=\"65.000000\" y=\"20.000000\"/><use transform=\"translate(65.000000, 20.000000) scale(1.000000 1.000000)\" xlink:href=\"#black-king\"/><rect class=\"square light c8\" height=\"45.000000\" style=\"stroke: none;\" width=\"45.000000\" x=\"110.000000\" y=\"20.000000\"/><rect class=\"square dark d8\" height=\"45.000000\" style=\"stroke: none;\" width=\"45.000000\" x=\"155.000000\" y=\"20.000000\"/><use transform=\"translate(155.000000, 20.000000) scale(1.000000 1.000000)\" xlink:href=\"#black-rook\"/><rect class=\"square light e8\" height=\"45.000000\" style=\"stroke: none;\" width=\"45.000000\" x=\"200.000000\" y=\"20.000000\"/><rect class=\"square dark f8\" height=\"45.000000\" style=\"stroke: none;\" width=\"45.000000\" x=\"245.000000\" y=\"20.000000\"/><rect class=\"square light g8\" height=\"45.000000\" style=\"stroke: none;\" width=\"45.000000\" x=\"290.000000\" y=\"20.000000\"/><rect class=\"square dark h8\" height=\"45.000000\" style=\"stroke: none;\" width=\"45.000000\" x=\"335.000000\" y=\"20.000000\"/><text alignment-baseline=\"middle\" font-size=\"14\" text-anchor=\"middle\" x=\"42\" y=\"10\">a</text><text alignment-baseline=\"middle\" font-size=\"14\" text-anchor=\"middle\" x=\"42\" y=\"390\">a</text><text alignment-baseline=\"middle\" font-size=\"14\" text-anchor=\"middle\" x=\"87\" y=\"10\">b</text><text alignment-baseline=\"middle\" font-size=\"14\" text-anchor=\"middle\" x=\"87\" y=\"390\">b</text><text alignment-baseline=\"middle\" font-size=\"14\" text-anchor=\"middle\" x=\"132\" y=\"10\">c</text><text alignment-baseline=\"middle\" font-size=\"14\" text-anchor=\"middle\" x=\"132\" y=\"390\">c</text><text alignment-baseline=\"middle\" font-size=\"14\" text-anchor=\"middle\" x=\"177\" y=\"10\">d</text><text alignment-baseline=\"middle\" font-size=\"14\" text-anchor=\"middle\" x=\"177\" y=\"390\">d</text><text alignment-baseline=\"middle\" font-size=\"14\" text-anchor=\"middle\" x=\"222\" y=\"10\">e</text><text alignment-baseline=\"middle\" font-size=\"14\" text-anchor=\"middle\" x=\"222\" y=\"390\">e</text><text alignment-baseline=\"middle\" font-size=\"14\" text-anchor=\"middle\" x=\"267\" y=\"10\">f</text><text alignment-baseline=\"middle\" font-size=\"14\" text-anchor=\"middle\" x=\"267\" y=\"390\">f</text><text alignment-baseline=\"middle\" font-size=\"14\" text-anchor=\"middle\" x=\"312\" y=\"10\">g</text><text alignment-baseline=\"middle\" font-size=\"14\" text-anchor=\"middle\" x=\"312\" y=\"390\">g</text><text alignment-baseline=\"middle\" font-size=\"14\" text-anchor=\"middle\" x=\"357\" y=\"10\">h</text><text alignment-baseline=\"middle\" font-size=\"14\" text-anchor=\"middle\" x=\"357\" y=\"390\">h</text><text alignment-baseline=\"middle\" font-size=\"14\" text-anchor=\"middle\" x=\"10\" y=\"357\">1</text><text alignment-baseline=\"middle\" font-size=\"14\" text-anchor=\"middle\" x=\"390\" y=\"357\">1</text><text alignment-baseline=\"middle\" font-size=\"14\" text-anchor=\"middle\" x=\"10\" y=\"312\">2</text><text alignment-baseline=\"middle\" font-size=\"14\" text-anchor=\"middle\" x=\"390\" y=\"312\">2</text><text alignment-baseline=\"middle\" font-size=\"14\" text-anchor=\"middle\" x=\"10\" y=\"267\">3</text><text alignment-baseline=\"middle\" font-size=\"14\" text-anchor=\"middle\" x=\"390\" y=\"267\">3</text><text alignment-baseline=\"middle\" font-size=\"14\" text-anchor=\"middle\" x=\"10\" y=\"222\">4</text><text alignment-baseline=\"middle\" font-size=\"14\" text-anchor=\"middle\" x=\"390\" y=\"222\">4</text><text alignment-baseline=\"middle\" font-size=\"14\" text-anchor=\"middle\" x=\"10\" y=\"177\">5</text><text alignment-baseline=\"middle\" font-size=\"14\" text-anchor=\"middle\" x=\"390\" y=\"177\">5</text><text alignment-baseline=\"middle\" font-size=\"14\" text-anchor=\"middle\" x=\"10\" y=\"132\">6</text><text alignment-baseline=\"middle\" font-size=\"14\" text-anchor=\"middle\" x=\"390\" y=\"132\">6</text><text alignment-baseline=\"middle\" font-size=\"14\" text-anchor=\"middle\" x=\"10\" y=\"87\">7</text><text alignment-baseline=\"middle\" font-size=\"14\" text-anchor=\"middle\" x=\"390\" y=\"87\">7</text><text alignment-baseline=\"middle\" font-size=\"14\" text-anchor=\"middle\" x=\"10\" y=\"42\">8</text><text alignment-baseline=\"middle\" font-size=\"14\" text-anchor=\"middle\" x=\"390\" y=\"42\">8</text></svg>"
      ],
      "text/plain": [
       "<IPython.core.display.SVG object>"
      ]
     },
     "execution_count": 14,
     "metadata": {},
     "output_type": "execute_result"
    }
   ],
   "source": [
    "import chess.svg\n",
    "SVG(chess.svg.board(board=board))"
   ]
  },
  {
   "cell_type": "markdown",
   "metadata": {},
   "source": [
    "have to be in the right directory to import chess library for pgn."
   ]
  },
  {
   "cell_type": "code",
   "execution_count": 29,
   "metadata": {
    "collapsed": false
   },
   "outputs": [
    {
     "name": "stdout",
     "output_type": "stream",
     "text": [
      "/Users/eduardodaroza/intro_dsi/python-chess\n"
     ]
    }
   ],
   "source": [
    "cd /Users/eduardodaroza/intro_dsi/python-chess"
   ]
  },
  {
   "cell_type": "code",
   "execution_count": 30,
   "metadata": {
    "collapsed": true
   },
   "outputs": [],
   "source": [
    "import chess.pgn"
   ]
  },
  {
   "cell_type": "code",
   "execution_count": 34,
   "metadata": {
    "collapsed": true
   },
   "outputs": [],
   "source": [
    "pgn = open(\"/Users/eduardodaroza/intro_dsi/capstone/Capstone/games/twic1148.pgn\")\n",
    "first_game = chess.pgn.read_game(pgn)"
   ]
  },
  {
   "cell_type": "code",
   "execution_count": 38,
   "metadata": {
    "collapsed": false
   },
   "outputs": [
    {
     "data": {
      "text/plain": [
       "OrderedDict([('Event', '32nd ECC Open 2016'),\n",
       "             ('Site', 'Novi Sad SRB'),\n",
       "             ('Date', '2016.11.06'),\n",
       "             ('Round', '1.1'),\n",
       "             ('White', 'Getz,N'),\n",
       "             ('Black', 'Grischuk,A'),\n",
       "             ('Result', '1/2-1/2'),\n",
       "             ('WhiteTitle', 'IM'),\n",
       "             ('BlackTitle', 'GM'),\n",
       "             ('WhiteElo', '2434'),\n",
       "             ('BlackElo', '2751'),\n",
       "             ('ECO', 'B90'),\n",
       "             ('Opening', 'Sicilian'),\n",
       "             ('Variation', 'Najdorf, Adams attack'),\n",
       "             ('WhiteTeam', 'Oslo Schakselskap'),\n",
       "             ('BlackTeam', 'Syberia'),\n",
       "             ('WhiteFideId', '1505572'),\n",
       "             ('BlackFideId', '4126025'),\n",
       "             ('EventDate', '2016.11.06')])"
      ]
     },
     "execution_count": 38,
     "metadata": {},
     "output_type": "execute_result"
    }
   ],
   "source": [
    "first_game.headers"
   ]
  },
  {
   "cell_type": "code",
   "execution_count": 37,
   "metadata": {
    "collapsed": false
   },
   "outputs": [
    {
     "name": "stdout",
     "output_type": "stream",
     "text": [
      "OrderN.ipynb    Untitled.ipynb  twic1148.json\r\n",
      "Tweety.ipynb    example.pgn     \u001b[31mtwic1148.pgn\u001b[m\u001b[m*\r\n"
     ]
    }
   ],
   "source": [
    "ls /Users/eduardodaroza/intro_dsi/capstone/Capstone/games/"
   ]
  },
  {
   "cell_type": "code",
   "execution_count": null,
   "metadata": {
    "collapsed": true
   },
   "outputs": [],
   "source": [
    "#first 2 moves of every single row with win percentage for those moves"
   ]
  }
 ],
 "metadata": {
  "anaconda-cloud": {},
  "kernelspec": {
   "display_name": "Python [Root]",
   "language": "python",
   "name": "Python [Root]"
  },
  "language_info": {
   "codemirror_mode": {
    "name": "ipython",
    "version": 2
   },
   "file_extension": ".py",
   "mimetype": "text/x-python",
   "name": "python",
   "nbconvert_exporter": "python",
   "pygments_lexer": "ipython2",
   "version": "2.7.12"
  }
 },
 "nbformat": 4,
 "nbformat_minor": 0
}
