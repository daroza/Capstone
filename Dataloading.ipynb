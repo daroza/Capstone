{
 "cells": [
  {
   "cell_type": "code",
   "execution_count": 1,
   "metadata": {
    "collapsed": false
   },
   "outputs": [
    {
     "name": "stdout",
     "output_type": "stream",
     "text": [
      "/Users/eduardodaroza/Downloads\n"
     ]
    }
   ],
   "source": [
    "cd /Users/eduardodaroza/Downloads/"
   ]
  },
  {
   "cell_type": "code",
   "execution_count": 12,
   "metadata": {
    "collapsed": false
   },
   "outputs": [
    {
     "name": "stdout",
     "output_type": "stream",
     "text": [
      "/Users/eduardodaroza/Downloads/KingBase2016-03-pgn\n"
     ]
    }
   ],
   "source": [
    "cd KingBase2016-03-pgn"
   ]
  },
  {
   "cell_type": "code",
   "execution_count": 13,
   "metadata": {
    "collapsed": false
   },
   "outputs": [
    {
     "name": "stdout",
     "output_type": "stream",
     "text": [
      "-rwxr-xr-x@ 1 eduardodaroza  staff  155592274 Mar 10  2016 \u001b[31mKingBase2016-03-A00-A39.pgn\u001b[m\u001b[m\r\n",
      "-rwxr-xr-x@ 1 eduardodaroza  staff   24969031 Mar 10  2016 \u001b[31mKingBase2016-03-A80-A99.pgn\u001b[m\u001b[m\r\n",
      "-rwxr-xr-x@ 1 eduardodaroza  staff  127341376 Mar 10  2016 \u001b[31mKingBase2016-03-B00-B19.pgn\u001b[m\u001b[m\r\n",
      "-rwxr-xr-x@ 1 eduardodaroza  staff  169095748 Mar 10  2016 \u001b[31mKingBase2016-03-B20-B49.pgn\u001b[m\u001b[m\r\n",
      "-rwxr-xr-x@ 1 eduardodaroza  staff  115872996 Mar 10  2016 \u001b[31mKingBase2016-03-B50-B99.pgn\u001b[m\u001b[m\r\n",
      "-rwxr-xr-x@ 1 eduardodaroza  staff   80220023 Mar 10  2016 \u001b[31mKingBase2016-03-C00-C19.pgn\u001b[m\u001b[m\r\n",
      "-rwxr-xr-x@ 1 eduardodaroza  staff   67571902 Mar 10  2016 \u001b[31mKingBase2016-03-C20-C59.pgn\u001b[m\u001b[m\r\n",
      "-rwxr-xr-x@ 1 eduardodaroza  staff   57325626 Mar 10  2016 \u001b[31mKingBase2016-03-C60-C99.pgn\u001b[m\u001b[m\r\n",
      "-rwxr-xr-x@ 1 eduardodaroza  staff   93791034 Mar 10  2016 \u001b[31mKingBase2016-03-D00-D29.pgn\u001b[m\u001b[m\r\n",
      "-rwxr-xr-x@ 1 eduardodaroza  staff   83787530 Mar 10  2016 \u001b[31mKingBase2016-03-D30-D69.pgn\u001b[m\u001b[m\r\n",
      "-rwxr-xr-x@ 1 eduardodaroza  staff   34098033 Mar 10  2016 \u001b[31mKingBase2016-03-D70-D99.pgn\u001b[m\u001b[m\r\n",
      "-rwxr-xr-x@ 1 eduardodaroza  staff   60778883 Mar 10  2016 \u001b[31mKingBase2016-03-E00-E19.pgn\u001b[m\u001b[m\r\n",
      "-rwxr-xr-x@ 1 eduardodaroza  staff   37225183 Mar 10  2016 \u001b[31mKingBase2016-03-E20-E59.pgn\u001b[m\u001b[m\r\n",
      "-rwxr-xr-x@ 1 eduardodaroza  staff   81730318 Mar 10  2016 \u001b[31mKingBase2016-03-E60-E99.pgn\u001b[m\u001b[m\r\n",
      "-rwxr-xr-x@ 1 eduardodaroza  staff  107194371 Mar 10  2016 \u001b[31mKingBase2016-03-A40-A79.pgn\u001b[m\u001b[m\r\n"
     ]
    }
   ],
   "source": [
    "!ls -latr KingBase2016*"
   ]
  },
  {
   "cell_type": "code",
   "execution_count": 15,
   "metadata": {
    "collapsed": false
   },
   "outputs": [],
   "source": [
    "filenames = [\n",
    "'KingBase2016-03-A00-A39.pgn', 'KingBase2016-03-C60-C99.pgn',\n",
    "'KingBase2016-03-A40-A79.pgn', 'KingBase2016-03-D00-D29.pgn',\n",
    "'KingBase2016-03-A80-A99.pgn', 'KingBase2016-03-D30-D69.pgn',\n",
    "'KingBase2016-03-B00-B19.pgn', 'KingBase2016-03-D70-D99.pgn',\n",
    "'KingBase2016-03-B20-B49.pgn', 'KingBase2016-03-E00-E19.pgn',\n",
    "'KingBase2016-03-B50-B99.pgn', 'KingBase2016-03-E20-E59.pgn',\n",
    "'KingBase2016-03-C00-C19.pgn', 'KingBase2016-03-E60-E99.pgn',\n",
    "'KingBase2016-03-C20-C59.pgn']\n",
    "with open('/Users/eduardodaroza/Downloads/KingBase2016-03-pgn/combined.pgn', 'w') as outfile:\n",
    "    for fname in filenames:\n",
    "        with open(fname) as infile:\n",
    "            for line in infile:\n",
    "                outfile.write(line)"
   ]
  },
  {
   "cell_type": "code",
   "execution_count": 17,
   "metadata": {
    "collapsed": false
   },
   "outputs": [
    {
     "name": "stdout",
     "output_type": "stream",
     "text": [
      "total 5064912\r\n",
      "-rwxr-xr-x@   1 eduardodaroza  staff   155592274 Mar 10  2016 \u001b[31mKingBase2016-03-A00-A39.pgn\u001b[m\u001b[m\r\n",
      "-rwxr-xr-x@   1 eduardodaroza  staff    24969031 Mar 10  2016 \u001b[31mKingBase2016-03-A80-A99.pgn\u001b[m\u001b[m\r\n",
      "-rwxr-xr-x@   1 eduardodaroza  staff   127341376 Mar 10  2016 \u001b[31mKingBase2016-03-B00-B19.pgn\u001b[m\u001b[m\r\n",
      "-rwxr-xr-x@   1 eduardodaroza  staff   169095748 Mar 10  2016 \u001b[31mKingBase2016-03-B20-B49.pgn\u001b[m\u001b[m\r\n",
      "-rwxr-xr-x@   1 eduardodaroza  staff   115872996 Mar 10  2016 \u001b[31mKingBase2016-03-B50-B99.pgn\u001b[m\u001b[m\r\n",
      "-rwxr-xr-x@   1 eduardodaroza  staff    80220023 Mar 10  2016 \u001b[31mKingBase2016-03-C00-C19.pgn\u001b[m\u001b[m\r\n",
      "-rwxr-xr-x@   1 eduardodaroza  staff    67571902 Mar 10  2016 \u001b[31mKingBase2016-03-C20-C59.pgn\u001b[m\u001b[m\r\n",
      "-rwxr-xr-x@   1 eduardodaroza  staff    57325626 Mar 10  2016 \u001b[31mKingBase2016-03-C60-C99.pgn\u001b[m\u001b[m\r\n",
      "-rwxr-xr-x@   1 eduardodaroza  staff    93791034 Mar 10  2016 \u001b[31mKingBase2016-03-D00-D29.pgn\u001b[m\u001b[m\r\n",
      "-rwxr-xr-x@   1 eduardodaroza  staff    83787530 Mar 10  2016 \u001b[31mKingBase2016-03-D30-D69.pgn\u001b[m\u001b[m\r\n",
      "-rwxr-xr-x@   1 eduardodaroza  staff    34098033 Mar 10  2016 \u001b[31mKingBase2016-03-D70-D99.pgn\u001b[m\u001b[m\r\n",
      "-rwxr-xr-x@   1 eduardodaroza  staff    60778883 Mar 10  2016 \u001b[31mKingBase2016-03-E00-E19.pgn\u001b[m\u001b[m\r\n",
      "-rwxr-xr-x@   1 eduardodaroza  staff    37225183 Mar 10  2016 \u001b[31mKingBase2016-03-E20-E59.pgn\u001b[m\u001b[m\r\n",
      "-rwxr-xr-x@   1 eduardodaroza  staff    81730318 Mar 10  2016 \u001b[31mKingBase2016-03-E60-E99.pgn\u001b[m\u001b[m\r\n",
      "-rwxr-xr-x@   1 eduardodaroza  staff   107194371 Mar 10  2016 \u001b[31mKingBase2016-03-A40-A79.pgn\u001b[m\u001b[m\r\n",
      "drwx------+ 163 eduardodaroza  staff        5542 Nov 14 16:25 \u001b[34m..\u001b[m\u001b[m\r\n",
      "-rw-r--r--@   1 eduardodaroza  staff        8196 Nov 14 16:33 .DS_Store\r\n",
      "drwx------@  19 eduardodaroza  staff         646 Nov 14 16:33 \u001b[34m.\u001b[m\u001b[m\r\n",
      "-rw-r--r--    1 eduardodaroza  staff  1296594328 Nov 14 16:36 combined.pgn\r\n"
     ]
    }
   ],
   "source": [
    "!ls -latr"
   ]
  },
  {
   "cell_type": "code",
   "execution_count": 11,
   "metadata": {
    "collapsed": false
   },
   "outputs": [
    {
     "data": {
      "text/plain": [
       "u'/Users/eduardodaroza/Downloads'"
      ]
     },
     "execution_count": 11,
     "metadata": {},
     "output_type": "execute_result"
    }
   ],
   "source": [
    "pwd"
   ]
  },
  {
   "cell_type": "markdown",
   "metadata": {},
   "source": [
    "import pandas as pd\n",
    "\n",
    "# read the entire file into a python array\n",
    "with open('/Users/eduardodaroza/Downloads/KingBase2016-03-pgn/KingBase2016-03-A00-A39.pgn', 'rb') as f:\n",
    "    data = f.readlines()\n",
    "\n",
    "# remove the trailing \"\\n\" from each line\n",
    "data = map(lambda x: x.rstrip(), data)\n",
    "\n",
    "# each element of 'data' is an individual JSON object.\n",
    "# i want to convert it into an *array* of JSON objects\n",
    "# which, in and of itself, is one large JSON object\n",
    "# basically... add square brackets to the beginning\n",
    "# and end, and have all the individual business JSON objects\n",
    "# separated by a comma\n",
    "data_json_str = \"[\" + ','.join(data) + \"]\"\n",
    "\n",
    "# now, load it into pandas\n",
    "data_df_raw = pd.read_json(data_json_str)"
   ]
  },
  {
   "cell_type": "code",
   "execution_count": null,
   "metadata": {
    "collapsed": false
   },
   "outputs": [
    {
     "name": "stdout",
     "output_type": "stream",
     "text": [
      "10000\n",
      "20000\n",
      "30000\n",
      "40000\n",
      "50000\n",
      "60000\n",
      "70000\n",
      "80000\n",
      "90000\n",
      "100000\n",
      "110000\n",
      "120000\n",
      "130000\n",
      "140000\n",
      "150000\n",
      "160000\n",
      "170000\n",
      "180000\n",
      "190000\n",
      "200000\n",
      "210000\n",
      "220000\n",
      "230000\n",
      "240000\n",
      "250000\n",
      "260000\n",
      "270000\n",
      "280000\n",
      "290000\n",
      "300000\n",
      "310000\n",
      "320000\n",
      "330000\n",
      "340000\n",
      "350000\n",
      "360000\n"
     ]
    }
   ],
   "source": [
    "# Converts the millionbase chess PGN database (http://www.top-5000.nl/pgn.htm) to json\n",
    "# with one json dictionary per row. (That is, the resulting file is contain multiple json objects, \n",
    "# not just one large).\n",
    "\n",
    "import json\n",
    "import chess.pgn # From python-chess https://github.com/niklasf/python-chess\n",
    "\n",
    "pgn = open(\"combined.pgn\") # Or where you have put it\n",
    "fout = open('combined2.json', 'w') # Or where you want it\n",
    "\n",
    "count = 0\n",
    "node = chess.pgn.read_game(pgn)\n",
    "while node != None:\n",
    "  info =  node.headers\n",
    "  info[\"fen\"] = []\n",
    "  while node.variations:\n",
    "    next_node = node.variation(0)\n",
    "    info[\"fen\"].append(node.board().fen())\n",
    "    node = next_node\n",
    "  info[\"fen\"].append(node.board().fen())\n",
    "  node = chess.pgn.read_game(pgn)\n",
    "  json.dump(info, fout, encoding='latin1')\n",
    "  fout.write('\\n')\n",
    "  count += 1\n",
    "  if(count % 10000 == 0):\n",
    "    print(count)\n",
    "\n",
    "fout.close()"
   ]
  },
  {
   "cell_type": "code",
   "execution_count": null,
   "metadata": {
    "collapsed": true
   },
   "outputs": [],
   "source": [
    "ls *.json"
   ]
  },
  {
   "cell_type": "code",
   "execution_count": null,
   "metadata": {
    "collapsed": true
   },
   "outputs": [],
   "source": []
  }
 ],
 "metadata": {
  "anaconda-cloud": {},
  "kernelspec": {
   "display_name": "Python [Root]",
   "language": "python",
   "name": "Python [Root]"
  },
  "language_info": {
   "codemirror_mode": {
    "name": "ipython",
    "version": 2
   },
   "file_extension": ".py",
   "mimetype": "text/x-python",
   "name": "python",
   "nbconvert_exporter": "python",
   "pygments_lexer": "ipython2",
   "version": "2.7.12"
  }
 },
 "nbformat": 4,
 "nbformat_minor": 0
}
