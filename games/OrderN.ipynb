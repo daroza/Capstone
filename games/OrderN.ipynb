{
 "cells": [
  {
   "cell_type": "code",
   "execution_count": 10,
   "metadata": {
    "collapsed": true
   },
   "outputs": [],
   "source": [
    "def find_anagram(lst):\n",
    "    results = set ()\n",
    "    for word1 in lst:\n",
    "        for word2 in lst:\n",
    "            if word1 != word2 and sorted(word1) == sorted(word2):\n",
    "                results.add(word1)\n",
    "                results.add(word2)\n",
    "    return list(results)"
   ]
  },
  {
   "cell_type": "code",
   "execution_count": 11,
   "metadata": {
    "collapsed": false
   },
   "outputs": [
    {
     "data": {
      "text/plain": [
       "['act', 'cat']"
      ]
     },
     "execution_count": 11,
     "metadata": {},
     "output_type": "execute_result"
    }
   ],
   "source": [
    "find_anagram([\"cat\",\"bat\",\"act\"])"
   ]
  },
  {
   "cell_type": "code",
   "execution_count": null,
   "metadata": {
    "collapsed": true
   },
   "outputs": [],
   "source": [
    "from collections import defaultdict\n",
    "'''k is number of characters in the words, n is number of words in the list, return the anagrams'''\n",
    "def find_anagram2(lst):\n",
    "    d = defaultdict(lst)\n",
    "    for word in lst:\n",
    "        d[tuple(sorted(word))].append(word)\n",
    "        results = []\n",
    "    for k in d:\n",
    "        if k in d:\n",
    "            if len(d[k]) > 1:\n",
    "                results.extend(d[k])\n",
    "                \n",
    "                # sort first and then do a lookup O(1)"
   ]
  }
 ],
 "metadata": {
  "kernelspec": {
   "display_name": "Python [Root]",
   "language": "python",
   "name": "Python [Root]"
  },
  "language_info": {
   "codemirror_mode": {
    "name": "ipython",
    "version": 2
   },
   "file_extension": ".py",
   "mimetype": "text/x-python",
   "name": "python",
   "nbconvert_exporter": "python",
   "pygments_lexer": "ipython2",
   "version": "2.7.12"
  }
 },
 "nbformat": 4,
 "nbformat_minor": 0
}
